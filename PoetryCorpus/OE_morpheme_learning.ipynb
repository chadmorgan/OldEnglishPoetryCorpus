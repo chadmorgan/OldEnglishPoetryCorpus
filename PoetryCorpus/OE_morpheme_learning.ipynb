{
 "cells": [
  {
   "cell_type": "markdown",
   "metadata": {},
   "source": [
    "Attempt at morpheme-based embedding learning. Need to try FastText model\n",
    "\n",
    "I used this [code](https://github.com/nzw0301/keras-examples/blob/master/Skip-gram-with-NS.ipynb) as a basis for learning skipgram embeddings in Keras\n",
    "\n"
   ]
  },
  {
   "cell_type": "code",
   "execution_count": 3,
   "metadata": {
    "collapsed": true
   },
   "outputs": [],
   "source": [
    "import os\n",
    "import random\n",
    "import sys\n",
    "import subprocess\n",
    "from operator import itemgetter\n",
    "\n",
    "import re\n",
    "import numpy as np\n",
    "import pandas as pd\n",
    "\n",
    "from sklearn.utils import shuffle\n",
    "from sklearn.metrics.pairwise import cosine_similarity\n",
    "from sklearn.model_selection import train_test_split\n",
    "\n",
    "import morfessor"
   ]
  },
  {
   "cell_type": "code",
   "execution_count": 4,
   "metadata": {
    "collapsed": true
   },
   "outputs": [],
   "source": [
    "import seaborn as sns\n",
    "from matplotlib import pyplot as plt\n",
    "import matplotlib\n",
    "import matplotlib.mlab as mlab\n",
    "%matplotlib inline\n",
    "\n",
    "sns.set(style=\"whitegrid\", font_scale=1.3)\n",
    "matplotlib.rcParams[\"legend.framealpha\"] = 1\n",
    "matplotlib.rcParams[\"legend.frameon\"] = True"
   ]
  },
  {
   "cell_type": "markdown",
   "metadata": {},
   "source": [
    "### Read in poetry corpus"
   ]
  },
  {
   "cell_type": "code",
   "execution_count": 34,
   "metadata": {
    "collapsed": true
   },
   "outputs": [],
   "source": [
    "# read in all the poems \n",
    "path = '/Users/ChadMorgan/Documents/old_english/OldEnglishPoetryCorpus/scraped_corpus'\n",
    "contents = os.listdir(path)"
   ]
  },
  {
   "cell_type": "code",
   "execution_count": 652,
   "metadata": {
    "collapsed": true
   },
   "outputs": [],
   "source": [
    "corpus_lines = []\n",
    "token_dict = {}\n",
    "token_set = set()\n",
    "\n",
    "for poem in contents:\n",
    "    # read full poem and split into sentences / independent clauses\n",
    "    poem_text_raw = open(path+'/'+poem).read()\n",
    "    poem_lines = re.split(\"\\.|\\!|\\?|\\;\",poem_text_raw)\n",
    "    for line in poem_lines:\n",
    "        # remove punctuation and extra whitespace\n",
    "        line = re.sub(\"\\.|\\:|\\!|\\,|\\n|\\;\",'',line)\n",
    "        line = re.sub(\"$ | ^\",'',line)\n",
    "        line_tokens = line.split(' ')\n",
    "        line_tokens_clean = []\n",
    "        for l in line_tokens:\n",
    "            if l != '':\n",
    "                # use of q is only in latin loanwords. \n",
    "                # xx should only occur in roman numerals\n",
    "                if re.search('q',l) or re.search('xx',l) or re.search('text[0-9]+',l):\n",
    "                    continue\n",
    "                # valid words must contain a vowel\n",
    "                elif re.search(\"['y','i','u','e','o','æ','a']\",l):\n",
    "                    line_tokens_clean += [l]\n",
    "                    if l not in token_set:\n",
    "                        token_dict[l] = 1\n",
    "                        token_set.add(l)\n",
    "                    else:\n",
    "                        token_dict[l] += 1\n",
    "        if len(line_tokens_clean)>0:\n",
    "            corpus_lines += [\" \".join(line_tokens_clean)]\n",
    "\n",
    "            \n",
    "flat_tokens = [item for sublist in corpus_lines for item in sublist]    "
   ]
  },
  {
   "cell_type": "code",
   "execution_count": 657,
   "metadata": {},
   "outputs": [
    {
     "name": "stdout",
     "output_type": "stream",
     "text": [
      "Top words by frequency:\n",
      "  token  freq\n",
      "0    on  4380\n",
      "1   and  3177\n",
      "2   þæt  2913\n",
      "3    þa  2168\n",
      "4    ic  2091\n",
      "5   ond  2055\n",
      "6    he  1943\n",
      "7    þe  1930\n",
      "8    ne  1867\n",
      "9    to  1813\n",
      "Unique words: 26977\n",
      "Words with one occurence: 16032 ( 59.4 %)\n"
     ]
    }
   ],
   "source": [
    "token_count = pd.DataFrame.from_dict(token_dict,orient='index').reset_index()\n",
    "token_count.columns = ['token','freq']\n",
    "token_count = token_count.sort_values('freq',ascending=False)\\\n",
    "    .reset_index(drop=True)\n",
    "print(\"Top words by frequency:\")\n",
    "print(token_count.head(10))\n",
    "\n",
    "print(\"Unique words:\",len(token_count))\n",
    "print(\"Words with one occurence:\",len(token_count[token_count['freq']==1])\n",
    "      ,\"(\",round(len(token_count[token_count['freq']==1])/len(token_count),3)*100,\"%)\")\n",
    "\n",
    "token_count = token_count[['freq','token']].reset_index()\n",
    "token_count['constant'] = 0"
   ]
  },
  {
   "cell_type": "code",
   "execution_count": 784,
   "metadata": {},
   "outputs": [
    {
     "data": {
      "text/html": [
       "<div>\n",
       "<style>\n",
       "    .dataframe thead tr:only-child th {\n",
       "        text-align: right;\n",
       "    }\n",
       "\n",
       "    .dataframe thead th {\n",
       "        text-align: left;\n",
       "    }\n",
       "\n",
       "    .dataframe tbody tr th {\n",
       "        vertical-align: top;\n",
       "    }\n",
       "</style>\n",
       "<table border=\"1\" class=\"dataframe\">\n",
       "  <thead>\n",
       "    <tr style=\"text-align: right;\">\n",
       "      <th></th>\n",
       "      <th>index</th>\n",
       "      <th>freq</th>\n",
       "      <th>token</th>\n",
       "      <th>constant</th>\n",
       "      <th>token_split</th>\n",
       "      <th>token_split_ct</th>\n",
       "    </tr>\n",
       "  </thead>\n",
       "  <tbody>\n",
       "    <tr>\n",
       "      <th>55</th>\n",
       "      <td>55</td>\n",
       "      <td>321</td>\n",
       "      <td>gif</td>\n",
       "      <td>0</td>\n",
       "      <td>[gif]</td>\n",
       "      <td>1</td>\n",
       "    </tr>\n",
       "  </tbody>\n",
       "</table>\n",
       "</div>"
      ],
      "text/plain": [
       "    index  freq token  constant token_split  token_split_ct\n",
       "55     55   321   gif         0       [gif]               1"
      ]
     },
     "execution_count": 784,
     "metadata": {},
     "output_type": "execute_result"
    }
   ],
   "source": [
    "token_count[token_count['token']=='gif']"
   ]
  },
  {
   "cell_type": "markdown",
   "metadata": {},
   "source": [
    "### Fit morphology model"
   ]
  },
  {
   "cell_type": "code",
   "execution_count": 748,
   "metadata": {},
   "outputs": [
    {
     "name": "stdout",
     "output_type": "stream",
     "text": [
      "[[4380, 0, 'on'], [3177, 0, 'and'], [2913, 0, 'þæt'], [2168, 0, 'þa'], [2091, 0, 'ic'], [2055, 0, 'ond'], [1943, 0, 'he'], [1930, 0, 'þe'], [1867, 0, 'ne'], [1813, 0, 'to'], [1642, 0, 'him'], [1380, 0, 'se'], [1280, 0, 'swa'], [1205, 0, 'his'], [1177, 0, 'mid'], [1171, 0, 'me'], [1154, 0, 'wæs'], [1053, 0, 'þu'], [1022, 0, 'in'], [893, 0, 'þær'], [800, 0, 'þonne'], [793, 0, 'þam'], [779, 0, 'is'], [700, 0, 'nu'], [695, 0, 'þæs'], [688, 0, 'of'], [661, 0, 'ofer'], [642, 0, 'hi'], [632, 0, 'god'], [623, 0, 'ða'], [616, 0, 'þurh'], [539, 0, 'drihten'], [537, 0, 'ðe'], [521, 0, 'ealle'], [503, 0, 'ær'], [476, 0, 'ac'], [442, 0, 'hine'], [442, 0, 'hie'], [434, 0, 'for'], [423, 0, 'we'], [415, 0, 'bið'], [414, 0, 'wið'], [390, 0, 'min'], [389, 0, 'ðu'], [389, 0, 'æfter'], [386, 0, 'æt'], [382, 0, 'sceal'], [366, 0, 'eac'], [364, 0, 'us'], [356, 0, 'under'], [348, 0, 'mæg'], [326, 0, 'godes'], [325, 0, 'swylce'], [322, 0, 'þone'], [321, 0, 'eft'], [321, 0, 'gif'], [317, 0, 'eorðan'], [285, 0, 'ge'], [284, 0, 'hit'], [284, 0, 'þin']]\n"
     ]
    }
   ],
   "source": [
    "token_list = token_count[['freq','constant','token']].values.tolist()\n",
    "print(token_list[0:60])"
   ]
  },
  {
   "cell_type": "code",
   "execution_count": 749,
   "metadata": {},
   "outputs": [
    {
     "data": {
      "text/plain": [
       "2069973.7557774174"
      ]
     },
     "execution_count": 749,
     "metadata": {},
     "output_type": "execute_result"
    }
   ],
   "source": [
    "morfo_model = morfessor.baseline.BaselineModel(corpusweight=0.97)\n",
    "morfo_model.load_data(data=token_list,freqthreshold=1,count_modifier=None)"
   ]
  },
  {
   "cell_type": "code",
   "execution_count": 750,
   "metadata": {},
   "outputs": [
    {
     "name": "stderr",
     "output_type": "stream",
     "text": [
      "...........................................................\n",
      "...........................................................\n",
      "...........................................................\n",
      "...........................................................\n",
      "...........................................................\n",
      "...........................................................\n",
      "...........................................................\n",
      "...........................................................\n"
     ]
    },
    {
     "data": {
      "text/plain": [
       "(8, 1889407.13420861)"
      ]
     },
     "execution_count": 750,
     "metadata": {},
     "output_type": "execute_result"
    }
   ],
   "source": [
    "morfo_model.train_batch(algorithm='recursive',finish_threshold=0.00001,max_epochs=20)"
   ]
  },
  {
   "cell_type": "code",
   "execution_count": 751,
   "metadata": {},
   "outputs": [
    {
     "name": "stdout",
     "output_type": "stream",
     "text": [
      "1 flæsca ['flæsc', 'a']\n",
      "4 gefremedan ['gefremed', 'an']\n",
      "4 fretan ['fretan']\n",
      "1 glawne ['glawne']\n",
      "1 gyddum ['gyd', 'dum']\n",
      "35 deman ['deman']\n",
      "1 ðycgganne ['ðycgg', 'anne']\n",
      "2 holdra ['hold', 'ra']\n",
      "2 hwene ['h', 'wene']\n",
      "3 acolad ['acolad']\n",
      "2 meldiað ['meld', 'iað']\n",
      "4 bringð ['bringð']\n",
      "2 sweotollice ['sweotol', 'lice']\n",
      "1 murnon ['murn', 'on']\n",
      "1 laurentius ['laurentius']\n"
     ]
    }
   ],
   "source": [
    "# example segmentation with some random words\n",
    "#random_word = token_count.sample(15,weights=token_count['freq'])['token'].values\n",
    "random_word = token_count.sample(15)['token'].values\n",
    "for w in random_word:\n",
    "    w_freq = int(token_count[token_count[\"token\"]==w][\"freq\"].values)\n",
    "    print(w_freq,w,morfo_model.segment(w))"
   ]
  },
  {
   "cell_type": "code",
   "execution_count": 752,
   "metadata": {},
   "outputs": [
    {
     "name": "stdout",
     "output_type": "stream",
     "text": [
      "423 we ['we']\n",
      "1 gardena ['gar', 'dena']\n",
      "1022 in ['in']\n",
      "13 geardagum ['geardagum']\n",
      "1 þeodcyninga ['þeod', 'cyninga']\n",
      "54 þrym ['þrym']\n",
      "7 gefrunon ['gefrunon']\n",
      "267 hu ['hu']\n",
      "623 ða ['ða']\n",
      "7 æþelingas ['æþelingas']\n",
      "34 ellen ['ellen']\n",
      "15 fremedon ['fremedon']\n"
     ]
    }
   ],
   "source": [
    "for w in beowulf_corpus_lines[1]:\n",
    "    w_freq = int(token_count[token_count[\"token\"]==w][\"freq\"].values)\n",
    "    print( w_freq,w, morfo_model.segment(w))"
   ]
  },
  {
   "cell_type": "code",
   "execution_count": 753,
   "metadata": {},
   "outputs": [
    {
     "name": "stdout",
     "output_type": "stream",
     "text": [
      "['marculfes']\n"
     ]
    }
   ],
   "source": [
    "print(morfo_model.segment('marculfes'))"
   ]
  },
  {
   "cell_type": "code",
   "execution_count": 754,
   "metadata": {
    "collapsed": true
   },
   "outputs": [],
   "source": [
    "def morpho_segmentation(w):\n",
    "    w_seg = morfo_model.segment(w)\n",
    "    if w_seg==w:\n",
    "        return([w])\n",
    "    else:\n",
    "        w_seg_alt = []\n",
    "        hold = ''\n",
    "        for i,m in enumerate(w_seg):\n",
    "            # Allow any components that contain a vowel\n",
    "            if re.search(\"['y','i','u','e','o','æ','a']\",m):\n",
    "                hold += m\n",
    "                w_seg_alt.append(hold)\n",
    "                hold=''\n",
    "            # add orphaned consonants at ending or beginning to their neighbor\n",
    "            elif i==0:\n",
    "                hold += m\n",
    "            elif i==len(w_seg)-1:\n",
    "                if m == 's':\n",
    "                    w_seg_alt.append(m)\n",
    "                else:\n",
    "                    w_seg_alt[-1] += m            \n",
    "            # if orphaned consonant is in the middle...\n",
    "            else:\n",
    "                # if one neighbor doesn't have a vowel, add it to the other\n",
    "                left_vowel=re.search(\"['y','i','u','e','o','æ','a']\",w_seg[i-1])\n",
    "                right_vowel=re.search(\"['y','i','u','e','o','æ','a']\",w_seg[i+1])\n",
    "                if not left_vowel:\n",
    "                    hold += m\n",
    "                elif not right_vowel:\n",
    "                    w_seg_alt[-1] += hold+m\n",
    "                    hold=''\n",
    "                # otherwise, add to the neighbor that results in the highest resulting corpus freq\n",
    "                else:                \n",
    "                    left_ct = 0\n",
    "                    if w_seg[i-1] in token_set:\n",
    "                        left_ct = token_dict[w_seg[i-1]]\n",
    "                    right_ct = 0\n",
    "                    if w_seg[i+1] in token_set:\n",
    "                        right_ct = token_dict[w_seg[i+1]]\n",
    "                    left_add_ct = 0\n",
    "                    if w_seg[i-1]+m in token_set:\n",
    "                        left_add_ct = token_dict[w_seg[i-1]+m]\n",
    "                    right_add_ct = 0 \n",
    "                    if w_seg[i+1]+m in token_set:\n",
    "                        right_add_ct = token_dict[w_seg[i+1]+m]\n",
    "                    left_add_total = left_add_ct + right_ct\n",
    "                    right_add_total = left_ct + right_add_ct\n",
    "                    if left_add_total > right_add_total:\n",
    "                        w_seg_alt[-1] += hold+m\n",
    "                        hold=''\n",
    "                    else:\n",
    "                        hold += m\n",
    "        return(w_seg_alt)"
   ]
  },
  {
   "cell_type": "code",
   "execution_count": 817,
   "metadata": {
    "collapsed": true
   },
   "outputs": [],
   "source": [
    "morpheme_dict = {}\n",
    "morpheme_set = set()\n",
    "for w in token_dict.keys():\n",
    "    w_seg = morpho_segmentation(w)\n",
    "    for m in w_seg:\n",
    "        if m not in morpheme_set:\n",
    "            morpheme_set.add(m)\n",
    "            morpheme_dict[m] = token_dict[w]\n",
    "        else:\n",
    "            morpheme_dict[m] += token_dict[w]"
   ]
  },
  {
   "cell_type": "code",
   "execution_count": 818,
   "metadata": {},
   "outputs": [
    {
     "name": "stdout",
     "output_type": "stream",
     "text": [
      "Top morphemes by frequency:\n",
      "   morpheme  freq\n",
      "0        on  5343\n",
      "1       and  3249\n",
      "2       þæt  2914\n",
      "3        ne  2744\n",
      "4        ge  2348\n",
      "5        þa  2232\n",
      "6       ond  2146\n",
      "7        ic  2141\n",
      "8        þe  2084\n",
      "9        he  2038\n",
      "10       to  2036\n",
      "11      him  1644\n",
      "12       se  1531\n",
      "13        a  1506\n",
      "14       me  1325\n",
      "Unique morphemes: 11981\n",
      "Morphemes with one occurence: 2835 ( 23.7 %)\n"
     ]
    }
   ],
   "source": [
    "morpheme_count = pd.DataFrame.from_dict(morpheme_dict,orient='index').reset_index()\n",
    "morpheme_count.columns = ['morpheme','freq']\n",
    "morpheme_count = morpheme_count.sort_values('freq',ascending=False)\\\n",
    "    .reset_index(drop=True)\n",
    "print(\"Top morphemes by frequency:\")\n",
    "print(morpheme_count.head(15))\n",
    "\n",
    "print(\"Unique morphemes:\",len(morpheme_count))\n",
    "print(\"Morphemes with one occurence:\",len(morpheme_count[morpheme_count['freq']==1])\n",
    "      ,\"(\",round(len(morpheme_count[morpheme_count['freq']==1])/len(morpheme_count),3)*100,\"%)\")\n",
    "\n",
    "morpheme_count = morpheme_count[['freq','morpheme']].reset_index()\n",
    "morpheme_count['constant'] = 0"
   ]
  },
  {
   "cell_type": "code",
   "execution_count": 741,
   "metadata": {},
   "outputs": [
    {
     "data": {
      "text/plain": [
       "<matplotlib.text.Text at 0x112348b70>"
      ]
     },
     "execution_count": 741,
     "metadata": {},
     "output_type": "execute_result"
    },
    {
     "data": {
      "image/png": "[encoded data removed]",
      "text/plain": [
       "<matplotlib.figure.Figure at 0x1194d3a58>"
      ]
     },
     "metadata": {},
     "output_type": "display_data"
    }
   ],
   "source": [
    "plt.plot(morpheme_count['index'],morpheme_count['freq'],linestyle='--', marker='o')\n",
    "plt.xlim([-2,100])\n",
    "plt.xlabel('morpheme rank')\n",
    "plt.ylabel('morpheme frequency')"
   ]
  },
  {
   "cell_type": "code",
   "execution_count": 756,
   "metadata": {
    "collapsed": true
   },
   "outputs": [],
   "source": [
    "token_count['token_split'] = token_count['token'].apply(lambda w: morpho_segmentation(w))"
   ]
  },
  {
   "cell_type": "code",
   "execution_count": 757,
   "metadata": {},
   "outputs": [
    {
     "data": {
      "image/png": "[encoded data removed]",
      "text/plain": [
       "<matplotlib.figure.Figure at 0x118ca20b8>"
      ]
     },
     "metadata": {},
     "output_type": "display_data"
    }
   ],
   "source": [
    "token_count['token_split_ct'] = token_count['token_split'].apply(len)\n",
    "n, bins, patches = plt.hist(token_count['token_split_ct'], 9, normed=1, facecolor='green', alpha=0.7)"
   ]
  },
  {
   "cell_type": "code",
   "execution_count": 758,
   "metadata": {},
   "outputs": [
    {
     "data": {
      "text/plain": [
       "(0, 16)"
      ]
     },
     "execution_count": 758,
     "metadata": {},
     "output_type": "execute_result"
    },
    {
     "data": {
      "image/png": "[encoded data removed]",
      "text/plain": [
       "<matplotlib.figure.Figure at 0x112d83470>"
      ]
     },
     "metadata": {},
     "output_type": "display_data"
    }
   ],
   "source": [
    "split_by_freq = token_count['token_split_ct'].groupby(token_count['freq']).mean().reset_index()\n",
    "plt.scatter(split_by_freq['freq'],split_by_freq['token_split_ct'])\n",
    "plt.plot(split_by_freq['freq'],split_by_freq['token_split_ct'])\n",
    "plt.xlim([0,16])"
   ]
  },
  {
   "cell_type": "code",
   "execution_count": 760,
   "metadata": {},
   "outputs": [
    {
     "data": {
      "text/html": [
       "<div>\n",
       "<style>\n",
       "    .dataframe thead tr:only-child th {\n",
       "        text-align: right;\n",
       "    }\n",
       "\n",
       "    .dataframe thead th {\n",
       "        text-align: left;\n",
       "    }\n",
       "\n",
       "    .dataframe tbody tr th {\n",
       "        vertical-align: top;\n",
       "    }\n",
       "</style>\n",
       "<table border=\"1\" class=\"dataframe\">\n",
       "  <thead>\n",
       "    <tr style=\"text-align: right;\">\n",
       "      <th></th>\n",
       "      <th>index</th>\n",
       "      <th>freq</th>\n",
       "      <th>token</th>\n",
       "      <th>constant</th>\n",
       "      <th>token_split</th>\n",
       "      <th>token_split_ct</th>\n",
       "    </tr>\n",
       "  </thead>\n",
       "  <tbody>\n",
       "    <tr>\n",
       "      <th>6499</th>\n",
       "      <td>6499</td>\n",
       "      <td>3</td>\n",
       "      <td>soðfæstnyss</td>\n",
       "      <td>0</td>\n",
       "      <td>[soðfæstnyss]</td>\n",
       "      <td>1</td>\n",
       "    </tr>\n",
       "    <tr>\n",
       "      <th>17649</th>\n",
       "      <td>17649</td>\n",
       "      <td>1</td>\n",
       "      <td>sinsorgna</td>\n",
       "      <td>0</td>\n",
       "      <td>[sin, sorg, na]</td>\n",
       "      <td>3</td>\n",
       "    </tr>\n",
       "    <tr>\n",
       "      <th>6592</th>\n",
       "      <td>6592</td>\n",
       "      <td>3</td>\n",
       "      <td>wineþearfende</td>\n",
       "      <td>0</td>\n",
       "      <td>[wineþearfende]</td>\n",
       "      <td>1</td>\n",
       "    </tr>\n",
       "    <tr>\n",
       "      <th>16211</th>\n",
       "      <td>16211</td>\n",
       "      <td>1</td>\n",
       "      <td>wrænnesse</td>\n",
       "      <td>0</td>\n",
       "      <td>[wrænnes, se]</td>\n",
       "      <td>2</td>\n",
       "    </tr>\n",
       "    <tr>\n",
       "      <th>10643</th>\n",
       "      <td>10643</td>\n",
       "      <td>2</td>\n",
       "      <td>ealdgestreon</td>\n",
       "      <td>0</td>\n",
       "      <td>[eald, gestreon]</td>\n",
       "      <td>2</td>\n",
       "    </tr>\n",
       "    <tr>\n",
       "      <th>5913</th>\n",
       "      <td>5913</td>\n",
       "      <td>3</td>\n",
       "      <td>iohannis</td>\n",
       "      <td>0</td>\n",
       "      <td>[iohannis]</td>\n",
       "      <td>1</td>\n",
       "    </tr>\n",
       "    <tr>\n",
       "      <th>10875</th>\n",
       "      <td>10875</td>\n",
       "      <td>2</td>\n",
       "      <td>godspel</td>\n",
       "      <td>0</td>\n",
       "      <td>[god, spel]</td>\n",
       "      <td>2</td>\n",
       "    </tr>\n",
       "    <tr>\n",
       "      <th>11201</th>\n",
       "      <td>11201</td>\n",
       "      <td>1</td>\n",
       "      <td>eorpes</td>\n",
       "      <td>0</td>\n",
       "      <td>[eorp, es]</td>\n",
       "      <td>2</td>\n",
       "    </tr>\n",
       "    <tr>\n",
       "      <th>3159</th>\n",
       "      <td>3159</td>\n",
       "      <td>7</td>\n",
       "      <td>gefrunon</td>\n",
       "      <td>0</td>\n",
       "      <td>[gefrunon]</td>\n",
       "      <td>1</td>\n",
       "    </tr>\n",
       "    <tr>\n",
       "      <th>22244</th>\n",
       "      <td>22244</td>\n",
       "      <td>1</td>\n",
       "      <td>þancedon</td>\n",
       "      <td>0</td>\n",
       "      <td>[þanc, edon]</td>\n",
       "      <td>2</td>\n",
       "    </tr>\n",
       "    <tr>\n",
       "      <th>5291</th>\n",
       "      <td>5291</td>\n",
       "      <td>4</td>\n",
       "      <td>neaweste</td>\n",
       "      <td>0</td>\n",
       "      <td>[neaweste]</td>\n",
       "      <td>1</td>\n",
       "    </tr>\n",
       "    <tr>\n",
       "      <th>1325</th>\n",
       "      <td>1325</td>\n",
       "      <td>17</td>\n",
       "      <td>hlud</td>\n",
       "      <td>0</td>\n",
       "      <td>[hlud]</td>\n",
       "      <td>1</td>\n",
       "    </tr>\n",
       "    <tr>\n",
       "      <th>8418</th>\n",
       "      <td>8418</td>\n",
       "      <td>2</td>\n",
       "      <td>ealonde</td>\n",
       "      <td>0</td>\n",
       "      <td>[eal, ond, e]</td>\n",
       "      <td>3</td>\n",
       "    </tr>\n",
       "    <tr>\n",
       "      <th>21837</th>\n",
       "      <td>21837</td>\n",
       "      <td>1</td>\n",
       "      <td>gesacu</td>\n",
       "      <td>0</td>\n",
       "      <td>[ge, sacu]</td>\n",
       "      <td>2</td>\n",
       "    </tr>\n",
       "    <tr>\n",
       "      <th>6681</th>\n",
       "      <td>6681</td>\n",
       "      <td>3</td>\n",
       "      <td>adwæscan</td>\n",
       "      <td>0</td>\n",
       "      <td>[adwæsc, an]</td>\n",
       "      <td>2</td>\n",
       "    </tr>\n",
       "  </tbody>\n",
       "</table>\n",
       "</div>"
      ],
      "text/plain": [
       "       index  freq          token  constant       token_split  token_split_ct\n",
       "6499    6499     3    soðfæstnyss         0     [soðfæstnyss]               1\n",
       "17649  17649     1      sinsorgna         0   [sin, sorg, na]               3\n",
       "6592    6592     3  wineþearfende         0   [wineþearfende]               1\n",
       "16211  16211     1      wrænnesse         0     [wrænnes, se]               2\n",
       "10643  10643     2   ealdgestreon         0  [eald, gestreon]               2\n",
       "5913    5913     3       iohannis         0        [iohannis]               1\n",
       "10875  10875     2        godspel         0       [god, spel]               2\n",
       "11201  11201     1         eorpes         0        [eorp, es]               2\n",
       "3159    3159     7       gefrunon         0        [gefrunon]               1\n",
       "22244  22244     1       þancedon         0      [þanc, edon]               2\n",
       "5291    5291     4       neaweste         0        [neaweste]               1\n",
       "1325    1325    17           hlud         0            [hlud]               1\n",
       "8418    8418     2        ealonde         0     [eal, ond, e]               3\n",
       "21837  21837     1         gesacu         0        [ge, sacu]               2\n",
       "6681    6681     3       adwæscan         0      [adwæsc, an]               2"
      ]
     },
     "execution_count": 760,
     "metadata": {},
     "output_type": "execute_result"
    }
   ],
   "source": [
    "token_count.sample(15)"
   ]
  },
  {
   "cell_type": "code",
   "execution_count": 770,
   "metadata": {
    "collapsed": true
   },
   "outputs": [],
   "source": [
    "path2 = '/Users/ChadMorgan/Documents/old_english/OldEnglishPoetryCorpus/'\n",
    "morpheme_count[morpheme_count['freq']>100][['index','morpheme','freq']].to_csv(\n",
    "    path2+\"/oe_morpheme_count.txt\",sep='\\t',index=False)"
   ]
  },
  {
   "cell_type": "markdown",
   "metadata": {},
   "source": [
    "### Skipgram context pair sampling to generate training data"
   ]
  },
  {
   "cell_type": "code",
   "execution_count": 846,
   "metadata": {
    "collapsed": true
   },
   "outputs": [],
   "source": [
    "from keras.models import Sequential, Model\n",
    "from keras.layers import Dense, Embedding, Reshape, Activation, Input, Flatten, Lambda\n",
    "from keras.layers.merge import Dot,Concatenate,Add\n",
    "from keras.utils import np_utils\n",
    "from keras.preprocessing.text import Tokenizer\n",
    "from keras.preprocessing.sequence import skipgrams, pad_sequences\n",
    "from keras.utils.np_utils import to_categorical\n",
    "from keras import backend as K"
   ]
  },
  {
   "cell_type": "code",
   "execution_count": 825,
   "metadata": {
    "collapsed": true
   },
   "outputs": [],
   "source": [
    "index_token_dict = pd.Series(token_count.token.values,index=token_count.index+1).to_dict()\n",
    "token_index_dict = pd.Series(token_count.index.values+1,index=token_count.token).to_dict()\n",
    "index_morph_dict = pd.Series(morpheme_count.morpheme.values,index=morpheme_count.index+1).to_dict()\n",
    "morph_index_dict = pd.Series(morpheme_count.index.values+1,index=morpheme_count.morpheme).to_dict()"
   ]
  },
  {
   "cell_type": "code",
   "execution_count": 829,
   "metadata": {},
   "outputs": [
    {
     "name": "stdout",
     "output_type": "stream",
     "text": [
      "wel hym þæs geweorkes ðonne he ða handlean hafað and sceawað gyf he ealteawne ende gedreogeð\n",
      "[130, 4609, 25, 21071, 109, 7, 30, 7162, 159, 2, 4443, 1465, 7, 21072, 175, 21073]\n",
      "10869\n",
      "26978\n"
     ]
    }
   ],
   "source": [
    "# create tokenized sequences from each sentence in corpus\n",
    "tokenized_corpus = []\n",
    "for line in corpus_lines:\n",
    "    line_token_idx = []\n",
    "    for t in line.split():\n",
    "        line_token_idx += [token_index_dict[t]]\n",
    "    if len(line_token_idx)>1:\n",
    "        tokenized_corpus += [line_token_idx]\n",
    "\n",
    "print(corpus_lines[10])\n",
    "print(tokenized_corpus[10])\n",
    "print(len(tokenized_corpus))\n",
    "\n",
    "V = len(token_set)+1\n",
    "print(V)"
   ]
  },
  {
   "cell_type": "code",
   "execution_count": 812,
   "metadata": {
    "collapsed": true
   },
   "outputs": [],
   "source": [
    "def token_to_morph_idx_seq(w):\n",
    "    morph_seq = []\n",
    "    w_seg = morpho_segmentation(w)\n",
    "    for m in w_seg:\n",
    "        morph_seq.append(morph_index_dict[m]+1)\n",
    "    return(morph_seq)"
   ]
  },
  {
   "cell_type": "code",
   "execution_count": 834,
   "metadata": {},
   "outputs": [
    {
     "data": {
      "text/html": [
       "<div>\n",
       "<style>\n",
       "    .dataframe thead tr:only-child th {\n",
       "        text-align: right;\n",
       "    }\n",
       "\n",
       "    .dataframe thead th {\n",
       "        text-align: left;\n",
       "    }\n",
       "\n",
       "    .dataframe tbody tr th {\n",
       "        vertical-align: top;\n",
       "    }\n",
       "</style>\n",
       "<table border=\"1\" class=\"dataframe\">\n",
       "  <thead>\n",
       "    <tr style=\"text-align: right;\">\n",
       "      <th></th>\n",
       "      <th>index</th>\n",
       "      <th>freq</th>\n",
       "      <th>token</th>\n",
       "      <th>constant</th>\n",
       "      <th>token_split</th>\n",
       "      <th>token_split_ct</th>\n",
       "    </tr>\n",
       "  </thead>\n",
       "  <tbody>\n",
       "    <tr>\n",
       "      <th>167</th>\n",
       "      <td>167</td>\n",
       "      <td>108</td>\n",
       "      <td>no</td>\n",
       "      <td>0</td>\n",
       "      <td>[no]</td>\n",
       "      <td>1</td>\n",
       "    </tr>\n",
       "  </tbody>\n",
       "</table>\n",
       "</div>"
      ],
      "text/plain": [
       "     index  freq token  constant token_split  token_split_ct\n",
       "167    167   108    no         0        [no]               1"
      ]
     },
     "execution_count": 834,
     "metadata": {},
     "output_type": "execute_result"
    }
   ],
   "source": [
    "token_count[token_count['token']=='ealteawne']"
   ]
  },
  {
   "cell_type": "code",
   "execution_count": 831,
   "metadata": {},
   "outputs": [
    {
     "data": {
      "text/plain": [
       "[151, 10445]"
      ]
     },
     "execution_count": 831,
     "metadata": {},
     "output_type": "execute_result"
    }
   ],
   "source": [
    "token_to_morph_idx_seq('ealteawne')"
   ]
  },
  {
   "cell_type": "code",
   "execution_count": 833,
   "metadata": {},
   "outputs": [
    {
     "name": "stdout",
     "output_type": "stream",
     "text": [
      "8556408\n",
      "8556408\n",
      "8556408\n",
      "[9]\n",
      "[403, 310]\n"
     ]
    }
   ],
   "source": [
    "# use skipgram context sampling to generate training pairs\n",
    "target_x = []\n",
    "context_x = []\n",
    "target_wordidx_x = []\n",
    "context_wordidx_x = []\n",
    "\n",
    "y = []\n",
    "for i, doc in enumerate(shuffle(tokenized_corpus)):\n",
    "    data, labels = skipgrams(sequence=doc, vocabulary_size=V\n",
    "                             ,window_size=5, negative_samples=5.)\n",
    "\n",
    "    for j,pair in enumerate(data):\n",
    "        try:\n",
    "\n",
    "            target_seq = token_to_morph_idx_seq(index_token_dict[pair[0]])\n",
    "            context_seq = token_to_morph_idx_seq(index_token_dict[pair[1]])\n",
    "            target_x.append(target_seq)\n",
    "            context_x.append(context_seq)\n",
    "            target_wordidx_x.append(pair[0])\n",
    "            context_wordidx_x.append(pair[1])\n",
    "            y.append(labels[j])\n",
    "        except KeyError:\n",
    "            continue\n",
    "\n",
    "print(len(target_x))\n",
    "print(len(context_x))\n",
    "print(len(y))\n",
    "\n",
    "print(target_x[0])\n",
    "print(context_x[0])"
   ]
  },
  {
   "cell_type": "code",
   "execution_count": 835,
   "metadata": {
    "collapsed": true
   },
   "outputs": [],
   "source": [
    "target_x = pad_sequences(target_x,maxlen=4)\n",
    "context_x = pad_sequences(context_x,maxlen=4)"
   ]
  },
  {
   "cell_type": "code",
   "execution_count": 836,
   "metadata": {
    "collapsed": true
   },
   "outputs": [],
   "source": [
    "# train / validation split\n",
    "target_x_train,target_x_valid, \\\n",
    "target_wordidx_train,target_wordidx_valid, \\\n",
    "context_x_train, context_x_valid, \\\n",
    "context_wordidx_train,context_wordidx_valid, \\\n",
    "y_train, y_valid = train_test_split(target_x,target_wordidx_x,context_x,context_wordidx_x,y,test_size = 0.2)"
   ]
  },
  {
   "cell_type": "code",
   "execution_count": 837,
   "metadata": {
    "collapsed": true
   },
   "outputs": [],
   "source": [
    "# convert everything to arrays\n",
    "target_x_train = np.array(target_x_train)\n",
    "target_x_valid = np.array(target_x_valid)\n",
    "target_wordidx_train = np.array(target_wordidx_train)\n",
    "target_wordidx_valid = np.array(target_wordidx_valid)\n",
    "context_x_train = np.array(context_x_train)\n",
    "context_x_valid = np.array(context_x_valid)\n",
    "context_wordidx_train = np.array(context_wordidx_train)\n",
    "context_wordidx_valid = np.array(context_wordidx_valid)"
   ]
  },
  {
   "cell_type": "markdown",
   "metadata": {},
   "source": [
    "### Word-level embedding benchmark"
   ]
  },
  {
   "cell_type": "code",
   "execution_count": 838,
   "metadata": {},
   "outputs": [
    {
     "name": "stdout",
     "output_type": "stream",
     "text": [
      "____________________________________________________________________________________________________\n",
      "Layer (type)                     Output Shape          Param #     Connected to                     \n",
      "====================================================================================================\n",
      "input_1 (InputLayer)             (None, 1)             0                                            \n",
      "____________________________________________________________________________________________________\n",
      "input_2 (InputLayer)             (None, 1)             0                                            \n",
      "____________________________________________________________________________________________________\n",
      "embedding_1 (Embedding)          (None, 1, 128)        3453184     input_1[0][0]                    \n",
      "____________________________________________________________________________________________________\n",
      "embedding_2 (Embedding)          (None, 1, 128)        3453184     input_2[0][0]                    \n",
      "____________________________________________________________________________________________________\n",
      "dot_1 (Dot)                      (None, 1, 1)          0           embedding_1[0][0]                \n",
      "                                                                   embedding_2[0][0]                \n",
      "____________________________________________________________________________________________________\n",
      "reshape_1 (Reshape)              (None, 1)             0           dot_1[0][0]                      \n",
      "____________________________________________________________________________________________________\n",
      "activation_1 (Activation)        (None, 1)             0           reshape_1[0][0]                  \n",
      "====================================================================================================\n",
      "Total params: 6,906,368\n",
      "Trainable params: 6,906,368\n",
      "Non-trainable params: 0\n",
      "____________________________________________________________________________________________________\n"
     ]
    }
   ],
   "source": [
    "dim_embedddings = 128\n",
    "\n",
    "# target word\n",
    "w_inputs = Input(shape=(1, ), dtype='int32')\n",
    "w = Embedding(V, dim_embedddings)(w_inputs)\n",
    "\n",
    "# context word\n",
    "c_inputs = Input(shape=(1, ), dtype='int32')\n",
    "c  = Embedding(V, dim_embedddings)(c_inputs)\n",
    "\n",
    "# output: dot product of target and context vectors\n",
    "o = Dot(axes=2)([w, c])\n",
    "o = Reshape((1,), input_shape=(1, 1))(o)\n",
    "o = Activation('sigmoid')(o)\n",
    "\n",
    "SkipGram = Model(inputs=[w_inputs, c_inputs], outputs=o)\n",
    "SkipGram.summary()\n",
    "SkipGram.compile(loss='binary_crossentropy', optimizer='adam',metrics=['accuracy'])"
   ]
  },
  {
   "cell_type": "code",
   "execution_count": 841,
   "metadata": {},
   "outputs": [
    {
     "name": "stdout",
     "output_type": "stream",
     "text": [
      "Train on 6845126 samples, validate on 1711282 samples\n",
      "Epoch 1/7\n",
      "6845126/6845126 [==============================] - 17303s - loss: 0.4006 - acc: 0.9004 - val_loss: 0.4227 - val_acc: 0.9093\n",
      "Epoch 2/7\n",
      "6845126/6845126 [==============================] - 16903s - loss: 0.3851 - acc: 0.9181 - val_loss: 0.4428 - val_acc: 0.9041\n",
      "Epoch 3/7\n",
      "6845126/6845126 [==============================] - 16483s - loss: 0.3413 - acc: 0.9311 - val_loss: 0.4845 - val_acc: 0.8974\n",
      "Epoch 4/7\n",
      "6845126/6845126 [==============================] - 16672s - loss: 0.3108 - acc: 0.9400 - val_loss: 0.5316 - val_acc: 0.8937\n",
      "Epoch 5/7\n",
      "6845126/6845126 [==============================] - 16460s - loss: 0.2898 - acc: 0.9461 - val_loss: 0.5823 - val_acc: 0.8896\n",
      "Epoch 6/7\n",
      "6845126/6845126 [==============================] - 17428s - loss: 0.2748 - acc: 0.9505 - val_loss: 0.6372 - val_acc: 0.8837\n",
      "Epoch 7/7\n",
      "6845126/6845126 [==============================] - 18015s - loss: 0.2636 - acc: 0.9536 - val_loss: 0.6862 - val_acc: 0.8809\n",
      "CPU times: user 3d 13h 47min 9s, sys: 1d 1h 4min 9s, total: 4d 14h 51min 19s\n",
      "Wall time: 1d 9h 7min 48s\n"
     ]
    }
   ],
   "source": [
    "%%time\n",
    "hist_word_sg = SkipGram.fit([target_wordidx_train, context_wordidx_train],\n",
    "                     y_train,\n",
    "                     batch_size=32, \n",
    "                     epochs=7, \n",
    "                     verbose=1,\n",
    "                     validation_data=([target_wordidx_valid,context_wordidx_valid]\n",
    "                                      ,y_valid))"
   ]
  },
  {
   "cell_type": "code",
   "execution_count": 843,
   "metadata": {
    "collapsed": true
   },
   "outputs": [],
   "source": [
    "path2 = \"/Users/ChadMorgan/Documents/old_english/OldEnglishPoetryCorpus/\"\n",
    "SkipGram.save(path2+'word_skipgram_model.h5')"
   ]
  },
  {
   "cell_type": "code",
   "execution_count": 844,
   "metadata": {},
   "outputs": [
    {
     "data": {
      "image/png": "[encoded data removed]",
      "text/plain": [
       "<matplotlib.figure.Figure at 0x183551a90>"
      ]
     },
     "metadata": {},
     "output_type": "display_data"
    }
   ],
   "source": [
    "plt.figure(figsize=(20, 8))\n",
    "plt.suptitle(\"Word level Skipgram\", fontsize=18)\n",
    "plt.subplot(121)\n",
    "plt.plot(hist_word_sg.history[\"loss\"], label=\"training\")\n",
    "plt.plot(hist_word_sg.history[\"val_loss\"], label=\"validation\")\n",
    "#plt.plot(hist_rnnsg.history[\"val_loss\"], label=\"Test\")\n",
    "plt.legend()\n",
    "plt.xlabel(\"Epoch\", fontsize=14)\n",
    "plt.ylabel(\"Loss\", fontsize=14)\n",
    "plt.subplot(122)\n",
    "plt.plot(hist_word_sg.history[\"acc\"], label=\"training\")\n",
    "plt.plot(hist_word_sg.history[\"val_acc\"], label=\"validation\")\n",
    "plt.legend()\n",
    "plt.xlabel(\"Epoch\", fontsize=14)\n",
    "plt.ylabel(\"Accuracy\", fontsize=14)\n",
    "plt.show()"
   ]
  },
  {
   "cell_type": "markdown",
   "metadata": {},
   "source": [
    "### Morpheme-sum compound embedding"
   ]
  },
  {
   "cell_type": "code",
   "execution_count": 867,
   "metadata": {},
   "outputs": [
    {
     "name": "stdout",
     "output_type": "stream",
     "text": [
      "11983\n",
      "11981\n"
     ]
    }
   ],
   "source": [
    "dim_embedddings = 128\n",
    "M = len(morpheme_set)+2\n",
    "\n",
    "print(M)\n",
    "print(len(morph_index_dict.keys()))"
   ]
  },
  {
   "cell_type": "code",
   "execution_count": 875,
   "metadata": {},
   "outputs": [
    {
     "name": "stdout",
     "output_type": "stream",
     "text": [
      "____________________________________________________________________________________________________\n",
      "Layer (type)                     Output Shape          Param #     Connected to                     \n",
      "====================================================================================================\n",
      "input_30 (InputLayer)            (None, 4)             0                                            \n",
      "____________________________________________________________________________________________________\n",
      "input_31 (InputLayer)            (None, 4)             0                                            \n",
      "____________________________________________________________________________________________________\n",
      "embedding_30 (Embedding)         (None, 4, 128)        1533824     input_30[0][0]                   \n",
      "____________________________________________________________________________________________________\n",
      "embedding_31 (Embedding)         (None, 4, 128)        1533824     input_31[0][0]                   \n",
      "____________________________________________________________________________________________________\n",
      "target_embed_sum (Lambda)        (None, 128)           0           embedding_30[0][0]               \n",
      "____________________________________________________________________________________________________\n",
      "lambda_28 (Lambda)               (None, 128)           0           embedding_31[0][0]               \n",
      "____________________________________________________________________________________________________\n",
      "dot_10 (Dot)                     (None, 1)             0           target_embed_sum[0][0]           \n",
      "                                                                   lambda_28[0][0]                  \n",
      "____________________________________________________________________________________________________\n",
      "reshape_9 (Reshape)              (None, 1)             0           dot_10[0][0]                     \n",
      "____________________________________________________________________________________________________\n",
      "activation_9 (Activation)        (None, 1)             0           reshape_9[0][0]                  \n",
      "====================================================================================================\n",
      "Total params: 3,067,648\n",
      "Trainable params: 3,067,648\n",
      "Non-trainable params: 0\n",
      "____________________________________________________________________________________________________\n"
     ]
    }
   ],
   "source": [
    "# target word\n",
    "word_morph_input = Input(shape=(4, ), dtype='int32')\n",
    "word_morph_embed = Embedding(M, dim_embedddings,mask_zero=True)(word_morph_input)\n",
    "#word_morph_sum = Lambda(lambda x: K.sum(x, axis=1), output_shape=lambda s: (s[0], s[2]),name=\"target_embed_sum\")(word_morph_embed)\n",
    "\n",
    "\n",
    "# context word\n",
    "context_morph_input = Input(shape=(4, ), dtype='int32')\n",
    "context_morph_embed  = Embedding(M, dim_embedddings,mask_zero=True)(context_morph_input)\n",
    "#context_morph_sum = Lambda(lambda x: K.sum(x, axis=1), output_shape=lambda s: (s[0], s[2]))(context_morph_embed)\n",
    "\n",
    "# output: dot product of target and context vectors\n",
    "dot_output = Dot(axes=1)([word_morph_sum, context_morph_sum])\n",
    "dot_output = Reshape((1,), input_shape=(1, 1))(dot_output)\n",
    "dot_output = Activation('sigmoid')(dot_output)\n",
    "\n",
    "morph_SkipGram = Model(inputs=[word_morph_input, context_morph_input], outputs=dot_output)\n",
    "morph_SkipGram.summary()\n",
    "morph_SkipGram.compile(loss='binary_crossentropy', optimizer='adam',metrics=['accuracy'])"
   ]
  },
  {
   "cell_type": "code",
   "execution_count": 869,
   "metadata": {},
   "outputs": [
    {
     "name": "stdout",
     "output_type": "stream",
     "text": [
      "Train on 6845126 samples, validate on 1711282 samples\n",
      "Epoch 1/3\n",
      "6845126/6845126 [==============================] - 7925s - loss: 0.3579 - acc: 0.8934 - val_loss: 0.3928 - val_acc: 0.8966\n",
      "Epoch 2/3\n",
      "6845126/6845126 [==============================] - 7733s - loss: 0.3758 - acc: 0.9030 - val_loss: 0.4453 - val_acc: 0.8830\n",
      "Epoch 3/3\n",
      "6845126/6845126 [==============================] - 8028s - loss: 0.3598 - acc: 0.9126 - val_loss: 0.4896 - val_acc: 0.8802\n",
      "CPU times: user 16h 51min 40s, sys: 4h 33min 31s, total: 21h 25min 11s\n",
      "Wall time: 6h 34min 49s\n"
     ]
    }
   ],
   "source": [
    "%%time\n",
    "hist_morph_sg = morph_SkipGram.fit([target_x_train, context_x_train],\n",
    "                     y_train,\n",
    "                     batch_size=32, \n",
    "                     epochs=3, \n",
    "                     verbose=1,\n",
    "                     validation_data=([target_x_valid,context_x_valid]\n",
    "                                      ,y_valid))"
   ]
  },
  {
   "cell_type": "code",
   "execution_count": 870,
   "metadata": {
    "collapsed": true
   },
   "outputs": [],
   "source": [
    "morph_SkipGram.save(path2+'morph_skipgram_model.h5')"
   ]
  },
  {
   "cell_type": "code",
   "execution_count": 871,
   "metadata": {},
   "outputs": [
    {
     "data": {
      "image/png": "[encoded data removed]",
      "text/plain": [
       "<matplotlib.figure.Figure at 0x18c7af198>"
      ]
     },
     "metadata": {},
     "output_type": "display_data"
    }
   ],
   "source": [
    "plt.figure(figsize=(20, 8))\n",
    "plt.suptitle(\"Word level Skipgram\", fontsize=18)\n",
    "plt.subplot(121)\n",
    "plt.plot(hist_morph_sg.history[\"loss\"], label=\"training\")\n",
    "plt.plot(hist_morph_sg.history[\"val_loss\"], label=\"validation\")\n",
    "#plt.plot(hist_rnnsg.history[\"val_loss\"], label=\"Test\")\n",
    "plt.legend()\n",
    "plt.xlabel(\"Epoch\", fontsize=14)\n",
    "plt.ylabel(\"Loss\", fontsize=14)\n",
    "plt.subplot(122)\n",
    "plt.plot(hist_morph_sg.history[\"acc\"], label=\"training\")\n",
    "plt.plot(hist_morph_sg.history[\"val_acc\"], label=\"validation\")\n",
    "plt.legend()\n",
    "plt.xlabel(\"Epoch\", fontsize=14)\n",
    "plt.ylabel(\"Accuracy\", fontsize=14)\n",
    "plt.show()"
   ]
  },
  {
   "cell_type": "code",
   "execution_count": 876,
   "metadata": {},
   "outputs": [
    {
     "name": "stderr",
     "output_type": "stream",
     "text": [
      "/Users/ChadMorgan/anaconda/lib/python3.6/site-packages/ipykernel_launcher.py:2: UserWarning: Update your `Model` call to the Keras 2 API: `Model(inputs=[<tf.Tenso..., outputs=Tensor(\"ta...)`\n",
      "  \n"
     ]
    }
   ],
   "source": [
    "embed_extract = Model(input=[word_morph_input]\n",
    "                      , output=morph_SkipGram.get_layer(\"target_embed_sum\").output)"
   ]
  },
  {
   "cell_type": "code",
   "execution_count": 889,
   "metadata": {
    "collapsed": true
   },
   "outputs": [],
   "source": [
    "w_ft_matrix = []\n",
    "for w in token_index_dict.keys():\n",
    "    try:\n",
    "        w_ft_matrix.append(token_to_morph_idx_seq(w))\n",
    "    except KeyError:\n",
    "        print(w)\n",
    "w_ft_matrix = pad_sequences(w_ft_matrix,maxlen=4)"
   ]
  },
  {
   "cell_type": "code",
   "execution_count": 897,
   "metadata": {},
   "outputs": [
    {
     "data": {
      "text/plain": [
       "array([[   0,    0, 4511,  400],\n",
       "       [   0,    0,  902,  307],\n",
       "       [   0,    0, 3591, 3600],\n",
       "       [   0,    0, 2519, 3112],\n",
       "       [   0,    0,    0, 6705],\n",
       "       [   0,    0, 1197,  102],\n",
       "       [   0,    0,    6, 9722],\n",
       "       [   0,    0,  130,  514],\n",
       "       [   0,    0, 3345, 1260],\n",
       "       [   0,    0,    0, 7015],\n",
       "       [   0,    0, 3559,   82],\n",
       "       [   0,   27, 2073,   26],\n",
       "       [   0,    0, 1711,  580],\n",
       "       [   0,    0,  348,  899],\n",
       "       [   0,    0,  954, 6015],\n",
       "       [   0,    0,    0, 9721],\n",
       "       [   0,    0, 6197,  577],\n",
       "       [   0,    6,  903, 9723],\n",
       "       [   0,    0, 1461, 3855],\n",
       "       [   0, 4235,   42,    5]], dtype=int32)"
      ]
     },
     "execution_count": 897,
     "metadata": {},
     "output_type": "execute_result"
    }
   ],
   "source": [
    "w_ft_matrix[15000:15020]"
   ]
  },
  {
   "cell_type": "code",
   "execution_count": 893,
   "metadata": {
    "collapsed": true
   },
   "outputs": [],
   "source": [
    "char_sg_embed = embed_extract.predict(w_ft_matrix)"
   ]
  },
  {
   "cell_type": "code",
   "execution_count": 895,
   "metadata": {},
   "outputs": [
    {
     "data": {
      "text/plain": [
       "(26977, 128)"
      ]
     },
     "execution_count": 895,
     "metadata": {},
     "output_type": "execute_result"
    }
   ],
   "source": [
    "char_sg_embed.shape"
   ]
  },
  {
   "cell_type": "markdown",
   "metadata": {},
   "source": [
    "### Morpheme embedding\n",
    "\n",
    "Split embeddings into morphemes within sentences and learn usual skipgram w2v embedding at morpheme level"
   ]
  },
  {
   "cell_type": "code",
   "execution_count": 899,
   "metadata": {
    "collapsed": true
   },
   "outputs": [],
   "source": [
    "import gensim"
   ]
  },
  {
   "cell_type": "code",
   "execution_count": 920,
   "metadata": {
    "collapsed": true
   },
   "outputs": [],
   "source": [
    "corpus_morph_seq = []\n",
    "for line in corpus_lines:\n",
    "    line_morph_seq = []\n",
    "    for word in line.split():\n",
    "        for m in morpho_segmentation(word):\n",
    "            line_morph_seq.append(m)\n",
    "    corpus_morph_seq.append(line_morph_seq)"
   ]
  },
  {
   "cell_type": "code",
   "execution_count": 923,
   "metadata": {},
   "outputs": [
    {
     "name": "stdout",
     "output_type": "stream",
     "text": [
      "[['æla', 'dema', 'god'], ['geara', 'me', 'ece', 'waldend'], ['ic', 'wat', 'mine', 'saule', 'synnum', 'forwundod']]\n"
     ]
    }
   ],
   "source": [
    "#print(corpus_lines[4])\n",
    "print(corpus_morph_seq[1:4])"
   ]
  },
  {
   "cell_type": "code",
   "execution_count": 964,
   "metadata": {
    "collapsed": true
   },
   "outputs": [],
   "source": [
    "model = gensim.models.Word2Vec(size=256, window=5, min_count=1,iter=50,sg=1,negative=7)\n",
    "model.build_vocab(corpus_morph_seq)"
   ]
  },
  {
   "cell_type": "code",
   "execution_count": 965,
   "metadata": {},
   "outputs": [
    {
     "data": {
      "text/plain": [
       "8600701"
      ]
     },
     "execution_count": 965,
     "metadata": {},
     "output_type": "execute_result"
    }
   ],
   "source": [
    "model.train(shuffle(corpus_morph_seq),total_examples=model.corpus_count,epochs=model.iter)"
   ]
  },
  {
   "cell_type": "code",
   "execution_count": 961,
   "metadata": {},
   "outputs": [
    {
     "data": {
      "text/plain": [
       "[('etonisc', 0.5869967937469482),\n",
       " ('iren', 0.5518656373023987),\n",
       " ('entiscne', 0.5518093109130859),\n",
       " ('styled', 0.5470833778381348),\n",
       " ('dyhttig', 0.5365559458732605),\n",
       " ('siþadest', 0.5333367586135864),\n",
       " ('byrnan', 0.5231094360351562),\n",
       " ('ongenðiow', 0.5175120234489441),\n",
       " ('þruen', 0.5156667232513428),\n",
       " ('nhilt', 0.5070812702178955)]"
      ]
     },
     "execution_count": 961,
     "metadata": {},
     "output_type": "execute_result"
    }
   ],
   "source": [
    "model.wv.most_similar(positive=['sweord'])"
   ]
  },
  {
   "cell_type": "code",
   "execution_count": null,
   "metadata": {
    "collapsed": true
   },
   "outputs": [],
   "source": []
  }
 ],
 "metadata": {
  "kernelspec": {
   "display_name": "Python 3",
   "language": "python",
   "name": "python3"
  },
  "language_info": {
   "codemirror_mode": {
    "name": "ipython",
    "version": 3
   },
   "file_extension": ".py",
   "mimetype": "text/x-python",
   "name": "python",
   "nbconvert_exporter": "python",
   "pygments_lexer": "ipython3",
   "version": "3.6.1"
  }
 },
 "nbformat": 4,
 "nbformat_minor": 2
}
