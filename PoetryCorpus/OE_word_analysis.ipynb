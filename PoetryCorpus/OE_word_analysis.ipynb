{
 "cells": [
  {
   "cell_type": "code",
   "execution_count": 4,
   "metadata": {},
   "outputs": [
    {
     "name": "stderr",
     "output_type": "stream",
     "text": [
      "Using TensorFlow backend.\n"
     ]
    }
   ],
   "source": [
    "import os\n",
    "import random\n",
    "import sys\n",
    "import subprocess\n",
    "from operator import itemgetter\n",
    "\n",
    "import re\n",
    "import numpy as np\n",
    "import pandas as pd\n",
    "from sklearn.utils import shuffle\n",
    "from sklearn.metrics.pairwise import cosine_similarity\n",
    "from sklearn.model_selection import train_test_split\n",
    "import gensim\n",
    "\n",
    "from keras.models import Sequential, Model\n",
    "from keras.layers import Dense, Embedding, Reshape, Activation, Input, Flatten\n",
    "from keras.layers.convolutional import Conv1D\n",
    "from keras.layers.recurrent import GRU,LSTM\n",
    "from keras.layers.pooling import MaxPooling1D\n",
    "from keras.layers.normalization import BatchNormalization\n",
    "from keras.layers.merge import Dot,Concatenate\n",
    "from keras.utils import np_utils\n",
    "from keras.utils.data_utils import get_file\n",
    "from keras.preprocessing.text import Tokenizer\n",
    "from keras.preprocessing.sequence import skipgrams, pad_sequences\n",
    "from keras.utils.np_utils import to_categorical\n",
    "from keras import backend as K"
   ]
  },
  {
   "cell_type": "code",
   "execution_count": 5,
   "metadata": {
    "collapsed": true
   },
   "outputs": [],
   "source": [
    "import seaborn as sns\n",
    "from matplotlib import pyplot as plt\n",
    "import matplotlib\n",
    "import matplotlib.mlab as mlab\n",
    "%matplotlib inline\n",
    "\n",
    "sns.set(style=\"whitegrid\", font_scale=1.3)\n",
    "matplotlib.rcParams[\"legend.framealpha\"] = 1\n",
    "matplotlib.rcParams[\"legend.frameon\"] = True"
   ]
  },
  {
   "cell_type": "markdown",
   "metadata": {},
   "source": [
    "## Word analysis with Old English poetry corpus\n",
    "This notebook works with the Old English poetry corpus made publicly available by  Murray McGillivray at the University of Calgary (http://people.ucalgary.ca/~mmcgilli/OEPoetry/)\n",
    "\n",
    "* basic word analyses\n",
    "* simple embeddings\n",
    "* phonological distance for comparing words"
   ]
  },
  {
   "cell_type": "markdown",
   "metadata": {},
   "source": [
    "### Read in Old English poetry corpus "
   ]
  },
  {
   "cell_type": "code",
   "execution_count": 6,
   "metadata": {
    "collapsed": true
   },
   "outputs": [],
   "source": [
    "# read in all the poems \n",
    "path = '/Users/ChadMorgan/Documents/old_english/OldEnglishPoetryCorpus/scraped_corpus'\n",
    "contents = os.listdir(path)"
   ]
  },
  {
   "cell_type": "code",
   "execution_count": 4,
   "metadata": {},
   "outputs": [
    {
     "name": "stdout",
     "output_type": "stream",
     "text": [
      "a_prayer.txt\n",
      "a_proverb_from_winfrids_time.txt\n",
      "a_summons_to_prayer.txt\n",
      "aldhelm.txt\n",
      "almsgiving.txt\n",
      "an_exhortation_to_christian_living.txt\n",
      "andreas.txt\n",
      "azarias.txt\n",
      "bedes_death_song_northumbrian_version.txt\n",
      "bedes_death_song_the_hague_version.txt\n",
      "bedes_death_song_west_saxon_version.txt\n",
      "beowulf.txt\n",
      "caedmons_hymn_northumbrian_version.txt\n",
      "caedmons_hymn_west_saxon_version.txt\n",
      "christ_a_b_c.txt\n",
      "christ_and_satan.txt\n",
      "daniel.txt\n",
      "deor.txt\n",
      "durham.txt\n",
      "elene.txt\n",
      "exodus.txt\n",
      "fragments_of_psalms_psalm_101.txt\n",
      "fragments_of_psalms_psalm_102.txt\n",
      "fragments_of_psalms_psalm_118.txt\n",
      "fragments_of_psalms_psalm_121.txt\n",
      "fragments_of_psalms_psalm_139.txt\n",
      "fragments_of_psalms_psalm_140.txt\n",
      "fragments_of_psalms_psalm_19.txt\n",
      "fragments_of_psalms_psalm_24.txt\n",
      "fragments_of_psalms_psalm_27.txt\n",
      "fragments_of_psalms_psalm_32.txt\n",
      "fragments_of_psalms_psalm_34.txt\n",
      "fragments_of_psalms_psalm_40.txt\n",
      "fragments_of_psalms_psalm_43.txt\n",
      "fragments_of_psalms_psalm_5.txt\n",
      "fragments_of_psalms_psalm_50.txt\n",
      "fragments_of_psalms_psalm_53.txt\n",
      "fragments_of_psalms_psalm_58.txt\n",
      "fragments_of_psalms_psalm_60.txt\n",
      "fragments_of_psalms_psalm_64.txt\n",
      "fragments_of_psalms_psalm_69.txt\n",
      "fragments_of_psalms_psalm_70.txt\n",
      "fragments_of_psalms_psalm_79.txt\n",
      "fragments_of_psalms_psalm_84.txt\n",
      "fragments_of_psalms_psalm_87.txt\n",
      "fragments_of_psalms_psalm_89.txt\n",
      "genesis.txt\n",
      "guthlac_a_b.txt\n",
      "homiletic_fragment_i.txt\n",
      "homiletic_fragment_ii.txt\n",
      "judith.txt\n",
      "juliana.txt\n",
      "latinenglish_proverbs.txt\n",
      "maxims_i.txt\n",
      "maxims_ii.txt\n",
      "metrical_charm_10_for_loss_of_cattle.txt\n",
      "metrical_charm_11_a_journey_charm.txt\n",
      "metrical_charm_12_against_a_wen.txt\n",
      "metrical_charm_1_to_restore_farmland.txt\n",
      "metrical_charm_2_the_nine_herbs_charm.txt\n",
      "metrical_charm_3_against_a_dwarf.txt\n",
      "metrical_charm_4_to_stop_a_stabbing_pain.txt\n",
      "metrical_charm_5_for_loss_of_cattle.txt\n",
      "metrical_charm_6_for_delayed_birth.txt\n",
      "metrical_charm_7_for_the_waterelf_disease.txt\n",
      "metrical_charm_8_for_a_swarm_of_bees.txt\n",
      "metrical_charm_9_for_loss_of_cattle.txt\n",
      "metrical_epilogue_to_the_pastoral_care.txt\n",
      "metrical_preface_to_the_pastoral_care.txt\n",
      "pharaoh.txt\n",
      "precepts.txt\n",
      "psalm_50.txt\n",
      "resignation.txt\n",
      "riddle_1.txt\n",
      "riddle_10.txt\n",
      "riddle_11.txt\n",
      "riddle_13.txt\n",
      "riddle_14.txt\n",
      "riddle_15.txt\n",
      "riddle_16.txt\n",
      "riddle_17.txt\n",
      "riddle_18.txt\n",
      "riddle_19.txt\n",
      "riddle_2.txt\n",
      "riddle_20.txt\n",
      "riddle_21.txt\n",
      "riddle_22.txt\n",
      "riddle_23.txt\n",
      "riddle_24.txt\n",
      "riddle_25.txt\n",
      "riddle_26.txt\n",
      "riddle_27.txt\n",
      "riddle_28.txt\n",
      "riddle_29.txt\n",
      "riddle_3.txt\n",
      "riddle_30.txt\n",
      "riddle_30b.txt\n",
      "riddle_31.txt\n",
      "riddle_32.txt\n",
      "riddle_33.txt\n",
      "riddle_34.txt\n",
      "riddle_35.txt\n",
      "riddle_36.txt\n",
      "riddle_37.txt\n",
      "riddle_38.txt\n",
      "riddle_39.txt\n",
      "riddle_4.txt\n",
      "riddle_40.txt\n",
      "riddle_41.txt\n",
      "riddle_42.txt\n",
      "riddle_43.txt\n",
      "riddle_44.txt\n",
      "riddle_45.txt\n",
      "riddle_46.txt\n",
      "riddle_47.txt\n",
      "riddle_48.txt\n",
      "riddle_49.txt\n",
      "riddle_5.txt\n",
      "riddle_50.txt\n",
      "riddle_51.txt\n",
      "riddle_52.txt\n",
      "riddle_53.txt\n",
      "riddle_54.txt\n",
      "riddle_55.txt\n",
      "riddle_56.txt\n",
      "riddle_57.txt\n",
      "riddle_58.txt\n",
      "riddle_59.txt\n",
      "riddle_6.txt\n",
      "riddle_60.txt\n",
      "riddle_61.txt\n",
      "riddle_62.txt\n",
      "riddle_63.txt\n",
      "riddle_64.txt\n",
      "riddle_65.txt\n",
      "riddle_66.txt\n",
      "riddle_67.txt\n",
      "riddle_68.txt\n",
      "riddle_69.txt\n",
      "riddle_7.txt\n",
      "riddle_70.txt\n",
      "riddle_71.txt\n",
      "riddle_72.txt\n",
      "riddle_73.txt\n",
      "riddle_74.txt\n",
      "riddle_75.txt\n",
      "riddle_76.txt\n",
      "riddle_77.txt\n",
      "riddle_78.txt\n",
      "riddle_79.txt\n",
      "riddle_8.txt\n",
      "riddle_80.txt\n",
      "riddle_81.txt\n",
      "riddle_82.txt\n",
      "riddle_83.txt\n",
      "riddle_84.txt\n",
      "riddle_85.txt\n",
      "riddle_86.txt\n",
      "riddle_87.txt\n",
      "riddle_88.txt\n",
      "riddle_89.txt\n",
      "riddle_9.txt\n",
      "riddle_91.txt\n",
      "riddle_92.txt\n",
      "riddle_93.txt\n",
      "riddle_94.txt\n",
      "riddle_95.txt\n",
      "solomon_and_saturn.txt\n",
      "soul_and_body_i.txt\n",
      "soul_and_body_ii.txt\n",
      "the_battle_of_brunanburh.txt\n",
      "the_battle_of_finnsburh.txt\n",
      "the_battle_of_maldon.txt\n",
      "the_brussels_cross.txt\n",
      "the_capture_of_the_five_boroughs.txt\n",
      "the_coronation_of_edgar.txt\n",
      "the_creed.txt\n",
      "the_death_of_alfred.txt\n",
      "the_death_of_edgar.txt\n",
      "the_death_of_edward.txt\n",
      "the_descent_into_hell.txt\n",
      "the_dream_of_the_rood.txt\n",
      "the_fates_of_the_apostles.txt\n",
      "the_fortunes_of_men.txt\n",
      "the_gifts_of_men.txt\n",
      "the_gloria_i.txt\n",
      "the_gloria_ii.txt\n",
      "the_husbands_message.txt\n",
      "the_judgment_day_i.txt\n",
      "the_judgment_day_ii.txt\n",
      "the_kentish_hymn.txt\n",
      "the_leiden_riddle.txt\n",
      "the_lords_prayer_i.txt\n",
      "the_lords_prayer_ii.txt\n",
      "the_lords_prayer_iii.txt\n",
      "the_meters_of_boethius_meter_1.txt\n",
      "the_meters_of_boethius_meter_10.txt\n",
      "the_meters_of_boethius_meter_11.txt\n",
      "the_meters_of_boethius_meter_12.txt\n",
      "the_meters_of_boethius_meter_13.txt\n",
      "the_meters_of_boethius_meter_14.txt\n",
      "the_meters_of_boethius_meter_15.txt\n",
      "the_meters_of_boethius_meter_16.txt\n",
      "the_meters_of_boethius_meter_17.txt\n",
      "the_meters_of_boethius_meter_18.txt\n",
      "the_meters_of_boethius_meter_19.txt\n",
      "the_meters_of_boethius_meter_2.txt\n",
      "the_meters_of_boethius_meter_20.txt\n",
      "the_meters_of_boethius_meter_21.txt\n",
      "the_meters_of_boethius_meter_22.txt\n",
      "the_meters_of_boethius_meter_23.txt\n",
      "the_meters_of_boethius_meter_24.txt\n",
      "the_meters_of_boethius_meter_25.txt\n",
      "the_meters_of_boethius_meter_26.txt\n",
      "the_meters_of_boethius_meter_27.txt\n",
      "the_meters_of_boethius_meter_28.txt\n",
      "the_meters_of_boethius_meter_29.txt\n",
      "the_meters_of_boethius_meter_3.txt\n",
      "the_meters_of_boethius_meter_30.txt\n",
      "the_meters_of_boethius_meter_31.txt\n",
      "the_meters_of_boethius_meter_4.txt\n",
      "the_meters_of_boethius_meter_5.txt\n",
      "the_meters_of_boethius_meter_6.txt\n",
      "the_meters_of_boethius_meter_7.txt\n",
      "the_meters_of_boethius_meter_8.txt\n",
      "the_meters_of_boethius_meter_9.txt\n",
      "the_meters_of_boethius_proem.txt\n",
      "the_metrical_epilogue_to_ms_41_corpus_christi_college_cambridge.txt\n",
      "the_metrical_preface_to_waerferths_translation_of_gregorys_dialogues.txt\n",
      "the_mologium.txt\n",
      "the_order_of_the_world.txt\n",
      "the_panther.txt\n",
      "the_paris_psalter_psalm_100.txt\n",
      "the_paris_psalter_psalm_101.txt\n",
      "the_paris_psalter_psalm_102.txt\n",
      "the_paris_psalter_psalm_103.txt\n",
      "the_paris_psalter_psalm_104.txt\n",
      "the_paris_psalter_psalm_105.txt\n",
      "the_paris_psalter_psalm_106.txt\n",
      "the_paris_psalter_psalm_107.txt\n",
      "the_paris_psalter_psalm_108.txt\n",
      "the_paris_psalter_psalm_109.txt\n",
      "the_paris_psalter_psalm_110.txt\n",
      "the_paris_psalter_psalm_111.txt\n",
      "the_paris_psalter_psalm_112.txt\n",
      "the_paris_psalter_psalm_113.txt\n",
      "the_paris_psalter_psalm_114.txt\n",
      "the_paris_psalter_psalm_115.txt\n",
      "the_paris_psalter_psalm_116.txt\n",
      "the_paris_psalter_psalm_117.txt\n",
      "the_paris_psalter_psalm_118.txt\n",
      "the_paris_psalter_psalm_119.txt\n",
      "the_paris_psalter_psalm_120.txt\n",
      "the_paris_psalter_psalm_121.txt\n",
      "the_paris_psalter_psalm_122.txt\n",
      "the_paris_psalter_psalm_123.txt\n",
      "the_paris_psalter_psalm_124.txt\n",
      "the_paris_psalter_psalm_125.txt\n",
      "the_paris_psalter_psalm_126.txt\n",
      "the_paris_psalter_psalm_127.txt\n",
      "the_paris_psalter_psalm_128.txt\n",
      "the_paris_psalter_psalm_129.txt\n",
      "the_paris_psalter_psalm_130.txt\n",
      "the_paris_psalter_psalm_131.txt\n",
      "the_paris_psalter_psalm_132.txt\n",
      "the_paris_psalter_psalm_133.txt\n",
      "the_paris_psalter_psalm_134.txt\n",
      "the_paris_psalter_psalm_135.txt\n",
      "the_paris_psalter_psalm_136.txt\n",
      "the_paris_psalter_psalm_137.txt\n",
      "the_paris_psalter_psalm_138.txt\n",
      "the_paris_psalter_psalm_139.txt\n",
      "the_paris_psalter_psalm_140.txt\n",
      "the_paris_psalter_psalm_141.txt\n",
      "the_paris_psalter_psalm_142.txt\n",
      "the_paris_psalter_psalm_143.txt\n",
      "the_paris_psalter_psalm_144.txt\n",
      "the_paris_psalter_psalm_145.txt\n",
      "the_paris_psalter_psalm_146.txt\n",
      "the_paris_psalter_psalm_147.txt\n",
      "the_paris_psalter_psalm_148.txt\n",
      "the_paris_psalter_psalm_149.txt\n",
      "the_paris_psalter_psalm_150.txt\n",
      "the_paris_psalter_psalm_51.txt\n",
      "the_paris_psalter_psalm_52.txt\n",
      "the_paris_psalter_psalm_53.txt\n",
      "the_paris_psalter_psalm_54.txt\n",
      "the_paris_psalter_psalm_55.txt\n",
      "the_paris_psalter_psalm_56.txt\n",
      "the_paris_psalter_psalm_57.txt\n",
      "the_paris_psalter_psalm_58.txt\n",
      "the_paris_psalter_psalm_59.txt\n",
      "the_paris_psalter_psalm_60.txt\n",
      "the_paris_psalter_psalm_61.txt\n",
      "the_paris_psalter_psalm_62.txt\n",
      "the_paris_psalter_psalm_63.txt\n",
      "the_paris_psalter_psalm_64.txt\n",
      "the_paris_psalter_psalm_65.txt\n",
      "the_paris_psalter_psalm_66.txt\n",
      "the_paris_psalter_psalm_67.txt\n",
      "the_paris_psalter_psalm_68.txt\n",
      "the_paris_psalter_psalm_69.txt\n",
      "the_paris_psalter_psalm_70.txt\n",
      "the_paris_psalter_psalm_71.txt\n",
      "the_paris_psalter_psalm_72.txt\n",
      "the_paris_psalter_psalm_73.txt\n",
      "the_paris_psalter_psalm_74.txt\n",
      "the_paris_psalter_psalm_75.txt\n",
      "the_paris_psalter_psalm_76.txt\n",
      "the_paris_psalter_psalm_77.txt\n",
      "the_paris_psalter_psalm_78.txt\n",
      "the_paris_psalter_psalm_79.txt\n",
      "the_paris_psalter_psalm_80.txt\n",
      "the_paris_psalter_psalm_81.txt\n",
      "the_paris_psalter_psalm_82.txt\n",
      "the_paris_psalter_psalm_83.txt\n",
      "the_paris_psalter_psalm_84.txt\n",
      "the_paris_psalter_psalm_85.txt\n",
      "the_paris_psalter_psalm_86.txt\n",
      "the_paris_psalter_psalm_87.txt\n",
      "the_paris_psalter_psalm_88.txt\n",
      "the_paris_psalter_psalm_89.txt\n",
      "the_paris_psalter_psalm_90.txt\n",
      "the_paris_psalter_psalm_91.txt\n",
      "the_paris_psalter_psalm_92.txt\n",
      "the_paris_psalter_psalm_93.txt\n",
      "the_paris_psalter_psalm_94.txt\n",
      "the_paris_psalter_psalm_95.txt\n",
      "the_paris_psalter_psalm_96.txt\n",
      "the_paris_psalter_psalm_97.txt\n",
      "the_paris_psalter_psalm_98.txt\n",
      "the_paris_psalter_psalm_99.txt\n",
      "the_partridge.txt\n",
      "the_phoenix.txt\n",
      "the_riming_poem.txt\n",
      "the_ruin.txt\n",
      "the_rune_poem.txt\n",
      "the_seafarer.txt\n",
      "the_seasons_for_fasting.txt\n",
      "the_wanderer.txt\n",
      "the_whale.txt\n",
      "the_wifes_lament.txt\n",
      "thureth.txt\n",
      "vainglory.txt\n",
      "waldere_a.txt\n",
      "waldere_b.txt\n",
      "widsith.txt\n",
      "wulf_and_eadwacer.txt\n"
     ]
    }
   ],
   "source": [
    "for poem in contents:\n",
    "    print(poem)"
   ]
  },
  {
   "cell_type": "markdown",
   "metadata": {},
   "source": [
    "#### Example poem: Wuld and Eadwacer"
   ]
  },
  {
   "cell_type": "code",
   "execution_count": 199,
   "metadata": {},
   "outputs": [
    {
     "name": "stdout",
     "output_type": "stream",
     "text": [
      "Wulf and Eadwacer\n",
      "\n",
      "['leodum', 'is', 'minum', 'swylce', 'him', 'mon', 'lac', 'gife']\n",
      "['willað', 'hy', 'hine', 'aþecgan', 'gif', 'he', 'on', 'þreat', 'cymeð']\n",
      "['ungelic', 'is', 'us']\n",
      "['wulf', 'is', 'on', 'iege', 'ic', 'on', 'oþerre']\n",
      "['fæst', 'is', 'þæt', 'eglond', 'fenne', 'biworpen']\n",
      "['sindon', 'wælreowe', 'weras', 'þær', 'on', 'ige']\n",
      "['willað', 'hy', 'hine', 'aþecgan', 'gif', 'he', 'on', 'þreat', 'cymeð']\n",
      "['ungelice', 'is', 'us']\n",
      "['wulfes', 'ic', 'mines', 'widlastum', 'wenum', 'hogode']\n",
      "['þonne', 'hit', 'wæs', 'renig', 'weder', 'ond', 'ic', 'reotugu', 'sæt', 'þonne', 'mec', 'se', 'beaducafa', 'bogum', 'bilegde', 'wæs', 'me', 'wyn', 'to', 'þon', 'wæs', 'me', 'hwæþre', 'eac', 'lað']\n",
      "['wulf', 'min', 'wulf', 'wena', 'me', 'þine', 'seoce', 'gedydon', 'þine', 'seldcymas', 'murnende', 'mod', 'nales', 'meteliste']\n",
      "['gehyrest', 'þu', 'eadwacer', 'uncerne', 'earmne', 'hwelp', 'bireð', 'wulf', 'to', 'wuda']\n",
      "['þæt', 'mon', 'eaþe', 'tosliteð', 'þætte', 'næfre', 'gesomnad', 'wæs', 'uncer', 'giedd', 'geador']\n",
      "[]\n"
     ]
    }
   ],
   "source": [
    "print(\"Wulf and Eadwacer\\n\")\n",
    "poem_text_raw = open(path+'/'+\"wulf_and_eadwacer.txt\").read()\n",
    "poem_lines = re.split(\"\\.|\\!|\\?|\\;\",poem_text_raw)\n",
    "for line in poem_lines:\n",
    "    # remove punctuation and extra whitespace\n",
    "    line = re.sub(\"\\.|\\:|\\!|\\,|\\n|\\;\",'',line)\n",
    "    line = re.sub(\"$ | ^\",'',line)\n",
    "    line_tokens = line.split(' ')\n",
    "    line_tokens_clean = []\n",
    "    for l in line_tokens:\n",
    "        if l != '':\n",
    "            # use of q is only in latin loanwords. \n",
    "            # xx should only occur in roman numerals\n",
    "            if re.search('q',l) or re.search('xx',l):\n",
    "                continue\n",
    "            # valid words must contain a vowel\n",
    "            elif re.search(\"['y','i','u','e','o','æ','a']\",l):\n",
    "                line_tokens_clean += [l]\n",
    "    print(line_tokens_clean)"
   ]
  },
  {
   "cell_type": "markdown",
   "metadata": {},
   "source": [
    "#### Read in all poems and save list of sentences"
   ]
  },
  {
   "cell_type": "code",
   "execution_count": 10,
   "metadata": {
    "collapsed": true
   },
   "outputs": [],
   "source": [
    "corpus_lines = []\n",
    "token_set = set()\n",
    "token_dict = {}\n",
    "poem_line_ct = []\n",
    "\n",
    "# contents0 = [\n",
    "#              \"beowulf.txt\",\n",
    "#             \"the_wanderer.txt\",\"the_seafarer.txt\",\"widsith.txt\"\n",
    "#              ,\"the_dream_of_the_rood.txt\",\"judith.txt\",\"the_battle_of_maldon.txt\"\n",
    "#              ,\"the_descent_into_hell.txt\",\"the_wifes_lament.txt\"\n",
    "#              ,\"the_husbands_message.txt\",\"aldhelm.txt\",\"andreas.txt\"\n",
    "#              ,\"deor.txt\",\"christ_and_satan.txt\",\"durham.txt\"\n",
    "#              ,\"caedmons_hymn_west_saxon_version.txt\",\"wulf_and_eadwacer.txt\"]\n",
    "# for poem in contents0:\n",
    "for poem in contents:\n",
    "    # read full poem and split into sentences / independent clauses\n",
    "    poem_text_raw = open(path+'/'+poem).read()\n",
    "    poem_lines = re.split(\"\\.|\\!|\\?|\\;\",poem_text_raw)\n",
    "    poem_line_ct += [(poem,len(poem_lines))]\n",
    "    for line in poem_lines:\n",
    "        # remove punctuation and extra whitespace\n",
    "        line = re.sub(\"\\.|\\:|\\!|\\,|\\n|\\;\",'',line)\n",
    "        line = re.sub(\"$ | ^\",'',line)\n",
    "        line_tokens = line.split(' ')\n",
    "        line_tokens_clean = []\n",
    "        for l in line_tokens:\n",
    "            if l != '':\n",
    "                # use of q is only in latin loanwords. \n",
    "                # xx should only occur in roman numerals\n",
    "                if re.search('q',l) or re.search('xx',l):\n",
    "                    continue\n",
    "                # valid words must contain a vowel\n",
    "                elif re.search(\"['y','i','u','e','o','æ','a']\",l):\n",
    "                    line_tokens_clean += [l]\n",
    "                    if l not in token_set:\n",
    "                        token_dict[l] = 1\n",
    "                        token_set.add(l)\n",
    "                    else:\n",
    "                        token_dict[l] += 1\n",
    "        if len(line_tokens_clean)>0:\n",
    "            corpus_lines += [line_tokens_clean]\n",
    "\n",
    "            \n",
    "flat_tokens = [item for sublist in corpus_lines for item in sublist]            "
   ]
  },
  {
   "cell_type": "code",
   "execution_count": 11,
   "metadata": {},
   "outputs": [
    {
     "name": "stdout",
     "output_type": "stream",
     "text": [
      "total sentences: 10969\n",
      "total words: 175055\n",
      "unique words: 26993\n",
      "\n",
      "Top poems by number of sentences:\n"
     ]
    },
    {
     "data": {
      "text/plain": [
       "[('beowulf.txt', 1170),\n",
       " ('genesis.txt', 1062),\n",
       " ('andreas.txt', 569),\n",
       " ('christ_a_b_c.txt', 518),\n",
       " ('guthlac_a_b.txt', 449),\n",
       " ('elene.txt', 368),\n",
       " ('christ_and_satan.txt', 290),\n",
       " ('the_paris_psalter_psalm_118.txt', 256),\n",
       " ('daniel.txt', 236),\n",
       " ('exodus.txt', 217),\n",
       " ('juliana.txt', 215),\n",
       " ('the_phoenix.txt', 197),\n",
       " ('solomon_and_saturn.txt', 187),\n",
       " ('the_battle_of_maldon.txt', 141),\n",
       " ('the_descent_into_hell.txt', 138),\n",
       " ('maxims_i.txt', 127),\n",
       " ('judith.txt', 108),\n",
       " ('the_husbands_message.txt', 89),\n",
       " ('the_meters_of_boethius_meter_20.txt', 86),\n",
       " ('the_paris_psalter_psalm_77.txt', 84),\n",
       " ('riddle_84.txt', 83),\n",
       " ('the_dream_of_the_rood.txt', 79),\n",
       " ('the_judgment_day_ii.txt', 79),\n",
       " ('the_mologium.txt', 63),\n",
       " ('widsith.txt', 63)]"
      ]
     },
     "execution_count": 11,
     "metadata": {},
     "output_type": "execute_result"
    }
   ],
   "source": [
    "print(\"total sentences:\",len(corpus_lines))\n",
    "print(\"total words:\",len(flat_tokens))\n",
    "print(\"unique words:\",len(token_set))\n",
    "print(\"\\nTop poems by number of sentences:\")\n",
    "sorted(poem_line_ct,key=itemgetter(1),reverse=True)[0:25]"
   ]
  },
  {
   "cell_type": "markdown",
   "metadata": {},
   "source": [
    "## Simple word analyses"
   ]
  },
  {
   "cell_type": "markdown",
   "metadata": {},
   "source": [
    "### Most common words"
   ]
  },
  {
   "cell_type": "code",
   "execution_count": 12,
   "metadata": {},
   "outputs": [
    {
     "name": "stdout",
     "output_type": "stream",
     "text": [
      "Top words by frequency:\n",
      "  token  freq\n",
      "0    on  4380\n",
      "1   and  3177\n",
      "2   þæt  2913\n",
      "3    þa  2168\n",
      "4    ic  2091\n",
      "5   ond  2055\n",
      "6    he  1943\n",
      "7    þe  1930\n",
      "8    ne  1867\n",
      "9    to  1813\n",
      "Unique words: 26993\n",
      "Words with one occurence: 16047\n"
     ]
    }
   ],
   "source": [
    "token_count = pd.DataFrame.from_dict(token_dict,orient='index').reset_index()\n",
    "token_count.columns = ['token','freq']\n",
    "token_count = token_count.sort_values('freq',ascending=False)\\\n",
    "    .reset_index(drop=True)\n",
    "print(\"Top words by frequency:\")\n",
    "print(token_count.head(10))\n",
    "\n",
    "print(\"Unique words:\",len(token_count))\n",
    "print(\"Words with one occurence:\",len(token_count[token_count['freq']==1]))\n",
    "\n",
    "token_count = token_count.reset_index()"
   ]
  },
  {
   "cell_type": "code",
   "execution_count": 38,
   "metadata": {},
   "outputs": [
    {
     "name": "stdout",
     "output_type": "stream",
     "text": [
      "    index token  freq  token_len\n",
      "61     61  hwæt   271          4\n",
      "Empty DataFrame\n",
      "Columns: [index, token, freq, token_len]\n",
      "Index: []\n"
     ]
    }
   ],
   "source": [
    "print(token_count[token_count['token']=='hwæt'])\n",
    "print(token_count[token_count['token']=='as'])"
   ]
  },
  {
   "cell_type": "markdown",
   "metadata": {},
   "source": [
    "### Rank vs. frequency of word (Zipf's law)"
   ]
  },
  {
   "cell_type": "code",
   "execution_count": 13,
   "metadata": {},
   "outputs": [
    {
     "data": {
      "text/plain": [
       "<matplotlib.text.Text at 0x1215d9cc0>"
      ]
     },
     "execution_count": 13,
     "metadata": {},
     "output_type": "execute_result"
    },
    {
     "data": {
      "image/png": "[encoded data removed]",
      "text/plain": [
       "<matplotlib.figure.Figure at 0x1214db208>"
      ]
     },
     "metadata": {},
     "output_type": "display_data"
    }
   ],
   "source": [
    "plt.figure(figsize=(18, 8))\n",
    "plt.suptitle(\"Word frequency by Rank: Zipf's Law\")\n",
    "plt.subplot(121)\n",
    "plt.plot(token_count['index'],token_count['freq'])\n",
    "plt.xlabel('word rank')\n",
    "plt.ylabel('word frequency')\n",
    "plt.subplot(122)\n",
    "plt.plot(token_count['index'],token_count['freq'],linestyle='--', marker='o')\n",
    "plt.xlim([-2,60])\n",
    "plt.xlabel('word rank')\n",
    "plt.ylabel('word frequency')"
   ]
  },
  {
   "cell_type": "markdown",
   "metadata": {},
   "source": [
    "### Word lengths"
   ]
  },
  {
   "cell_type": "code",
   "execution_count": 14,
   "metadata": {},
   "outputs": [
    {
     "name": "stdout",
     "output_type": "stream",
     "text": [
      "count    26993.000000\n",
      "mean         7.238803\n",
      "std          2.231347\n",
      "min          1.000000\n",
      "25%          6.000000\n",
      "50%          7.000000\n",
      "75%          9.000000\n",
      "max         20.000000\n",
      "Name: token_len, dtype: float64\n"
     ]
    },
    {
     "data": {
      "text/plain": [
       "<matplotlib.text.Text at 0x12179e2b0>"
      ]
     },
     "execution_count": 14,
     "metadata": {},
     "output_type": "execute_result"
    },
    {
     "data": {
      "image/png": "[encoded data removed]",
      "text/plain": [
       "<matplotlib.figure.Figure at 0x12153d898>"
      ]
     },
     "metadata": {},
     "output_type": "display_data"
    }
   ],
   "source": [
    "token_count['token_len'] = token_count['token'].apply(lambda x: len(x))\n",
    "print(token_count['token_len'].describe())\n",
    "n, bins, patches = plt.hist(token_count['token_len'], 12, normed=1, facecolor='green', alpha=0.7)\n",
    "plt.suptitle('Word length distribution')\n",
    "plt.xlabel('Number of characters')"
   ]
  },
  {
   "cell_type": "code",
   "execution_count": 15,
   "metadata": {},
   "outputs": [
    {
     "name": "stdout",
     "output_type": "stream",
     "text": [
      "[3, 3, 4, 6, 23]\n"
     ]
    },
    {
     "data": {
      "text/plain": [
       "<matplotlib.text.Text at 0x121744940>"
      ]
     },
     "execution_count": 15,
     "metadata": {},
     "output_type": "execute_result"
    },
    {
     "data": {
      "image/png": "[encoded data removed]",
      "text/plain": [
       "<matplotlib.figure.Figure at 0x1216120f0>"
      ]
     },
     "metadata": {},
     "output_type": "display_data"
    }
   ],
   "source": [
    "line_length = []\n",
    "for l in corpus_lines:\n",
    "    line_length += [len(l)]\n",
    "print(line_length[0:5])\n",
    "\n",
    "n, bins, patches = plt.hist(line_length, 12, normed=1, facecolor='green', alpha=0.7)\n",
    "plt.suptitle('Sentence length distribution')\n",
    "plt.xlabel('Number of words per sentence')"
   ]
  },
  {
   "cell_type": "code",
   "execution_count": 40,
   "metadata": {},
   "outputs": [
    {
     "data": {
      "text/plain": [
       "[['æla', 'drihten', 'leof'],\n",
       " ['æla', 'dema', 'god'],\n",
       " ['geara', 'me', 'ece', 'waldend']]"
      ]
     },
     "execution_count": 40,
     "metadata": {},
     "output_type": "execute_result"
    }
   ],
   "source": [
    "corpus_lines[0:3]"
   ]
  },
  {
   "cell_type": "code",
   "execution_count": 16,
   "metadata": {},
   "outputs": [
    {
     "data": {
      "text/plain": [
       "3764391"
      ]
     },
     "execution_count": 16,
     "metadata": {},
     "output_type": "execute_result"
    }
   ],
   "source": [
    "model = gensim.models.Word2Vec(size=80, window=7, min_count=3,iter=30,sg=1)\n",
    "model.build_vocab(corpus_lines)\n",
    "model.train(corpus_lines,total_examples=model.corpus_count,epochs=model.iter)"
   ]
  },
  {
   "cell_type": "code",
   "execution_count": 18,
   "metadata": {},
   "outputs": [
    {
     "name": "stdout",
     "output_type": "stream",
     "text": [
      "     index  token  freq  token_len\n",
      "634    634  ellen    34          5\n"
     ]
    },
    {
     "data": {
      "text/plain": [
       "[('colað', 0.6808252334594727),\n",
       " ('eafoð', 0.6286718845367432),\n",
       " ('geþoht', 0.6000107526779175),\n",
       " ('gena', 0.5743659734725952),\n",
       " ('dohte', 0.5610024929046631),\n",
       " ('gesingan', 0.5588849782943726),\n",
       " ('gemunað', 0.5495438575744629),\n",
       " ('lofes', 0.5474838018417358),\n",
       " ('dreorigne', 0.539673924446106),\n",
       " ('heofoncyninge', 0.5346117615699768)]"
      ]
     },
     "execution_count": 18,
     "metadata": {},
     "output_type": "execute_result"
    }
   ],
   "source": [
    "print(token_count[token_count[\"token\"]==\"ellen\"])\n",
    "model.wv.most_similar(positive=['ellen'])"
   ]
  },
  {
   "cell_type": "markdown",
   "metadata": {},
   "source": [
    "### Character distances based on Old English phonology and orthography\n",
    "\n",
    "See https://en.wikipedia.org/wiki/Old_English_phonology \n",
    "if you are unfamiliar with the Old English characters \n",
    "and sound system"
   ]
  },
  {
   "cell_type": "code",
   "execution_count": 19,
   "metadata": {
    "collapsed": true
   },
   "outputs": [],
   "source": [
    "#  ---- define Old English vowels\n",
    "\n",
    "# ------------------------------------------\n",
    "#\n",
    "#       front                back\n",
    "# close  i : y ------------ : u\n",
    "#           \\                |\n",
    "#     mid   e:  -----------  : o\n",
    "#             \\              |\n",
    "#      open   æ:  --------- a :\n",
    "#\n",
    "# ------------------------------------------\n",
    "\n",
    "vowels = ['y','i','u','e','o','æ','a']\n",
    "\n",
    "# features (dim = 3): \n",
    "#    close (1) vs. mid (.5) open (0)\n",
    "#    front (1) vs. back (0)\n",
    "#    rounded (0.25) vs. rounded (0)\n",
    "\n",
    "vowel_ft = {}\n",
    "vowel_ft['y'] = [1,1,0.25]\n",
    "vowel_ft['i'] = [1,1,0]\n",
    "vowel_ft['u'] = [1,0,0.25]\n",
    "vowel_ft['e'] = [0.5,1,0]\n",
    "vowel_ft['o'] = [0.5,0,0.25]\n",
    "vowel_ft['æ'] = [0,1,0]\n",
    "vowel_ft['a'] = [0,0,0]"
   ]
  },
  {
   "cell_type": "code",
   "execution_count": 20,
   "metadata": {},
   "outputs": [
    {
     "name": "stdout",
     "output_type": "stream",
     "text": [
      "['b', 'c', 'd', 'f', 'g', 'h', 'j', 'k', 'l', 'm', 'n', 'p', 'r', 's', 't', 'w', 'þ', 'ʃ']\n"
     ]
    }
   ],
   "source": [
    "#  ---- define Old English consonants\n",
    "\n",
    "# standard set of OE consonant characters\n",
    "consonants = ['n','r','s','d','l','g','t','m','h'\n",
    "                  ,'w','f','þ','b','p'            \n",
    "            # ʃ here for the fricative sound spelled \"sc\" in OE\n",
    "                  ,'ʃ'\n",
    "            # j here for the fricative sound spelled \"cg\"\n",
    "                 ,'j'\n",
    "            # OE used letter c for hard c and assibilated \"ch\" sound\n",
    "            # we will use c for ME 'ch' and k for the hard sound\n",
    "              ,'c','k'\n",
    "             ]\n",
    "\n",
    "print(sorted(consonants))\n",
    "consonants = set(consonants)"
   ]
  },
  {
   "cell_type": "code",
   "execution_count": 21,
   "metadata": {},
   "outputs": [
    {
     "name": "stdout",
     "output_type": "stream",
     "text": [
      "biʃop\n",
      "ejþeow\n",
      "wldurfadur\n",
      "wicekræft\n",
      "hwylkum\n"
     ]
    }
   ],
   "source": [
    "# alter token to reflect pronunciation using OE orthography rules\n",
    "def orthog_sub(string):# remove doubled letters\n",
    "    # replace bigraphs with one character\n",
    "    string = re.sub('sc','ʃ',string) # OE \"sc\" is like ME \"sh\"\n",
    "    string = re.sub('cg','j',string) # OE \"cg\" is like ME \"j\"\n",
    "    string = re.sub('uu','w',string) # in some dialects \"w\" is \"uu\"\n",
    "    string = re.sub('x','ks',string) # x is two consonants ks: break down\n",
    "    # þ and ð are interchangable in OE\n",
    "    string = re.sub('ð','þ',string) \n",
    "    for i,c in enumerate(string):  \n",
    "        string = re.sub(c+\"+\",c,string)\n",
    "    string0 = ''\n",
    "    for i,c in enumerate(string):  \n",
    "        if c == \"c\":\n",
    "            if i+1==len(string):\n",
    "                string0 += \"k\"\n",
    "            # before e and i c is \"assibilated\" ME ch sound\n",
    "            elif string[i+1] not in set(['e','i']):\n",
    "                # represent stop with k, fricative with c\n",
    "                string0 += \"k\"\n",
    "            else: \n",
    "                string0 += c\n",
    "        else: \n",
    "            string0 += c\n",
    "    return(string0)\n",
    "\n",
    "print(orthog_sub('biscop'))\n",
    "print(orthog_sub('ecgþeow'))\n",
    "print(orthog_sub('uuldurfadur'))\n",
    "print(orthog_sub('wiccecræft'))\n",
    "print(orthog_sub('hwylcum'))"
   ]
  },
  {
   "cell_type": "code",
   "execution_count": 22,
   "metadata": {
    "collapsed": true
   },
   "outputs": [],
   "source": [
    "# consonant features (dim = 3):\n",
    "# 0: voicing (0 = unvoiced, .1 = voiced)\n",
    "# 1: place: (labial=0, dental=.15, alveolar=.3, post-alveolar=.45, \n",
    "#            palatal=.6, velar=.75, glottal=.9 ) \n",
    "# -- manner:\n",
    "# 2: nasal\n",
    "# 3: stop\n",
    "# 4: fricative\n",
    "# 5: approximant\n",
    "# 6: trill \n",
    "\n",
    "consonant_ft = {}\n",
    "\n",
    "# --- nasals (voiced) --- #\n",
    "consonant_ft['m'] = [.1,0,1,0,0,0,0]\n",
    "consonant_ft['n'] = [.1,.3,1,0,0,0,0]\n",
    "\n",
    "# --- stops --- #\n",
    "consonant_ft['p'] = [0,0,0,1,0,0,0]\n",
    "consonant_ft['b'] = [.1,0,0,1,0,0,0]\n",
    "consonant_ft['t'] = [0,.3,0,1,0,0,0]\n",
    "consonant_ft['d'] = [.1,.3,0,1,0,0,0]\n",
    "consonant_ft['k'] = [0,.75,0,1,0,0,0]\n",
    "consonant_ft['g'] = [.1,.75,.0,1,0,0,0]\n",
    "\n",
    "# --- fricatives --- #\n",
    "consonant_ft['f'] = [.1,0,0,0,1,0,0]\n",
    "consonant_ft['þ'] = [.1,.15,0,0,1,0,0]\n",
    "consonant_ft['s'] = [.1,.3,0,0,1,0,0]\n",
    "consonant_ft['ʃ'] = [.1,.45,0,0,1,0,0]\n",
    "consonant_ft['c'] = [.1,.6,0,0,1,0,0]\n",
    "consonant_ft['h'] = [.1,.9,0,0,1,0,0]\n",
    "\n",
    "# --- approximants --- #\n",
    "consonant_ft['l'] = [.1,.3,0,0,0,1,0]\n",
    "consonant_ft['j'] = [.1,.6,0,0,0,1,0]\n",
    "consonant_ft['w'] = [.1,.75,0,0,0,1,0]\n",
    "\n",
    "# --- trill --- # \n",
    "consonant_ft['r'] = [.1,.3,0,0,0,0,1]"
   ]
  },
  {
   "cell_type": "code",
   "execution_count": 108,
   "metadata": {},
   "outputs": [
    {
     "name": "stdout",
     "output_type": "stream",
     "text": [
      "count    10342.000000\n",
      "mean         6.801199\n",
      "std          2.193415\n",
      "min          1.000000\n",
      "25%          5.000000\n",
      "50%          7.000000\n",
      "75%          8.000000\n",
      "max         15.000000\n",
      "Name: token_trans_len, dtype: float64\n"
     ]
    },
    {
     "data": {
      "text/plain": [
       "<matplotlib.text.Text at 0x1417fb6a0>"
      ]
     },
     "execution_count": 108,
     "metadata": {},
     "output_type": "execute_result"
    },
    {
     "data": {
      "image/png": "[encoded data removed]",
      "text/plain": [
       "<matplotlib.figure.Figure at 0x1417a3f98>"
      ]
     },
     "metadata": {},
     "output_type": "display_data"
    }
   ],
   "source": [
    "token_count['token_trans_len'] = token_count['token'].apply(lambda x: len(orthog_sub(x)))\n",
    "print(token_count['token_trans_len'].describe())\n",
    "n, bins, patches = plt.hist(token_count['token_trans_len'], 12, normed=1, facecolor='green', alpha=0.7)\n",
    "plt.suptitle('Transformed word length distribution')\n",
    "plt.xlabel('Number of characters')"
   ]
  },
  {
   "cell_type": "markdown",
   "metadata": {},
   "source": [
    "### Function for converting token into sequence of phonological features"
   ]
  },
  {
   "cell_type": "code",
   "execution_count": 109,
   "metadata": {},
   "outputs": [
    {
     "data": {
      "text/plain": [
       "array([[ 0.  ,  0.  ,  0.  ,  0.  ,  0.  ,  0.  ,  0.  ,  0.  ,  0.  ,  0.  ],\n",
       "       [ 1.  ,  1.  ,  0.25,  0.  ,  0.  ,  0.  ,  0.  ,  0.  ,  0.  ,  0.  ],\n",
       "       [ 1.  ,  1.  ,  0.  ,  0.  ,  0.  ,  0.  ,  0.  ,  0.  ,  0.  ,  0.  ],\n",
       "       [ 1.  ,  0.  ,  0.25,  0.  ,  0.  ,  0.  ,  0.  ,  0.  ,  0.  ,  0.  ],\n",
       "       [ 0.5 ,  1.  ,  0.  ,  0.  ,  0.  ,  0.  ,  0.  ,  0.  ,  0.  ,  0.  ],\n",
       "       [ 0.5 ,  0.  ,  0.25,  0.  ,  0.  ,  0.  ,  0.  ,  0.  ,  0.  ,  0.  ],\n",
       "       [ 0.  ,  1.  ,  0.  ,  0.  ,  0.  ,  0.  ,  0.  ,  0.  ,  0.  ,  0.  ],\n",
       "       [ 0.  ,  0.  ,  0.  ,  0.  ,  0.  ,  0.  ,  0.  ,  0.  ,  0.  ,  0.  ],\n",
       "       [ 0.  ,  0.  ,  0.  ,  0.1 ,  0.45,  0.  ,  0.  ,  1.  ,  0.  ,  0.  ],\n",
       "       [ 0.  ,  0.  ,  0.  ,  0.1 ,  0.75,  0.  ,  1.  ,  0.  ,  0.  ,  0.  ],\n",
       "       [ 0.  ,  0.  ,  0.  ,  0.1 ,  0.6 ,  0.  ,  0.  ,  0.  ,  1.  ,  0.  ],\n",
       "       [ 0.  ,  0.  ,  0.  ,  0.  ,  0.  ,  0.  ,  1.  ,  0.  ,  0.  ,  0.  ],\n",
       "       [ 0.  ,  0.  ,  0.  ,  0.1 ,  0.3 ,  0.  ,  0.  ,  0.  ,  0.  ,  1.  ],\n",
       "       [ 0.  ,  0.  ,  0.  ,  0.1 ,  0.9 ,  0.  ,  0.  ,  1.  ,  0.  ,  0.  ],\n",
       "       [ 0.  ,  0.  ,  0.  ,  0.1 ,  0.6 ,  0.  ,  0.  ,  1.  ,  0.  ,  0.  ],\n",
       "       [ 0.  ,  0.  ,  0.  ,  0.  ,  0.3 ,  0.  ,  1.  ,  0.  ,  0.  ,  0.  ],\n",
       "       [ 0.  ,  0.  ,  0.  ,  0.1 ,  0.75,  0.  ,  0.  ,  0.  ,  1.  ,  0.  ],\n",
       "       [ 0.  ,  0.  ,  0.  ,  0.1 ,  0.15,  0.  ,  0.  ,  1.  ,  0.  ,  0.  ],\n",
       "       [ 0.  ,  0.  ,  0.  ,  0.1 ,  0.3 ,  1.  ,  0.  ,  0.  ,  0.  ,  0.  ],\n",
       "       [ 0.  ,  0.  ,  0.  ,  0.1 ,  0.3 ,  0.  ,  0.  ,  0.  ,  1.  ,  0.  ],\n",
       "       [ 0.  ,  0.  ,  0.  ,  0.1 ,  0.3 ,  0.  ,  0.  ,  1.  ,  0.  ,  0.  ],\n",
       "       [ 0.  ,  0.  ,  0.  ,  0.1 ,  0.  ,  0.  ,  1.  ,  0.  ,  0.  ,  0.  ],\n",
       "       [ 0.  ,  0.  ,  0.  ,  0.1 ,  0.  ,  1.  ,  0.  ,  0.  ,  0.  ,  0.  ],\n",
       "       [ 0.  ,  0.  ,  0.  ,  0.1 ,  0.3 ,  0.  ,  1.  ,  0.  ,  0.  ,  0.  ],\n",
       "       [ 0.  ,  0.  ,  0.  ,  0.  ,  0.75,  0.  ,  1.  ,  0.  ,  0.  ,  0.  ],\n",
       "       [ 0.  ,  0.  ,  0.  ,  0.1 ,  0.  ,  0.  ,  0.  ,  1.  ,  0.  ,  0.  ]])"
      ]
     },
     "execution_count": 109,
     "metadata": {},
     "output_type": "execute_result"
    }
   ],
   "source": [
    "char_index_dict = {}\n",
    "index_char_dict = {}\n",
    "char_ft_matrix = [[0] * 10]\n",
    "\n",
    "chars = list(vowels) + list(consonants)\n",
    "for i,c in enumerate(chars):\n",
    "    char_index_dict[c] = i+1\n",
    "    index_char_dict[i+1] = c\n",
    "    if c in vowels:\n",
    "            c_ft = vowel_ft[c] + [0,0,0,0,0,0,0]\n",
    "    elif c in consonants:\n",
    "        c_ft = [0,0,0] + consonant_ft[c]\n",
    "    char_ft_matrix.append(c_ft)\n",
    "char_ft_matrix = np.array(char_ft_matrix)\n",
    "char_ft_matrix"
   ]
  },
  {
   "cell_type": "code",
   "execution_count": 110,
   "metadata": {
    "collapsed": true
   },
   "outputs": [],
   "source": [
    "def token_to_feature_seq(token,pad_length):\n",
    "    token = orthog_sub(token)\n",
    "    token_len = len(token)\n",
    "    if token_len<pad_length:\n",
    "        token = \"0\" * (pad_length-token_len) + token\n",
    "    char_seq = []\n",
    "    for c in token:\n",
    "        if c == \"0\":\n",
    "            c_idx = 0\n",
    "        else:\n",
    "            c_idx = char_index_dict[c]\n",
    "        char_seq.append(c_idx)\n",
    "    char_seq = np.array(char_seq)\n",
    "    return(char_seq)"
   ]
  },
  {
   "cell_type": "code",
   "execution_count": 111,
   "metadata": {},
   "outputs": [
    {
     "name": "stdout",
     "output_type": "stream",
     "text": [
      "wicekræft\n"
     ]
    },
    {
     "data": {
      "text/plain": [
       "array([ 0,  0,  0,  0,  0,  0, 16,  2, 14,  4, 24, 12,  6, 25, 15])"
      ]
     },
     "execution_count": 111,
     "metadata": {},
     "output_type": "execute_result"
    }
   ],
   "source": [
    "print(orthog_sub(\"wiccecræft\"))\n",
    "token_to_feature_seq(\"wiccecræft\",15)"
   ]
  },
  {
   "cell_type": "markdown",
   "metadata": {},
   "source": [
    "### Character level skipgram"
   ]
  },
  {
   "cell_type": "code",
   "execution_count": 212,
   "metadata": {},
   "outputs": [
    {
     "name": "stdout",
     "output_type": "stream",
     "text": [
      "   index token  freq\n",
      "0      0    on   894\n",
      "1      1   þæt   758\n",
      "2      2   ond   687\n",
      "3      3    þa   570\n",
      "4      4    he   560\n"
     ]
    },
    {
     "data": {
      "text/plain": [
       "6"
      ]
     },
     "execution_count": 212,
     "metadata": {},
     "output_type": "execute_result"
    }
   ],
   "source": [
    "print(token_count.head())\n",
    "index_token_dict = pd.Series(token_count.token.values,index=token_count.index).to_dict()\n",
    "token_index_dict = pd.Series(token_count.index.values,index=token_count.token).to_dict()\n",
    "token_index_dict[\"ic\"]"
   ]
  },
  {
   "cell_type": "code",
   "execution_count": 113,
   "metadata": {
    "scrolled": true
   },
   "outputs": [
    {
     "name": "stdout",
     "output_type": "stream",
     "text": [
      "['we', 'gardena', 'in', 'geardagum', 'þeodcyninga', 'þrym', 'gefrunon', 'hu', 'ða', 'æþelingas', 'ellen', 'fremedon']\n",
      "[53, 1273, 7953, 7952, 7951, 702, 2993, 7950, 2409, 7949, 446, 60, 169, 42, 1489, 7948]\n",
      "2635\n",
      "10343\n"
     ]
    }
   ],
   "source": [
    "# create tokenized sequences from each sentence in corpus\n",
    "tokenized_corpus = []\n",
    "for l in corpus_lines:\n",
    "    line_token_idx = []\n",
    "    for t in l:\n",
    "        line_token_idx += [token_index_dict[t]]\n",
    "    if len(line_token_idx)>1:\n",
    "        tokenized_corpus += [line_token_idx]\n",
    "\n",
    "print(corpus_lines[1])\n",
    "print(tokenized_corpus[1])\n",
    "print(len(tokenized_corpus))\n",
    "\n",
    "V = len(token_set)+1\n",
    "print(V)"
   ]
  },
  {
   "cell_type": "code",
   "execution_count": 133,
   "metadata": {},
   "outputs": [
    {
     "name": "stdout",
     "output_type": "stream",
     "text": [
      "1870033\n",
      "1870033\n",
      "1870033\n",
      "[ 0  0  0  0  0  0  0  0  0  0  9  3 17  3 22]\n",
      "[ 0  0  0  0  0  0  0  0  0 25  5 12 17  7 22]\n"
     ]
    }
   ],
   "source": [
    "# use skipgram context sampling to generate training pairs\n",
    "target_x = []\n",
    "context_x = []\n",
    "target_wordidx_x = []\n",
    "context_wordidx_x = []\n",
    "\n",
    "y = []\n",
    "for i, doc in enumerate(shuffle(tokenized_corpus)):\n",
    "    data, labels = skipgrams(sequence=doc, vocabulary_size=V\n",
    "                             ,window_size=5, negative_samples=5.)\n",
    "\n",
    "    for j,pair in enumerate(data):\n",
    "        try:\n",
    "            target_seq = token_to_feature_seq(index_token_dict[pair[0]],15)\n",
    "            context_seq = token_to_feature_seq(index_token_dict[pair[1]],15)\n",
    "            target_x.append(target_seq)\n",
    "            context_x.append(context_seq)\n",
    "            target_wordidx_x.append(pair[0])\n",
    "            context_wordidx_x.append(pair[1])\n",
    "            y.append(labels[j])\n",
    "        except KeyError:\n",
    "            continue\n",
    "\n",
    "print(len(target_x))\n",
    "print(len(context_x))\n",
    "print(len(y))\n",
    "\n",
    "print(target_x[0])\n",
    "print(context_x[0])"
   ]
  },
  {
   "cell_type": "code",
   "execution_count": 137,
   "metadata": {
    "collapsed": true
   },
   "outputs": [],
   "source": [
    "# train / validation split\n",
    "target_x_train,target_x_valid, \\\n",
    "target_wordidx_train,target_wordidx_valid, \\\n",
    "context_x_train, context_x_valid, \\\n",
    "context_wordidx_train,context_wordidx_valid, \\\n",
    "y_train, y_valid = train_test_split(target_x,target_wordidx_x,context_x,context_wordidx_x,y,test_size = 0.2)"
   ]
  },
  {
   "cell_type": "code",
   "execution_count": 138,
   "metadata": {},
   "outputs": [
    {
     "name": "stdout",
     "output_type": "stream",
     "text": [
      "1496026\n",
      "374007\n",
      "1496026\n",
      "1496026\n",
      "1496026\n"
     ]
    }
   ],
   "source": [
    "print(len(target_x_train))\n",
    "print(len(target_x_valid))\n",
    "print(len(context_x_train))\n",
    "print(len(context_wordidx_train))\n",
    "print(len(y_train))"
   ]
  },
  {
   "cell_type": "code",
   "execution_count": 139,
   "metadata": {},
   "outputs": [
    {
     "name": "stdout",
     "output_type": "stream",
     "text": [
      "(1496026, 15)\n",
      "(1496026, 15)\n"
     ]
    }
   ],
   "source": [
    "# convert everything to arrays\n",
    "target_x_train = np.array(target_x_train)\n",
    "target_x_valid = np.array(target_x_valid)\n",
    "target_wordidx_train = np.array(target_wordidx_train)\n",
    "target_wordidx_valid = np.array(target_wordidx_valid)\n",
    "context_x_train = np.array(context_x_train)\n",
    "context_x_valid = np.array(context_x_valid)\n",
    "context_wordidx_train = np.array(context_wordidx_train)\n",
    "context_wordidx_valid = np.array(context_wordidx_valid)\n",
    "\n",
    "print(target_x_train.shape)\n",
    "print(context_x_train.shape)"
   ]
  },
  {
   "cell_type": "markdown",
   "metadata": {},
   "source": [
    "### Word-level skipgram embedding for benchmark"
   ]
  },
  {
   "cell_type": "code",
   "execution_count": 177,
   "metadata": {},
   "outputs": [
    {
     "name": "stdout",
     "output_type": "stream",
     "text": [
      "____________________________________________________________________________________________________\n",
      "Layer (type)                     Output Shape          Param #     Connected to                     \n",
      "====================================================================================================\n",
      "input_20 (InputLayer)            (None, 1)             0                                            \n",
      "____________________________________________________________________________________________________\n",
      "input_21 (InputLayer)            (None, 1)             0                                            \n",
      "____________________________________________________________________________________________________\n",
      "embedding_19 (Embedding)         (None, 1, 128)        1323904     input_20[0][0]                   \n",
      "____________________________________________________________________________________________________\n",
      "embedding_20 (Embedding)         (None, 1, 128)        1323904     input_21[0][0]                   \n",
      "____________________________________________________________________________________________________\n",
      "dot_29 (Dot)                     (None, 1, 1)          0           embedding_19[0][0]               \n",
      "                                                                   embedding_20[0][0]               \n",
      "____________________________________________________________________________________________________\n",
      "reshape_29 (Reshape)             (None, 1)             0           dot_29[0][0]                     \n",
      "____________________________________________________________________________________________________\n",
      "activation_76 (Activation)       (None, 1)             0           reshape_29[0][0]                 \n",
      "====================================================================================================\n",
      "Total params: 2,647,808\n",
      "Trainable params: 2,647,808\n",
      "Non-trainable params: 0\n",
      "____________________________________________________________________________________________________\n"
     ]
    }
   ],
   "source": [
    "dim_embedddings = 128\n",
    "\n",
    "# target word\n",
    "w_inputs = Input(shape=(1, ), dtype='int32')\n",
    "w = Embedding(V, dim_embedddings)(w_inputs)\n",
    "\n",
    "# context word\n",
    "c_inputs = Input(shape=(1, ), dtype='int32')\n",
    "c  = Embedding(V, dim_embedddings)(c_inputs)\n",
    "\n",
    "# output: dot product of target and context vectors\n",
    "o = Dot(axes=2)([w, c])\n",
    "o = Reshape((1,), input_shape=(1, 1))(o)\n",
    "o = Activation('sigmoid')(o)\n",
    "\n",
    "SkipGram = Model(inputs=[w_inputs, c_inputs], outputs=o)\n",
    "SkipGram.summary()\n",
    "SkipGram.compile(loss='binary_crossentropy', optimizer='adam',metrics=['accuracy'])"
   ]
  },
  {
   "cell_type": "code",
   "execution_count": 178,
   "metadata": {},
   "outputs": [
    {
     "name": "stdout",
     "output_type": "stream",
     "text": [
      "Train on 1496026 samples, validate on 374007 samples\n",
      "Epoch 1/10\n",
      "1496026/1496026 [==============================] - 1573s - loss: 0.4164 - acc: 0.8640 - val_loss: 0.4269 - val_acc: 0.8856\n",
      "Epoch 2/10\n",
      "1496026/1496026 [==============================] - 1564s - loss: 0.3709 - acc: 0.8999 - val_loss: 0.4345 - val_acc: 0.8849\n",
      "Epoch 3/10\n",
      "1496026/1496026 [==============================] - 1521s - loss: 0.2817 - acc: 0.9253 - val_loss: 0.4488 - val_acc: 0.8809\n",
      "Epoch 4/10\n",
      "1496026/1496026 [==============================] - 1465s - loss: 0.2102 - acc: 0.9448 - val_loss: 0.4707 - val_acc: 0.8783\n",
      "Epoch 5/10\n",
      "1496026/1496026 [==============================] - 1470s - loss: 0.1641 - acc: 0.9567 - val_loss: 0.5018 - val_acc: 0.8765\n",
      "Epoch 6/10\n",
      "1496026/1496026 [==============================] - 1469s - loss: 0.1350 - acc: 0.9634 - val_loss: 0.5322 - val_acc: 0.8760\n",
      "Epoch 7/10\n",
      "1496026/1496026 [==============================] - 1474s - loss: 0.1164 - acc: 0.9677 - val_loss: 0.5637 - val_acc: 0.8757\n",
      "Epoch 8/10\n",
      "1496026/1496026 [==============================] - 1478s - loss: 0.1052 - acc: 0.9702 - val_loss: 0.5970 - val_acc: 0.8746\n",
      "Epoch 9/10\n",
      "1496026/1496026 [==============================] - 1474s - loss: 0.0985 - acc: 0.9718 - val_loss: 0.6274 - val_acc: 0.8739\n",
      "Epoch 10/10\n",
      "1496026/1496026 [==============================] - 1477s - loss: 0.0946 - acc: 0.9728 - val_loss: 0.6571 - val_acc: 0.8733\n",
      "CPU times: user 10h 37min 14s, sys: 2h 51min 1s, total: 13h 28min 16s\n",
      "Wall time: 4h 9min 30s\n"
     ]
    }
   ],
   "source": [
    "%%time\n",
    "hist_word_sg = SkipGram.fit([target_wordidx_train, context_wordidx_train],\n",
    "                     y_train,\n",
    "                     batch_size=32, \n",
    "                     epochs=10, \n",
    "                     verbose=1,\n",
    "                     validation_data=([target_wordidx_valid,context_wordidx_valid]\n",
    "                                      ,y_valid))"
   ]
  },
  {
   "cell_type": "markdown",
   "metadata": {},
   "source": [
    "### Convolutional model on character sequence"
   ]
  },
  {
   "cell_type": "code",
   "execution_count": 179,
   "metadata": {},
   "outputs": [
    {
     "name": "stdout",
     "output_type": "stream",
     "text": [
      "(?, 15, 10)\n"
     ]
    }
   ],
   "source": [
    "## word's character sequence input\n",
    "target_seq_input = Input(shape=(15,),dtype='float32')\n",
    "target_char_embed = Embedding(input_dim=26\n",
    "                      ,output_dim=10\n",
    "                      ,weights=[char_ft_matrix]\n",
    "                     ,trainable=False\n",
    "                     ,mask_zero=False)(target_seq_input)\n",
    "\n",
    "context_seq_input = Input(shape=(15,),dtype='float32')\n",
    "context_char_embed = Embedding(input_dim=26\n",
    "                      ,output_dim=10\n",
    "                      ,weights=[char_ft_matrix]\n",
    "                     ,trainable=False\n",
    "                     ,mask_zero=False)(context_seq_input)\n",
    "print(context_char_embed.shape)"
   ]
  },
  {
   "cell_type": "code",
   "execution_count": 180,
   "metadata": {},
   "outputs": [],
   "source": [
    "# convolutional and pooling layers\n",
    "\n",
    "convnet3 = Sequential()\n",
    "convnet3.add(Conv1D(filters=128,kernel_size=1,input_shape=(15,10,)))\n",
    "convnet3.add(BatchNormalization(axis=1,scale=False))\n",
    "convnet3.add(Activation(\"relu\"))\n",
    "convnet3.add(Conv1D(filters=128,kernel_size=3))\n",
    "convnet3.add(BatchNormalization(axis=1,scale=False))\n",
    "convnet3.add(Activation(\"relu\"))\n",
    "convnet3.add(MaxPooling1D(2))\n",
    "convnet3.add(Flatten())\n",
    "convnet3.add(Dense(256))\n",
    "convnet3.add(BatchNormalization(axis=1,scale=False))\n",
    "convnet3.add(Activation(\"relu\"))\n",
    "    \n",
    "# apply same convnet to both inputs (so the weights will be shared)\n",
    "encoded_target = convnet3(target_char_embed)\n",
    "encoded_context = convnet3(context_char_embed)"
   ]
  },
  {
   "cell_type": "code",
   "execution_count": 181,
   "metadata": {},
   "outputs": [
    {
     "name": "stdout",
     "output_type": "stream",
     "text": [
      "(?, 128)\n",
      "(?, 128)\n",
      "(?, 1)\n",
      "____________________________________________________________________________________________________\n",
      "Layer (type)                     Output Shape          Param #     Connected to                     \n",
      "====================================================================================================\n",
      "input_22 (InputLayer)            (None, 15)            0                                            \n",
      "____________________________________________________________________________________________________\n",
      "input_23 (InputLayer)            (None, 15)            0                                            \n",
      "____________________________________________________________________________________________________\n",
      "embedding_21 (Embedding)         (None, 15, 10)        260         input_22[0][0]                   \n",
      "____________________________________________________________________________________________________\n",
      "embedding_22 (Embedding)         (None, 15, 10)        260         input_23[0][0]                   \n",
      "____________________________________________________________________________________________________\n",
      "sequential_62 (Sequential)       (None, 256)           248404      embedding_21[0][0]               \n",
      "                                                                   embedding_22[0][0]               \n",
      "____________________________________________________________________________________________________\n",
      "encoded_target (Dense)           (None, 128)           32896       sequential_62[1][0]              \n",
      "____________________________________________________________________________________________________\n",
      "dense_35 (Dense)                 (None, 128)           32896       sequential_62[2][0]              \n",
      "____________________________________________________________________________________________________\n",
      "dot_30 (Dot)                     (None, 1)             0           encoded_target[0][0]             \n",
      "                                                                   dense_35[0][0]                   \n",
      "____________________________________________________________________________________________________\n",
      "reshape_30 (Reshape)             (None, 1)             0           dot_30[0][0]                     \n",
      "____________________________________________________________________________________________________\n",
      "activation_80 (Activation)       (None, 1)             0           reshape_30[0][0]                 \n",
      "====================================================================================================\n",
      "Total params: 314,716\n",
      "Trainable params: 313,628\n",
      "Non-trainable params: 1,088\n",
      "____________________________________________________________________________________________________\n"
     ]
    }
   ],
   "source": [
    "# Add dense layer for target and context embedding\n",
    "target_embed = Dense(128,name=\"encoded_target\")(encoded_target)\n",
    "print(target_embed.shape)\n",
    "context_embed = Dense(128)(encoded_context)\n",
    "print(context_embed.shape)\n",
    "\n",
    "# Output: dot product of target / context vectors, sigmoid activation\n",
    "output = Dot(axes=1)([target_embed, context_embed])\n",
    "print(output.shape)\n",
    "output = Reshape((1,), input_shape=(1,1))(output)\n",
    "output = Activation('sigmoid')(output)\n",
    "\n",
    "CharSkipGram = Model(inputs=[target_seq_input, context_seq_input], outputs=output)\n",
    "CharSkipGram.summary()\n",
    "CharSkipGram.compile(loss='binary_crossentropy', optimizer='adam',metrics=['accuracy'])"
   ]
  },
  {
   "cell_type": "code",
   "execution_count": 182,
   "metadata": {},
   "outputs": [
    {
     "name": "stdout",
     "output_type": "stream",
     "text": [
      "Train on 1496026 samples, validate on 374007 samples\n",
      "Epoch 1/10\n",
      "1496026/1496026 [==============================] - 3681s - loss: 0.3990 - acc: 0.8640 - val_loss: 0.4140 - val_acc: 0.8369\n",
      "Epoch 2/10\n",
      "1496026/1496026 [==============================] - 3708s - loss: 0.3550 - acc: 0.8713 - val_loss: 0.3716 - val_acc: 0.8628\n",
      "Epoch 3/10\n",
      "1496026/1496026 [==============================] - 3687s - loss: 0.3500 - acc: 0.8725 - val_loss: 0.3605 - val_acc: 0.8675\n",
      "Epoch 4/10\n",
      "1496026/1496026 [==============================] - 4034s - loss: 0.3469 - acc: 0.8735 - val_loss: 0.3585 - val_acc: 0.8680\n",
      "Epoch 5/10\n",
      "1496026/1496026 [==============================] - 3714s - loss: 0.3448 - acc: 0.8737 - val_loss: 0.3473 - val_acc: 0.8720\n",
      "Epoch 6/10\n",
      "1496026/1496026 [==============================] - 3729s - loss: 0.3436 - acc: 0.8739 - val_loss: 0.3542 - val_acc: 0.8697\n",
      "Epoch 7/10\n",
      "1496026/1496026 [==============================] - 3725s - loss: 0.3425 - acc: 0.8741 - val_loss: 0.3504 - val_acc: 0.8711\n",
      "Epoch 8/10\n",
      "1496026/1496026 [==============================] - 3714s - loss: 0.3415 - acc: 0.8743 - val_loss: 0.3478 - val_acc: 0.8709\n",
      "Epoch 9/10\n",
      "1496026/1496026 [==============================] - 3705s - loss: 0.3410 - acc: 0.8744 - val_loss: 0.3471 - val_acc: 0.8711\n",
      "Epoch 10/10\n",
      "1496026/1496026 [==============================] - 3972s - loss: 0.3405 - acc: 0.8745 - val_loss: 0.3595 - val_acc: 0.8694\n",
      "CPU times: user 1d 9h 15min 47s, sys: 1h 49min 39s, total: 1d 11h 5min 27s\n",
      "Wall time: 10h 27min 56s\n"
     ]
    }
   ],
   "source": [
    "%%time\n",
    "hist_sg = CharSkipGram.fit([target_x_train, context_x_train],\n",
    "                     y_train,\n",
    "                     batch_size=32, \n",
    "                     epochs=10, \n",
    "                     verbose=1,\n",
    "                     validation_data=([target_x_valid,context_x_valid]\n",
    "                                      ,y_valid))"
   ]
  },
  {
   "cell_type": "code",
   "execution_count": 185,
   "metadata": {},
   "outputs": [
    {
     "data": {
      "image/png": "[encoded data removed]",
      "text/plain": [
       "<matplotlib.figure.Figure at 0x1788f1fd0>"
      ]
     },
     "metadata": {},
     "output_type": "display_data"
    }
   ],
   "source": [
    "plt.figure(figsize=(20, 8))\n",
    "plt.suptitle(\"Char RNN Skipgram\", fontsize=18)\n",
    "plt.subplot(121)\n",
    "plt.plot(hist_word_sg.history[\"val_loss\"], label=\"word-level\")\n",
    "plt.plot(hist_sg.history[\"val_loss\"], label=\"ConvNet\")\n",
    "#plt.plot(hist_rnnsg.history[\"val_loss\"], label=\"Test\")\n",
    "plt.legend()\n",
    "plt.xlabel(\"Epoch\", fontsize=14)\n",
    "plt.ylabel(\"Loss\", fontsize=14)\n",
    "plt.subplot(122)\n",
    "plt.plot(hist_word_sg.history[\"val_acc\"], label=\"word-level\")\n",
    "plt.plot(hist_sg.history[\"val_acc\"], label=\"ConvNet\")\n",
    "plt.legend()\n",
    "plt.xlabel(\"Epoch\", fontsize=14)\n",
    "plt.ylabel(\"Accuracy\", fontsize=14)\n",
    "plt.show()"
   ]
  },
  {
   "cell_type": "code",
   "execution_count": 186,
   "metadata": {},
   "outputs": [
    {
     "name": "stderr",
     "output_type": "stream",
     "text": [
      "/Users/ChadMorgan/anaconda/lib/python3.6/site-packages/ipykernel_launcher.py:2: UserWarning: Update your `Model` call to the Keras 2 API: `Model(inputs=[<tf.Tenso..., outputs=Tensor(\"en...)`\n",
      "  \n"
     ]
    }
   ],
   "source": [
    "embed_extract = Model(input=[target_seq_input]\n",
    "                      , output=CharSkipGram.get_layer(\"encoded_target\").output)"
   ]
  },
  {
   "cell_type": "code",
   "execution_count": 213,
   "metadata": {},
   "outputs": [],
   "source": [
    "w_ft_matrix = []\n",
    "for w in token_index_dict.keys():\n",
    "    try:\n",
    "        w_ft_matrix.append(token_to_feature_seq(w,15))\n",
    "    except KeyError:\n",
    "        print(w)\n",
    "\n",
    "char_sg_embed = embed_extract.predict(np.array(w_ft_matrix))"
   ]
  },
  {
   "cell_type": "code",
   "execution_count": 215,
   "metadata": {},
   "outputs": [
    {
     "data": {
      "text/plain": [
       "(10342, 128)"
      ]
     },
     "execution_count": 215,
     "metadata": {},
     "output_type": "execute_result"
    }
   ],
   "source": [
    "char_sg_embed.shape"
   ]
  },
  {
   "cell_type": "code",
   "execution_count": 2,
   "metadata": {},
   "outputs": [
    {
     "ename": "NameError",
     "evalue": "name 'char_sg_embed' is not defined",
     "output_type": "error",
     "traceback": [
      "\u001b[0;31m---------------------------------------------------------------------------\u001b[0m",
      "\u001b[0;31mNameError\u001b[0m                                 Traceback (most recent call last)",
      "\u001b[0;32m<ipython-input-2-5766cf1f2baa>\u001b[0m in \u001b[0;36m<module>\u001b[0;34m()\u001b[0m\n\u001b[1;32m      1\u001b[0m \u001b[0;31m#def most_similar(word,embeddings):\u001b[0m\u001b[0;34m\u001b[0m\u001b[0;34m\u001b[0m\u001b[0m\n\u001b[1;32m      2\u001b[0m \u001b[0mword\u001b[0m \u001b[0;34m=\u001b[0m \u001b[0;34m\"cyning\"\u001b[0m\u001b[0;34m\u001b[0m\u001b[0m\n\u001b[0;32m----> 3\u001b[0;31m \u001b[0membeddings\u001b[0m \u001b[0;34m=\u001b[0m \u001b[0mchar_sg_embed\u001b[0m\u001b[0;34m\u001b[0m\u001b[0m\n\u001b[0m\u001b[1;32m      4\u001b[0m \u001b[0mtarget_embed\u001b[0m \u001b[0;34m=\u001b[0m \u001b[0membeddings\u001b[0m\u001b[0;34m[\u001b[0m\u001b[0mtoken_index_dict\u001b[0m\u001b[0;34m[\u001b[0m\u001b[0mword\u001b[0m\u001b[0;34m]\u001b[0m\u001b[0;34m]\u001b[0m\u001b[0;34m\u001b[0m\u001b[0m\n\u001b[1;32m      5\u001b[0m \u001b[0;34m\u001b[0m\u001b[0m\n",
      "\u001b[0;31mNameError\u001b[0m: name 'char_sg_embed' is not defined"
     ]
    }
   ],
   "source": [
    "#def most_similar(word,embeddings):\n",
    "word = \"cyning\"\n",
    "embeddings = char_sg_embed\n",
    "target_embed = embeddings[token_index_dict[word]]\n",
    "\n",
    "sims = cosine_similarity(target_embed,embeddings)\n",
    "    \n"
   ]
  },
  {
   "cell_type": "code",
   "execution_count": 1,
   "metadata": {},
   "outputs": [
    {
     "ename": "NameError",
     "evalue": "name 'sims' is not defined",
     "output_type": "error",
     "traceback": [
      "\u001b[0;31m---------------------------------------------------------------------------\u001b[0m",
      "\u001b[0;31mNameError\u001b[0m                                 Traceback (most recent call last)",
      "\u001b[0;32m<ipython-input-1-a695d2e2279b>\u001b[0m in \u001b[0;36m<module>\u001b[0;34m()\u001b[0m\n\u001b[0;32m----> 1\u001b[0;31m \u001b[0msims\u001b[0m\u001b[0;34m.\u001b[0m\u001b[0mlength\u001b[0m\u001b[0;34m\u001b[0m\u001b[0m\n\u001b[0m",
      "\u001b[0;31mNameError\u001b[0m: name 'sims' is not defined"
     ]
    }
   ],
   "source": [
    "sims.length"
   ]
  },
  {
   "cell_type": "code",
   "execution_count": null,
   "metadata": {
    "collapsed": true
   },
   "outputs": [],
   "source": []
  },
  {
   "cell_type": "code",
   "execution_count": null,
   "metadata": {
    "collapsed": true
   },
   "outputs": [],
   "source": []
  },
  {
   "cell_type": "markdown",
   "metadata": {},
   "source": [
    "### Recurrent model on character sequence"
   ]
  },
  {
   "cell_type": "code",
   "execution_count": 162,
   "metadata": {},
   "outputs": [],
   "source": [
    "recurrent = Sequential()\n",
    "recurrent.add(LSTM(128,input_shape=(15,10,)))\n",
    "    \n",
    "RNN_encoded_target = recurrent(target_char_embed)\n",
    "RNN_encoded_context = recurrent(context_char_embed)"
   ]
  },
  {
   "cell_type": "code",
   "execution_count": 163,
   "metadata": {
    "scrolled": true
   },
   "outputs": [
    {
     "name": "stdout",
     "output_type": "stream",
     "text": [
      "(?, 128)\n",
      "(?, 128)\n",
      "(?, 1)\n",
      "____________________________________________________________________________________________________\n",
      "Layer (type)                     Output Shape          Param #     Connected to                     \n",
      "====================================================================================================\n",
      "input_3 (InputLayer)             (None, 15)            0                                            \n",
      "____________________________________________________________________________________________________\n",
      "input_4 (InputLayer)             (None, 15)            0                                            \n",
      "____________________________________________________________________________________________________\n",
      "embedding_3 (Embedding)          (None, 15, 10)        260         input_3[0][0]                    \n",
      "____________________________________________________________________________________________________\n",
      "embedding_4 (Embedding)          (None, 15, 10)        260         input_4[0][0]                    \n",
      "____________________________________________________________________________________________________\n",
      "sequential_55 (Sequential)       (None, 128)           71168       embedding_3[0][0]                \n",
      "                                                                   embedding_4[0][0]                \n",
      "____________________________________________________________________________________________________\n",
      "encoded_target (Dense)           (None, 128)           16512       sequential_55[1][0]              \n",
      "____________________________________________________________________________________________________\n",
      "dense_23 (Dense)                 (None, 128)           16512       sequential_55[2][0]              \n",
      "____________________________________________________________________________________________________\n",
      "dot_23 (Dot)                     (None, 1)             0           encoded_target[0][0]             \n",
      "                                                                   dense_23[0][0]                   \n",
      "____________________________________________________________________________________________________\n",
      "reshape_23 (Reshape)             (None, 1)             0           dot_23[0][0]                     \n",
      "____________________________________________________________________________________________________\n",
      "activation_51 (Activation)       (None, 1)             0           reshape_23[0][0]                 \n",
      "====================================================================================================\n",
      "Total params: 104,712\n",
      "Trainable params: 104,192\n",
      "Non-trainable params: 520\n",
      "____________________________________________________________________________________________________\n"
     ]
    }
   ],
   "source": [
    "# Add dense layer for target and context embedding\n",
    "RNN_target_embed = Dense(128,name=\"encoded_target\")(RNN_encoded_target)\n",
    "print(RNN_target_embed.shape)\n",
    "RNN_context_embed = Dense(128)(RNN_encoded_context)\n",
    "print(RNN_context_embed.shape)\n",
    "\n",
    "# Output: dot product of target / context vectors, sigmoid activation\n",
    "RNN_output = Dot(axes=1)([RNN_target_embed, RNN_context_embed])\n",
    "print(RNN_output.shape)\n",
    "RNN_output = Reshape((1,), input_shape=(1,1))(RNN_output)\n",
    "RNN_output = Activation('sigmoid')(RNN_output)\n",
    "\n",
    "RNNCharSkipGram = Model(inputs=[target_seq_input, context_seq_input], outputs=RNN_output)\n",
    "RNNCharSkipGram.summary()\n",
    "RNNCharSkipGram.compile(loss='binary_crossentropy', optimizer='adam',metrics=['accuracy'])"
   ]
  },
  {
   "cell_type": "code",
   "execution_count": 205,
   "metadata": {},
   "outputs": [],
   "source": [
    "# %%time\n",
    "# hist_rnnsg = RNNCharSkipGram.fit([target_x_train, context_x_train],\n",
    "#                      y_train,\n",
    "#                      batch_size=16, \n",
    "#                      epochs=5, \n",
    "#                      verbose=1,\n",
    "#                      validation_data=([target_x_valid,context_x_valid]\n",
    "#                                       ,y_valid))"
   ]
  },
  {
   "cell_type": "code",
   "execution_count": null,
   "metadata": {
    "collapsed": true
   },
   "outputs": [],
   "source": []
  }
 ],
 "metadata": {
  "kernelspec": {
   "display_name": "Python 3",
   "language": "python",
   "name": "python3"
  }
 },
 "nbformat": 4,
 "nbformat_minor": 2
}
