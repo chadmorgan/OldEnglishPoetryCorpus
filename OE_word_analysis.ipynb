{
 "cells": [
  {
   "cell_type": "code",
   "execution_count": 414,
   "metadata": {
    "collapsed": true
   },
   "outputs": [],
   "source": [
    "import os\n",
    "import random\n",
    "import sys\n",
    "import subprocess\n",
    "from operator import itemgetter\n",
    "\n",
    "import re\n",
    "import numpy as np\n",
    "import pandas as pd\n",
    "from sklearn.utils import shuffle\n",
    "import gensim"
   ]
  },
  {
   "cell_type": "code",
   "execution_count": 431,
   "metadata": {},
   "outputs": [],
   "source": [
    "import seaborn as sns\n",
    "from matplotlib import pyplot as plt\n",
    "import matplotlib\n",
    "import matplotlib.mlab as mlab\n",
    "%matplotlib inline\n",
    "\n",
    "sns.set(style=\"whitegrid\", font_scale=1.3)\n",
    "matplotlib.rcParams[\"legend.framealpha\"] = 1\n",
    "matplotlib.rcParams[\"legend.frameon\"] = True"
   ]
  },
  {
   "cell_type": "markdown",
   "metadata": {},
   "source": [
    "## Word analysis with Old English poetry corpus\n",
    "This notebook works with the Old English poetry corpus made publicly available by  Murray McGillivray at the University of Calgary (http://people.ucalgary.ca/~mmcgilli/OEPoetry/)\n",
    "\n",
    "* basic word analyses\n",
    "* simple embeddings\n",
    "* phonological distance for comparing words"
   ]
  },
  {
   "cell_type": "markdown",
   "metadata": {},
   "source": [
    "### Read in Old English poetry corpus "
   ]
  },
  {
   "cell_type": "code",
   "execution_count": 3,
   "metadata": {
    "collapsed": true
   },
   "outputs": [],
   "source": [
    "# read in all the poems \n",
    "path = '/Users/ChadMorgan/Documents/old_english/OldEnglishPoetryCorpus/scraped_corpus'\n",
    "contents = os.listdir(path)"
   ]
  },
  {
   "cell_type": "code",
   "execution_count": 406,
   "metadata": {},
   "outputs": [
    {
     "name": "stdout",
     "output_type": "stream",
     "text": [
      "Number of OE poems: 348\n"
     ]
    }
   ],
   "source": [
    "print(\"Number of OE poems in corpus:\",len(contents))"
   ]
  },
  {
   "cell_type": "code",
   "execution_count": 457,
   "metadata": {},
   "outputs": [],
   "source": [
    "corpus_lines = []\n",
    "token_set = set()\n",
    "token_dict = {}\n",
    "poem_line_ct = []\n",
    "for poem in contents:\n",
    "    poem_lines = open(path+'/'+poem).readlines()\n",
    "    poem_line_ct += [(poem,len(poem_lines))]\n",
    "    for line in poem_lines:\n",
    "        # remove punctuation and extra whitespace\n",
    "        line = re.sub(\"\\.|\\:|\\!|\\,|\\n|\\;\",'',line)\n",
    "        line = re.sub(\"$ | ^\",'',line)\n",
    "        line_tokens = line.split(' ')\n",
    "        line_tokens_clean = []\n",
    "        for l in line_tokens:\n",
    "            if l != '':\n",
    "                # use of q is only in latin loanwords. \n",
    "                # xx should only occur in roman numerals\n",
    "                if re.search('q',l) or re.search('xx',l):\n",
    "                    continue\n",
    "                # valid words must contain a vowel\n",
    "                elif re.search(\"['y','i','u','e','o','æ','a']\",l):\n",
    "                    line_tokens_clean += [l]\n",
    "                    if l not in token_set:\n",
    "                        token_dict[l] = 1\n",
    "                        token_set.add(l)\n",
    "                    else:\n",
    "                        token_dict[l] += 1\n",
    "        if len(line_tokens_clean)>0:\n",
    "            corpus_lines += [line_tokens_clean]\n",
    "flat_tokens = [item for sublist in corpus_lines for item in sublist]            "
   ]
  },
  {
   "cell_type": "code",
   "execution_count": 458,
   "metadata": {},
   "outputs": [
    {
     "name": "stdout",
     "output_type": "stream",
     "text": [
      "total lines: 30497\n",
      "total words: 175014\n",
      "unique words: 26994\n",
      "\n",
      "Top poems by lines:\n"
     ]
    },
    {
     "data": {
      "text/plain": [
       "[('beowulf.txt', 3240),\n",
       " ('genesis.txt', 2941),\n",
       " ('andreas.txt', 2067),\n",
       " ('christ_a_b_c.txt', 1997),\n",
       " ('guthlac_a_b.txt', 1655),\n",
       " ('elene.txt', 1587),\n",
       " ('daniel.txt', 917),\n",
       " ('juliana.txt', 879),\n",
       " ('christ_and_satan.txt', 877),\n",
       " ('the_phoenix.txt', 813)]"
      ]
     },
     "execution_count": 458,
     "metadata": {},
     "output_type": "execute_result"
    }
   ],
   "source": [
    "print(\"total lines:\",len(corpus_lines))\n",
    "print(\"total words:\",len(flat_tokens))\n",
    "print(\"unique words:\",len(set(tokens)))\n",
    "print(\"\\nTop poems by lines:\")\n",
    "sorted(poem_line_ct,key=itemgetter(1),reverse=True)[0:10]"
   ]
  },
  {
   "cell_type": "markdown",
   "metadata": {},
   "source": [
    "## Simple word analyses"
   ]
  },
  {
   "cell_type": "markdown",
   "metadata": {},
   "source": [
    "### Most common words"
   ]
  },
  {
   "cell_type": "code",
   "execution_count": 427,
   "metadata": {},
   "outputs": [
    {
     "name": "stdout",
     "output_type": "stream",
     "text": [
      "Top words by frequency:\n",
      "  token  freq\n",
      "0    on  4379\n",
      "1   and  3177\n",
      "2   þæt  2912\n",
      "3    þa  2166\n",
      "4    ic  2090\n",
      "5   ond  2055\n",
      "6    he  1943\n",
      "7    þe  1930\n",
      "8    ne  1868\n",
      "9    to  1813\n"
     ]
    }
   ],
   "source": [
    "token_count = pd.DataFrame.from_dict(token_dict,orient='index').reset_index()\n",
    "token_count.columns = ['token','freq']\n",
    "token_count = token_count.sort_values('freq',ascending=False)\\\n",
    "    .reset_index(drop=True)\n",
    "print(\"Top words by frequency:\")\n",
    "print(token_count.head(10))\n",
    "\n",
    "token_count = token_count.reset_index()"
   ]
  },
  {
   "cell_type": "markdown",
   "metadata": {},
   "source": [
    "### Rank vs. frequency of word (Zipf's law)"
   ]
  },
  {
   "cell_type": "code",
   "execution_count": 434,
   "metadata": {},
   "outputs": [
    {
     "data": {
      "text/plain": [
       "<matplotlib.text.Text at 0x1296abf98>"
      ]
     },
     "execution_count": 434,
     "metadata": {},
     "output_type": "execute_result"
    },
    {
     "data": {
      "image/png": "[encoded data removed]",
      "text/plain": [
       "<matplotlib.figure.Figure at 0x1277330f0>"
      ]
     },
     "metadata": {},
     "output_type": "display_data"
    }
   ],
   "source": [
    "plt.figure(figsize=(18, 8))\n",
    "plt.suptitle(\"Word frequency by Rank: Zipf's Law\")\n",
    "plt.subplot(121)\n",
    "plt.plot(token_count['index'],token_count['freq'])\n",
    "plt.xlabel('word rank')\n",
    "plt.ylabel('word frequency')\n",
    "plt.subplot(122)\n",
    "plt.plot(token_count['index'],token_count['freq'],linestyle='--', marker='o')\n",
    "plt.xlim([-2,25])\n",
    "plt.xlabel('word rank')\n",
    "plt.ylabel('word frequency')"
   ]
  },
  {
   "cell_type": "markdown",
   "metadata": {},
   "source": [
    "### Word lengths"
   ]
  },
  {
   "cell_type": "code",
   "execution_count": 440,
   "metadata": {},
   "outputs": [
    {
     "name": "stdout",
     "output_type": "stream",
     "text": [
      "count    26994.000000\n",
      "mean         7.245166\n",
      "std          2.239697\n",
      "min          1.000000\n",
      "25%          6.000000\n",
      "50%          7.000000\n",
      "75%          9.000000\n",
      "max         19.000000\n",
      "Name: token_len, dtype: float64\n"
     ]
    },
    {
     "data": {
      "text/plain": [
       "<matplotlib.text.Text at 0x1288650b8>"
      ]
     },
     "execution_count": 440,
     "metadata": {},
     "output_type": "execute_result"
    },
    {
     "data": {
      "image/png": "[encoded data removed]",
      "text/plain": [
       "<matplotlib.figure.Figure at 0x129fb1550>"
      ]
     },
     "metadata": {},
     "output_type": "display_data"
    }
   ],
   "source": [
    "token_count['token_len'] = token_count['token'].apply(lambda x: len(x))\n",
    "print(token_count['token_len'].describe())\n",
    "n, bins, patches = plt.hist(token_count['token_len'], 19, normed=1, facecolor='green', alpha=0.7)\n",
    "plt.suptitle('Word length distribution')\n",
    "plt.xlabel('Number of characters')"
   ]
  },
  {
   "cell_type": "code",
   "execution_count": 459,
   "metadata": {},
   "outputs": [
    {
     "name": "stdout",
     "output_type": "stream",
     "text": [
      "[6, 4, 6, 5, 6]\n"
     ]
    },
    {
     "data": {
      "text/plain": [
       "<matplotlib.text.Text at 0x129f3cac8>"
      ]
     },
     "execution_count": 459,
     "metadata": {},
     "output_type": "execute_result"
    },
    {
     "data": {
      "image/png": "[encoded data removed]",
      "text/plain": [
       "<matplotlib.figure.Figure at 0x12e3bdd30>"
      ]
     },
     "metadata": {},
     "output_type": "display_data"
    }
   ],
   "source": [
    "line_length = []\n",
    "for l in corpus_lines:\n",
    "    line_length += [len(l)]\n",
    "print(line_length[0:5])\n",
    "\n",
    "n, bins, patches = plt.hist(line_length, 19, normed=1, facecolor='green', alpha=0.7)\n",
    "plt.suptitle('Line length distribution')\n",
    "plt.xlabel('Number of words per line')"
   ]
  },
  {
   "cell_type": "markdown",
   "metadata": {},
   "source": [
    "## Word2Vec with raw words"
   ]
  },
  {
   "cell_type": "code",
   "execution_count": 464,
   "metadata": {},
   "outputs": [
    {
     "name": "stdout",
     "output_type": "stream",
     "text": [
      "[['æla', 'drihten', 'leof', 'æla', 'dema', 'god'], ['geara', 'me', 'ece', 'waldend'], ['ic', 'wat', 'mine', 'saule', 'synnum', 'forwundod'], ['gehæl', 'þu', 'hy', 'heofena', 'drihten'], ['and', 'gelacna', 'þu', 'hy', 'lifes', 'ealdor']]\n"
     ]
    }
   ],
   "source": [
    "print(corpus_lines[0:5])"
   ]
  },
  {
   "cell_type": "code",
   "execution_count": 516,
   "metadata": {
    "collapsed": true
   },
   "outputs": [],
   "source": [
    "model = gensim.models.Word2Vec(size=128, window=5, min_count=1,iter=50,sg=1)\n",
    "model.build_vocab(corpus_lines)"
   ]
  },
  {
   "cell_type": "code",
   "execution_count": 517,
   "metadata": {},
   "outputs": [
    {
     "data": {
      "text/plain": [
       "7557120"
      ]
     },
     "execution_count": 517,
     "metadata": {},
     "output_type": "execute_result"
    }
   ],
   "source": [
    "model.train(corpus_lines,total_examples=model.corpus_count,epochs=model.iter)"
   ]
  },
  {
   "cell_type": "code",
   "execution_count": 525,
   "metadata": {},
   "outputs": [
    {
     "name": "stdout",
     "output_type": "stream",
     "text": [
      "secgan 84\n"
     ]
    },
    {
     "data": {
      "text/plain": [
       "[('selerædende', 0.6961500644683838),\n",
       " ('siþþon', 0.6835871934890747),\n",
       " ('sacerdan', 0.6824030876159668),\n",
       " ('gehran', 0.6736581325531006),\n",
       " ('searoniða', 0.6732041239738464),\n",
       " ('geswincdagum', 0.6718769073486328),\n",
       " ('petre', 0.6613965630531311),\n",
       " ('cymene', 0.6598746180534363),\n",
       " ('ungesæligran', 0.6569163203239441),\n",
       " ('sigemundes', 0.6548739671707153)]"
      ]
     },
     "execution_count": 525,
     "metadata": {},
     "output_type": "execute_result"
    }
   ],
   "source": [
    "random_token = random.choice(flat_tokens)\n",
    "print(random_token,token_dict[random_token])\n",
    "model.most_similar(random_token)"
   ]
  },
  {
   "cell_type": "markdown",
   "metadata": {},
   "source": [
    "## Word distance experiments"
   ]
  },
  {
   "cell_type": "code",
   "execution_count": 352,
   "metadata": {
    "collapsed": true
   },
   "outputs": [],
   "source": [
    "# Levenshtein or edit dstance. \n",
    "#     We shall alter this to deal with bigraphs \n",
    "#      and to give less penalty to similar sounds\n",
    "\n",
    "def levenshteinDistance(s1, s2):\n",
    "    if len(s1) > len(s2):\n",
    "        s1, s2 = s2, s1\n",
    "\n",
    "    distances = range(len(s1) + 1)\n",
    "    for i2, c2 in enumerate(s2):\n",
    "        distances_ = [i2+1]\n",
    "        for i1, c1 in enumerate(s1):\n",
    "            if c1 == c2:\n",
    "                distances_.append(distances[i1])\n",
    "            else:\n",
    "                distances_.append(1 + min((distances[i1], distances[i1 + 1], distances_[-1])))\n",
    "        distances = distances_\n",
    "    return distances[-1]"
   ]
  },
  {
   "cell_type": "code",
   "execution_count": 372,
   "metadata": {},
   "outputs": [
    {
     "data": {
      "text/plain": [
       "2"
      ]
     },
     "execution_count": 372,
     "metadata": {},
     "output_type": "execute_result"
    }
   ],
   "source": [
    "levenshteinDistance(\"þa\",\"ðe\")"
   ]
  },
  {
   "cell_type": "markdown",
   "metadata": {},
   "source": [
    "### Character distances based on Old English phonology and orthography\n",
    "\n",
    "See https://en.wikipedia.org/wiki/Old_English_phonology \n",
    "if you are unfamiliar with the Old English characters \n",
    "and sound system"
   ]
  },
  {
   "cell_type": "code",
   "execution_count": 336,
   "metadata": {},
   "outputs": [
    {
     "name": "stdout",
     "output_type": "stream",
     "text": [
      "i y  =  0.1\n",
      "u y  =  0.4\n",
      "u i  =  0.5\n",
      "e y  =  0.3\n",
      "e i  =  0.2\n",
      "e u  =  0.7\n",
      "o y  =  0.6\n",
      "o i  =  0.7\n",
      "o u  =  0.2\n",
      "o e  =  0.5\n",
      "æ y  =  0.5\n",
      "æ i  =  0.4\n",
      "æ u  =  0.9\n",
      "æ e  =  0.2\n",
      "æ o  =  0.7\n",
      "a y  =  0.9\n",
      "a i  =  0.8\n",
      "a u  =  0.5\n",
      "a e  =  0.6\n",
      "a o  =  0.3\n",
      "a æ  =  0.4\n"
     ]
    }
   ],
   "source": [
    "#  ---- define Old English vowels\n",
    "\n",
    "# ------------------------------------------\n",
    "#\n",
    "#       front                back\n",
    "# close  i : y ------------ : u\n",
    "#           \\                |\n",
    "#     mid   e:  -----------  : o\n",
    "#             \\              |\n",
    "#      open   æ:  --------- a :\n",
    "#\n",
    "# ------------------------------------------\n",
    "\n",
    "vowels = ['y','i','u','e','o','æ','a']\n",
    "\n",
    "# features: \n",
    "#    close (1) vs. mid (.5) open (0)\n",
    "#    front (1) vs. back (0)\n",
    "#    rounded (0.25) vs. rounded (0)\n",
    "\n",
    "vowel_ft = {}\n",
    "vowel_ft['y'] = np.array([1,1,0.25])\n",
    "vowel_ft['i'] = np.array([1,1,0])\n",
    "vowel_ft['u'] = np.array([1,0,0.25])\n",
    "vowel_ft['e'] = np.array([0.5,1,0])\n",
    "vowel_ft['o'] = np.array([0.5,0,0.25])\n",
    "vowel_ft['æ'] = np.array([0,1,0])\n",
    "vowel_ft['a'] = np.array([0,0,0])\n",
    "\n",
    "# show vowel distances based on features\n",
    "for v1 in range(len(vowel_ft.keys())):\n",
    "    for v2 in range(len(vowel_ft.keys())):\n",
    "        if v1>v2:\n",
    "            print(vowels[v1],vowels[v2],\" = \" \\\n",
    "                  ,sum(abs(vowel_ft[vowels[v1]] - \\\n",
    "                          vowel_ft[vowels[v2]]))/2.5)\n"
   ]
  },
  {
   "cell_type": "code",
   "execution_count": 91,
   "metadata": {},
   "outputs": [
    {
     "name": "stdout",
     "output_type": "stream",
     "text": [
      "['b', 'c', 'd', 'f', 'g', 'h', 'j', 'l', 'm', 'n', 'p', 'r', 's', 't', 'w', 'x', 'ð', 'þ', 'ʃ']\n"
     ]
    }
   ],
   "source": [
    "#  ---- define Old English consonants\n",
    "\n",
    "# standard set of OE consonant characters\n",
    "consonants = ['n','r','s','d','l','g','t','m','h'\n",
    "                  ,'w','f','þ','c','ð','b','p','x'\n",
    "\n",
    "# non-OE characters used here to replace bigraphs              \n",
    "            # ʃ here for the fricative sound spelled \"sc\" in OE\n",
    "                  ,'ʃ'\n",
    "            # j here for the fricative sound spelled \"cg\"\n",
    "                 ,'j']\n",
    "print(sorted(consonants))\n",
    "consonants = set(consonants)"
   ]
  },
  {
   "cell_type": "code",
   "execution_count": 363,
   "metadata": {},
   "outputs": [
    {
     "name": "stdout",
     "output_type": "stream",
     "text": [
      "biʃop\n",
      "ejþeow\n",
      "wldurfadur\n"
     ]
    }
   ],
   "source": [
    "# replace the OE consonant bigraphs with single character representation\n",
    "def bigraph_sub(string):\n",
    "    string = re.sub('sc','ʃ',string)\n",
    "    string = re.sub('cg','j',string)\n",
    "    string = re.sub('uu','w',string)\n",
    "    string = re.sub('x','ks',string) # x is two consonants: break down\n",
    "    string = re.sub('ð','þ',string) # þ and ð are interchangable in OE\n",
    "    return(string)\n",
    "\n",
    "print(bigraph_sub('biscop'))\n",
    "print(bigraph_sub('ecgþeow'))\n",
    "print(bigraph_sub('uuldurfadur'))"
   ]
  },
  {
   "cell_type": "code",
   "execution_count": 99,
   "metadata": {},
   "outputs": [],
   "source": [
    "# consonant features:\n",
    "#   voiced vs. unvoiced\n",
    "#   stop vs. nasal vs. trill vs. fricative\n",
    "#   labial vs. dental vs. alveolar vs. palatal vs. velar\n",
    "\n",
    "# defining distance between pairs of similar consonant sounds\n",
    "consonant_dist = {}\n",
    "\n",
    "# voiced vs. unvoiced stops\n",
    "consonant_dist[('b','p')] = .3    # labial stop\n",
    "consonant_dist[('d','t')] = .3    # alveolar stop\n",
    "consonant_dist[('c','g')] = .3    # velar stop\n",
    "\n",
    "# Nasals: labial \"m\" and alveolar \"n\"\n",
    "consonant_dist[('m','n')] = .3\n",
    "\n",
    "# dental fricatives (OE \"þ\",\"ð\" or ME \"th\") are very close to\n",
    "# alveolar stops t and d and are often interchanged across dialects\n",
    "consonant_dist[('d','þ')] = .1 # both voiced\n",
    "consonant_dist[('t','þ')] = .2 # t is unvoiced, þ voiced\n",
    "\n",
    "# Fricatives: alveolar \"s\" and post-alveolar OE \"sc\" or ME \"sh\"\n",
    "consonant_dist[('s','ʃ')] = .3\n",
    "\n",
    "consonant_dist_pair_set = set([('b','p'),('d','t'),('c','g')\n",
    "                             ,('m','n'),('d','þ'),('t','þ')\n",
    "                             ,('s','ʃ')])"
   ]
  },
  {
   "cell_type": "code",
   "execution_count": 117,
   "metadata": {},
   "outputs": [],
   "source": [
    "# character-level phonological distance\n",
    "def CharPhonolDist(c1,c2):\n",
    "    \n",
    "    c1,c2 = sorted([c1,c2])\n",
    "\n",
    "    # denominator 2.5 set so max vowel distance = 0.9\n",
    "    if (c1 in vowels) and (c2 in vowels):\n",
    "        distance = sum(abs(vowel_ft[c1] - vowel_ft[c2]))/2.5\n",
    "        \n",
    "    # default consonant distance = 1 with exceptions in consonant_dist\n",
    "    elif (c1 in consonants) and (c2 in consonants):\n",
    "        if (c1,c2) in consonant_dist_pair_set:\n",
    "            distance = consonant_dist[(c1,c2)]\n",
    "        else:\n",
    "            distance = 1\n",
    "            \n",
    "    # vowel / constant distance = 1\n",
    "    else:\n",
    "        distance = 1\n",
    "    return distance"
   ]
  },
  {
   "cell_type": "code",
   "execution_count": 359,
   "metadata": {
    "collapsed": true
   },
   "outputs": [],
   "source": [
    "# token-level phological distance\n",
    "def TokenPhonolDist(s1,s2):\n",
    "    \n",
    "    # preprocess strings\n",
    "    s1 = bigraph_sub(s1)\n",
    "    s2 = bigraph_sub(s2)\n",
    "    \n",
    "    if len(s1) > len(s2):\n",
    "        s1, s2 = s2, s1\n",
    "    \n",
    "    distances = range(len(s1) + 1)\n",
    "    for i2, c2 in enumerate(s2):\n",
    "        distances_ = [i2+1]\n",
    "        for i1, c1 in enumerate(s1):\n",
    "            if c1 == c2:\n",
    "                distances_.append(distances[i1])\n",
    "            else:\n",
    "                char_dist = CharPhonolDist(c1,c2)\n",
    "                distances_.append(char_dist + min((distances[i1], distances[i1 + 1], distances_[-1])))\n",
    "        distances = distances_\n",
    "    return distances[-1]    "
   ]
  },
  {
   "cell_type": "code",
   "execution_count": 371,
   "metadata": {},
   "outputs": [
    {
     "name": "stdout",
     "output_type": "stream",
     "text": [
      "0.6\n",
      "2.3\n",
      "2.3\n",
      "0.6\n"
     ]
    }
   ],
   "source": [
    "# edit distance was 2; Phonological distance is 0.6\n",
    "print(TokenPhonolDist(\"þa\",\"ðe\"))\n",
    "\n",
    "# compare some Northumbrian with West Saxon equivalents\n",
    "print(TokenPhonolDist(\"uuldurfadur\",\"wuldorfæder\"))\n",
    "print(TokenPhonolDist(\"hefaenricaes\",\"heofonrices\"))\n",
    "print(TokenPhonolDist(\"scylun\",\"sculon\"))"
   ]
  },
  {
   "cell_type": "code",
   "execution_count": 376,
   "metadata": {},
   "outputs": [
    {
     "name": "stdout",
     "output_type": "stream",
     "text": [
      "1\n",
      "33\n",
      "1\n",
      "43\n"
     ]
    }
   ],
   "source": [
    "# The West Saxon dialect has better representation in the corpus\n",
    "print(token_dict['hefaenricaes'])\n",
    "print(token_dict['heofonrices'])\n",
    "print(token_dict['scylun'])\n",
    "print(token_dict['sculon'])"
   ]
  },
  {
   "cell_type": "code",
   "execution_count": 165,
   "metadata": {},
   "outputs": [],
   "source": [
    "# random sample word distances\n",
    "random_distances = []\n",
    "for i in range(15000):\n",
    "    r1=token_count['token'].sample(1)\n",
    "    r2=token_count['token'].sample(1)\n",
    "    random_distances += [TokenPhonolDist(str(r1),str(r2))]"
   ]
  },
  {
   "cell_type": "code",
   "execution_count": 166,
   "metadata": {},
   "outputs": [
    {
     "data": {
      "image/png": "[encoded data removed]",
      "text/plain": [
       "<matplotlib.figure.Figure at 0x126c15f28>"
      ]
     },
     "metadata": {},
     "output_type": "display_data"
    }
   ],
   "source": [
    "# plot distribution of random word pair distances\n",
    "n, bins, patches = plt.hist([random_distances], 50, normed=1, facecolor='green', alpha=0.75)"
   ]
  },
  {
   "cell_type": "code",
   "execution_count": 189,
   "metadata": {},
   "outputs": [
    {
     "name": "stdout",
     "output_type": "stream",
     "text": [
      "207\n",
      "1813\n",
      "1868\n",
      "22\n",
      "7\n",
      "9\n",
      "69\n",
      "1\n"
     ]
    }
   ],
   "source": [
    "print(token_dict['a'])\n",
    "print(token_dict['to'])\n",
    "print(token_dict['ne'])\n",
    "print(token_dict['yþa'])\n",
    "print(token_dict['ea'])\n",
    "print(token_dict['east'])\n",
    "print(token_dict['land'])\n",
    "print(token_dict['um'])"
   ]
  },
  {
   "cell_type": "code",
   "execution_count": null,
   "metadata": {
    "collapsed": true
   },
   "outputs": [],
   "source": [
    "# cpnd_token = \"eastlandum\"\n",
    "# for i in range(len(cpnd_token)):\n",
    "#     vowel_groups = 0\n",
    "#     c = cpnd_token[i]\n",
    "#     print(c)\n",
    "#     candidate_split = 0\n",
    "#     if c in vowels:\n",
    "#         if i==0:\n",
    "#             vowel_groups += 1\n",
    "#         elif cpnd_token[i-1] in consonants:\n",
    "#             vowel_groups += 1\n",
    "#         if cpnd_token[i+1] in consonants:\n",
    "#             candidate_split = 1 \n",
    "#     elif c in consonants:\n",
    "        \n",
    "    "
   ]
  }
 ],
 "metadata": {
  "kernelspec": {
   "display_name": "Python 3",
   "language": "python",
   "name": "python3"
  },
  "language_info": {
   "codemirror_mode": {
    "name": "ipython",
    "version": 3
   },
   "file_extension": ".py",
   "mimetype": "text/x-python",
   "name": "python",
   "nbconvert_exporter": "python",
   "pygments_lexer": "ipython3",
   "version": "3.6.1"
  }
 },
 "nbformat": 4,
 "nbformat_minor": 2
}
