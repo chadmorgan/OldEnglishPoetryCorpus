{
 "cells": [
  {
   "cell_type": "markdown",
   "metadata": {},
   "source": [
    "### Exploring the Dictionary of Old English Corpus\n",
    "\n",
    "Initial work on a parser of the SGML format using BeautifulSoup, followed by some descriptive analysis on the corpus"
   ]
  },
  {
   "cell_type": "code",
   "execution_count": 1,
   "metadata": {
    "collapsed": true
   },
   "outputs": [],
   "source": [
    "import re\n",
    "import os\n",
    "from bs4 import BeautifulSoup\n",
    "from bs4 import NavigableString,Tag\n",
    "import html5lib\n",
    "import pandas as pd\n",
    "import numpy as np"
   ]
  },
  {
   "cell_type": "code",
   "execution_count": 2,
   "metadata": {
    "collapsed": true
   },
   "outputs": [],
   "source": [
    "from matplotlib import pyplot as plt\n",
    "%matplotlib inline"
   ]
  },
  {
   "cell_type": "code",
   "execution_count": 28,
   "metadata": {
    "collapsed": true
   },
   "outputs": [],
   "source": [
    "path = '../../DOEC_complete/2488/sgml-corpus/'\n",
    "f = open(path+'textlist.sgml')\n",
    "list_lines = f.readlines()"
   ]
  },
  {
   "cell_type": "code",
   "execution_count": 29,
   "metadata": {
    "collapsed": true
   },
   "outputs": [],
   "source": [
    "text_list_dict = {'filename':[],\"cameron_number\":[],'short_title':[]}\n",
    "for t in range(2,len(list_lines)):\n",
    "    t_sp = list_lines[t].split('<!')\n",
    "    fname = re.sub('[>|\\\"]','',t_sp[1]).split(' ')[3]\n",
    "    t_sp2 = re.sub('--','',t_sp[2]).split(' ')\n",
    "    cam_nr = t_sp2[1]\n",
    "    title = \" \".join(t_sp2[3:(len(t_sp2)-1)])\n",
    "    text_list_dict['filename'].append(fname)\n",
    "    text_list_dict['cameron_number'].append(cam_nr)\n",
    "    text_list_dict['short_title'].append(title)    "
   ]
  },
  {
   "cell_type": "code",
   "execution_count": 30,
   "metadata": {},
   "outputs": [
    {
     "data": {
      "text/html": [
       "<div>\n",
       "<style>\n",
       "    .dataframe thead tr:only-child th {\n",
       "        text-align: right;\n",
       "    }\n",
       "\n",
       "    .dataframe thead th {\n",
       "        text-align: left;\n",
       "    }\n",
       "\n",
       "    .dataframe tbody tr th {\n",
       "        vertical-align: top;\n",
       "    }\n",
       "</style>\n",
       "<table border=\"1\" class=\"dataframe\">\n",
       "  <thead>\n",
       "    <tr style=\"text-align: right;\">\n",
       "      <th></th>\n",
       "      <th>cameron_number</th>\n",
       "      <th>filename</th>\n",
       "      <th>short_title</th>\n",
       "      <th>text_type</th>\n",
       "    </tr>\n",
       "  </thead>\n",
       "  <tbody>\n",
       "    <tr>\n",
       "      <th>2116</th>\n",
       "      <td>B15.9.51</td>\n",
       "      <td>T21070.sgml</td>\n",
       "      <td>ChHead 815 (Birch 1155)</td>\n",
       "      <td>Prose</td>\n",
       "    </tr>\n",
       "    <tr>\n",
       "      <th>2103</th>\n",
       "      <td>B15.9.38</td>\n",
       "      <td>T20940.sgml</td>\n",
       "      <td>ChHead 296 (Birch 449)</td>\n",
       "      <td>Prose</td>\n",
       "    </tr>\n",
       "    <tr>\n",
       "      <th>246</th>\n",
       "      <td>B1.1.40.2</td>\n",
       "      <td>T02480.sgml</td>\n",
       "      <td>&amp;AE;CHom I, 38 (App)</td>\n",
       "      <td>Prose</td>\n",
       "    </tr>\n",
       "    <tr>\n",
       "      <th>2460</th>\n",
       "      <td>B27.3.15.2.2</td>\n",
       "      <td>T24530.sgml</td>\n",
       "      <td>MkMarg (Li)</td>\n",
       "      <td>Prose</td>\n",
       "    </tr>\n",
       "    <tr>\n",
       "      <th>2736</th>\n",
       "      <td>C89.1</td>\n",
       "      <td>T27290.sgml</td>\n",
       "      <td>OccGl 89.1 (Schlutter)</td>\n",
       "      <td>Interlinear Glosses</td>\n",
       "    </tr>\n",
       "    <tr>\n",
       "      <th>1203</th>\n",
       "      <td>B15.1.199</td>\n",
       "      <td>T11950.sgml</td>\n",
       "      <td>Ch IWm (Galbraith 2)</td>\n",
       "      <td>Prose</td>\n",
       "    </tr>\n",
       "    <tr>\n",
       "      <th>1118</th>\n",
       "      <td>B15.1.112</td>\n",
       "      <td>T11090.sgml</td>\n",
       "      <td>Ch 1110 (Harm 62)</td>\n",
       "      <td>Prose</td>\n",
       "    </tr>\n",
       "    <tr>\n",
       "      <th>92</th>\n",
       "      <td>A3.25</td>\n",
       "      <td>T00930.sgml</td>\n",
       "      <td>Res</td>\n",
       "      <td>Poetry</td>\n",
       "    </tr>\n",
       "    <tr>\n",
       "      <th>1443</th>\n",
       "      <td>B15.8.30</td>\n",
       "      <td>T14340.sgml</td>\n",
       "      <td>Ch 211 (Birch 514)</td>\n",
       "      <td>Prose</td>\n",
       "    </tr>\n",
       "    <tr>\n",
       "      <th>385</th>\n",
       "      <td>B1.8.1</td>\n",
       "      <td>T03880.sgml</td>\n",
       "      <td>&amp;AE;Let 1 (Wulfsige Xa)</td>\n",
       "      <td>Prose</td>\n",
       "    </tr>\n",
       "  </tbody>\n",
       "</table>\n",
       "</div>"
      ],
      "text/plain": [
       "     cameron_number     filename              short_title            text_type\n",
       "2116       B15.9.51  T21070.sgml  ChHead 815 (Birch 1155)                Prose\n",
       "2103       B15.9.38  T20940.sgml   ChHead 296 (Birch 449)                Prose\n",
       "246       B1.1.40.2  T02480.sgml     &AE;CHom I, 38 (App)                Prose\n",
       "2460   B27.3.15.2.2  T24530.sgml              MkMarg (Li)                Prose\n",
       "2736          C89.1  T27290.sgml   OccGl 89.1 (Schlutter)  Interlinear Glosses\n",
       "1203      B15.1.199  T11950.sgml     Ch IWm (Galbraith 2)                Prose\n",
       "1118      B15.1.112  T11090.sgml        Ch 1110 (Harm 62)                Prose\n",
       "92            A3.25  T00930.sgml                      Res               Poetry\n",
       "1443       B15.8.30  T14340.sgml       Ch 211 (Birch 514)                Prose\n",
       "385          B1.8.1  T03880.sgml  &AE;Let 1 (Wulfsige Xa)                Prose"
      ]
     },
     "execution_count": 30,
     "metadata": {},
     "output_type": "execute_result"
    }
   ],
   "source": [
    "def txt_type_fn(s):\n",
    "    if s[0]==\"A\":\n",
    "        return \"Poetry\"\n",
    "    elif s[0]==\"B\":\n",
    "        return \"Prose\"\n",
    "    elif s[0]==\"C\":\n",
    "        return \"Interlinear Glosses\"\n",
    "    elif s[0]==\"D\":\n",
    "        return \"Glossaries\"\n",
    "    elif s[0]==\"E\":\n",
    "        return \"Runic Inscriptions\"\n",
    "    elif s[0]==\"F\":\n",
    "        return \"Inscriptions in the Latin Alphabet\"\n",
    "\n",
    "text_list = pd.DataFrame(text_list_dict)\n",
    "text_list['text_type'] = text_list['cameron_number'].apply(txt_type_fn)\n",
    "text_list.sample(10)"
   ]
  },
  {
   "cell_type": "code",
   "execution_count": 31,
   "metadata": {},
   "outputs": [
    {
     "data": {
      "text/plain": [
       "text_type\n",
       "Glossaries                             147\n",
       "Inscriptions in the Latin Alphabet      61\n",
       "Interlinear Glosses                    284\n",
       "Poetry                                 202\n",
       "Prose                                 2298\n",
       "Runic Inscriptions                      45\n",
       "Name: cameron_number, dtype: int64"
      ]
     },
     "execution_count": 31,
     "metadata": {},
     "output_type": "execute_result"
    }
   ],
   "source": [
    "text_list.groupby('text_type')['cameron_number'].count()"
   ]
  },
  {
   "cell_type": "code",
   "execution_count": 336,
   "metadata": {},
   "outputs": [
    {
     "data": {
      "text/html": [
       "<div>\n",
       "<style>\n",
       "    .dataframe thead tr:only-child th {\n",
       "        text-align: right;\n",
       "    }\n",
       "\n",
       "    .dataframe thead th {\n",
       "        text-align: left;\n",
       "    }\n",
       "\n",
       "    .dataframe tbody tr th {\n",
       "        vertical-align: top;\n",
       "    }\n",
       "</style>\n",
       "<table border=\"1\" class=\"dataframe\">\n",
       "  <thead>\n",
       "    <tr style=\"text-align: right;\">\n",
       "      <th></th>\n",
       "      <th>cameron_number</th>\n",
       "      <th>filename</th>\n",
       "      <th>short_title</th>\n",
       "      <th>text_type</th>\n",
       "    </tr>\n",
       "  </thead>\n",
       "  <tbody>\n",
       "    <tr>\n",
       "      <th>31</th>\n",
       "      <td>A3.22.1</td>\n",
       "      <td>T00320.sgml</td>\n",
       "      <td>Rid 1</td>\n",
       "      <td>Poetry</td>\n",
       "    </tr>\n",
       "  </tbody>\n",
       "</table>\n",
       "</div>"
      ],
      "text/plain": [
       "   cameron_number     filename short_title text_type\n",
       "31        A3.22.1  T00320.sgml       Rid 1    Poetry"
      ]
     },
     "execution_count": 336,
     "metadata": {},
     "output_type": "execute_result"
    }
   ],
   "source": [
    "text_list[text_list['filename']=='T00320.sgml']"
   ]
  },
  {
   "cell_type": "code",
   "execution_count": 337,
   "metadata": {
    "collapsed": true
   },
   "outputs": [],
   "source": [
    "file = path+'T00320.sgml'\n",
    "raw = open(file).read()"
   ]
  },
  {
   "cell_type": "code",
   "execution_count": 338,
   "metadata": {
    "collapsed": true
   },
   "outputs": [],
   "source": [
    "soup = BeautifulSoup(raw,'html.parser')"
   ]
  },
  {
   "cell_type": "code",
   "execution_count": 339,
   "metadata": {},
   "outputs": [
    {
     "name": "stdout",
     "output_type": "stream",
     "text": [
      "<tei.2 id=\"T00320\">\n",
      "<teiheader>\n",
      "<filedesc>\n",
      "<titlestmt>\n",
      "<title type=\"st\">Rid 1</title>\n",
      "<title type=\"ss\">Rid 1</title></titlestmt>\n",
      "<editionstmt><edition n=\"2\"><date>January 2000</date></edition></editionstmt>\n",
      "<extent>~2 KB, 4 citations</extent>\n",
      "<publicationstmt><publisher>Dictionary of Old English</publisher>\n",
      "<address><addrline>130 St. George St. Rm. 14285</addrline>\n",
      "<addrline>University of Toronto</addrline>\n",
      "<addrline>Toronto, Ontario</addrline>\n",
      "<addrline>M5S 3H1</addrline>\n",
      "<addrline>CANADA</addrline>\n",
      "</address>\n",
      "<idno>A3.22.1</idno>\n",
      "<availability><p>\n",
      "We ask that you not copy and/or (re)distribute the corpus without the written consent of the Dictionary of Old English.  The individual scholar must take responsibility for clearing copyright with the editors and publishers of the editions used in his/her own citations of the material.</p></availability></publicationstmt>\n",
      "<sourcedesc><bibl>Riddles 1:<author n=\"Krapp and Dobbie 1936\">Krapp and Dobbie 1936,</author>180 <edition><title>The Exeter Book</title>, ASPR 3 (New York)</edition>.</bibl></sourcedesc></filedesc>\n",
      "<encodingdesc><refsdecl><p>\n",
      "Cited by line no. following ed.</p></refsdecl></encodingdesc>\n",
      "<profiledesc><textclass><catref target=\"V\"></catref></textclass></profiledesc>\n",
      "<revisiondesc><change><date>January 2000</date>\n",
      "<respstmt><name>DOE</name><resp>staff</resp></respstmt><item>\n",
      "Updated the bibliographic information from the Healey-Venezky \"List of Texts\".\n",
      "</item>\n",
      "</change></revisiondesc></teiheader>\n",
      "<text><body><p>\n",
      "<s id=\"T00320000100\" n=\"1\"> Hwylc is h&amp;ae;le&amp;t;a &amp;t;&amp;ae;s horsc ond &amp;t;&amp;ae;s hygecr&amp;ae;ftig &amp;t;&amp;ae;t &amp;t;&amp;ae;t m&amp;ae;ge asecgan, hwa mec on si&amp;d; wr&amp;ae;ce, &amp;t;onne ic astige strong, stundum re&amp;t;e, &amp;t;rymful &amp;t;unie, &amp;t;ragum wr&amp;ae;ce fere geond foldan, folcsalo b&amp;ae;rne, r&amp;ae;ced reafige?</s>\n",
      "<s id=\"T00320000200\" n=\"6\"> Recas stiga&amp;d;, haswe ofer hrofum.</s>\n",
      "<s id=\"T00320000300\" n=\"7\"> Hlin bi&amp;d; on eor&amp;t;an, w&amp;ae;lcwealm wera, &amp;t;onne ic wudu hrere, bearwas bledhwate, beamas fylle, holme gehrefed, <corr>heahum</corr> meahtum <corr>wrecen</corr> on wa&amp;t;e, wide sended; h&amp;ae;bbe me on hrycge &amp;t;&amp;ae;t &amp;ae;r hadas wreah foldbuendra, fl&amp;ae;sc ond g&amp;ae;stas, somod on sunde.</s>\n",
      "<s id=\"T00320000400\" n=\"14\"> Saga hwa mec &amp;t;ecce, o&amp;t;&amp;t;e hu ic hatte, &amp;t;e &amp;t;a hl&amp;ae;st bere.</s>\n",
      "</p></body></text></tei.2>\n",
      "\n"
     ]
    }
   ],
   "source": [
    "print(soup)"
   ]
  },
  {
   "cell_type": "code",
   "execution_count": 340,
   "metadata": {},
   "outputs": [
    {
     "data": {
      "text/plain": [
       "'Rid 1'"
      ]
     },
     "execution_count": 340,
     "metadata": {},
     "output_type": "execute_result"
    }
   ],
   "source": [
    "title=soup.find('title',{'type':'st'}).get_text()\n",
    "title"
   ]
  },
  {
   "cell_type": "code",
   "execution_count": 342,
   "metadata": {},
   "outputs": [
    {
     "data": {
      "text/plain": [
       "' Hwylc is h&ae;le&t;a &t;&ae;s horsc ond &t;&ae;s hygecr&ae;ftig &t;&ae;t &t;&ae;t m&ae;ge asecgan, hwa mec on si&d; wr&ae;ce, &t;onne ic astige strong, stundum re&t;e, &t;rymful &t;unie, &t;ragum wr&ae;ce fere geond foldan, folcsalo b&ae;rne, r&ae;ced reafige?'"
      ]
     },
     "execution_count": 342,
     "metadata": {},
     "output_type": "execute_result"
    }
   ],
   "source": [
    "sentences = soup.findAll('s')\n",
    "sentences[0].get_text()"
   ]
  },
  {
   "cell_type": "code",
   "execution_count": 32,
   "metadata": {
    "collapsed": true
   },
   "outputs": [],
   "source": [
    "file2 = path+'T29200.sgml'\n",
    "raw2 = open(file2).read()\n",
    "soup2 = BeautifulSoup(raw2,'html.parser')"
   ]
  },
  {
   "cell_type": "code",
   "execution_count": 33,
   "metadata": {},
   "outputs": [
    {
     "data": {
      "text/plain": [
       "[<s id=\"T29200000100\" n=\"1\"> <hi rend=\"rune\">Gessus kristtus.</hi></s>,\n",
       " <s id=\"T29200000200\" n=\"2\"> <hi rend=\"rune\">&amp;T;is <corr>sigbeacn</corr> setton hw&amp;ae;tred <corr>&amp;t;g&amp;ae;r</corr> <corr>awwo</corr> <corr>ft</corr> <corr>lcfrim</corr> &amp;ae; <corr>n</corr> <corr>gung</corr> <corr>cb</corr> <corr>ung</corr> <corr>gebid</corr> <corr>soo</corr>.</hi></s>,\n",
       " <s id=\"T29200000300\" n=\"3\"> <hi rend=\"rune\"><corr>Ssus</corr>.</hi></s>,\n",
       " <s id=\"T29200000400\" n=\"4\"> <hi rend=\"rune\">Kyniburug.</hi></s>,\n",
       " <s id=\"T29200000500\" n=\"5\"> <hi rend=\"rune\">Ric&amp;ae;s dryhtn&amp;ae;s.</hi></s>]"
      ]
     },
     "execution_count": 33,
     "metadata": {},
     "output_type": "execute_result"
    }
   ],
   "source": [
    "soup2.findAll('s')"
   ]
  },
  {
   "cell_type": "code",
   "execution_count": 46,
   "metadata": {
    "collapsed": true
   },
   "outputs": [],
   "source": [
    "class DOEC_text(object):\n",
    "    def __init__(self,path): \n",
    "        self.path=path\n",
    "        self.title=''\n",
    "        self.sentences=[]\n",
    "        self.split_sentences=[]\n",
    "        \n",
    "    def special_char_convert(self,sent):\n",
    "        char_lookup = {\n",
    "            '&AE;':'Æ','&D;':'Ð','&T;':'Þ' ,'&ae;':'æ' ,'&amacron;':'a'  \n",
    "            ,'&amp;':'&' ,'&bbar;':'b','&cmacron;':'c','&d;':'ð' ,'&e;':'e'\n",
    "            ,'&emacron;':'e','&imacron;':'i','&lbar;':'l','&nmacron;':'n'\n",
    "            ,'&oe;':'œ','&omacron;':'o'  ,'&pmacron;':'p'  ,'&qmacron;':'q'  \n",
    "            ,'&rmacron;':'r' ,'&t;':'þ' ,'&tbar;':'þ','&Alpha;':'A','&Eta;':'E'\n",
    "            ,'&Lambda;':'Λ','&Nu;':'N','&Omega;':'Ω','&Omicron;':'O','&Rho;':'P'\n",
    "            ,'&Tau;':'T','&omega;':'ω'\n",
    "        }\n",
    "        for spec_char in char_lookup.keys():\n",
    "            sent=re.sub(spec_char,char_lookup[spec_char],sent)\n",
    "        return sent        \n",
    "        \n",
    "    def read_file(self,foreign_words='remove'):\n",
    "        raw = open(self.path).read()\n",
    "        soup = BeautifulSoup(raw,'html.parser')\n",
    "        self.title = soup.find('title',{'type':'st'}).get_text()\n",
    "        tagged_sentences = soup.findAll('s')\n",
    "        for s in tagged_sentences:            \n",
    "            if foreign_words=='remove':\n",
    "                foreign = s.findAll('foreign')\n",
    "                for f in foreign:\n",
    "                    f.extract()\n",
    "            s = s.get_text().strip()        \n",
    "            s = self.special_char_convert(s).lower()\n",
    "            self.sentences.append(s)\n",
    "        return self\n",
    "    \n",
    "    def sentence_splitter(self,punctuation=False):\n",
    "        for s in self.sentences:\n",
    "            if punctuation:\n",
    "                # separate punctuation\n",
    "                s=re.sub('(?<=\\w)([,.&;:?\\\"!\\-\\(\\)\\'])', r' \\1', s)\n",
    "            else:\n",
    "                s = re.sub('[^a-zæþð ]','',s)\n",
    "            self.split_sentences.append([s.split(' ')])"
   ]
  },
  {
   "cell_type": "code",
   "execution_count": 47,
   "metadata": {},
   "outputs": [],
   "source": [
    "rune = DOEC_text(path+'T29200.sgml').read_file()"
   ]
  },
  {
   "cell_type": "code",
   "execution_count": 64,
   "metadata": {},
   "outputs": [
    {
     "data": {
      "text/plain": [
       "'RuneBewcastle'"
      ]
     },
     "execution_count": 64,
     "metadata": {},
     "output_type": "execute_result"
    }
   ],
   "source": [
    "rune.title"
   ]
  },
  {
   "cell_type": "code",
   "execution_count": 48,
   "metadata": {},
   "outputs": [
    {
     "data": {
      "text/plain": [
       "['gessus kristtus.',\n",
       " 'þis sigbeacn setton hwætred þgær awwo ft lcfrim æ n gung cb ung gebid soo.',\n",
       " 'ssus.',\n",
       " 'kyniburug.',\n",
       " 'ricæs dryhtnæs.']"
      ]
     },
     "execution_count": 48,
     "metadata": {},
     "output_type": "execute_result"
    }
   ],
   "source": [
    "rune.sentences"
   ]
  },
  {
   "cell_type": "code",
   "execution_count": 52,
   "metadata": {},
   "outputs": [
    {
     "name": "stdout",
     "output_type": "stream",
     "text": [
      "[[['gessus', 'kristtus']], [['þis', 'sigbeacn', 'setton', 'hwætred', 'þgær', 'awwo', 'ft', 'lcfrim', 'æ', 'n', 'gung', 'cb', 'ung', 'gebid', 'soo']], [['ssus']], [['kyniburug']], [['ricæs', 'dryhtnæs']], [['gessus', 'kristtus']], [['þis', 'sigbeacn', 'setton', 'hwætred', 'þgær', 'awwo', 'ft', 'lcfrim', 'æ', 'n', 'gung', 'cb', 'ung', 'gebid', 'soo']], [['ssus']], [['kyniburug']], [['ricæs', 'dryhtnæs']], [['gessus', 'kristtus']], [['þis', 'sigbeacn', 'setton', 'hwætred', 'þgær', 'awwo', 'ft', 'lcfrim', 'æ', 'n', 'gung', 'cb', 'ung', 'gebid', 'soo']], [['ssus']], [['kyniburug']], [['ricæs', 'dryhtnæs']], [['gessus', 'kristtus', '.']], [['þis', 'sigbeacn', 'setton', 'hwætred', 'þgær', 'awwo', 'ft', 'lcfrim', 'æ', 'n', 'gung', 'cb', 'ung', 'gebid', 'soo', '.']], [['ssus', '.']], [['kyniburug', '.']], [['ricæs', 'dryhtnæs', '.']]]\n"
     ]
    }
   ],
   "source": [
    "rune.sentence_splitter(punctuation=True)\n",
    "print(rune.split_sentences)"
   ]
  },
  {
   "cell_type": "code",
   "execution_count": 260,
   "metadata": {},
   "outputs": [
    {
     "data": {
      "text/plain": [
       "['ricæs', 'dryhtnæs.']"
      ]
     },
     "execution_count": 260,
     "metadata": {},
     "output_type": "execute_result"
    }
   ],
   "source": [
    "t='ricæs dryhtnæs.'\n",
    "t = t.sub()\n",
    "t.split(' ')"
   ]
  },
  {
   "cell_type": "code",
   "execution_count": 166,
   "metadata": {},
   "outputs": [
    {
     "name": "stdout",
     "output_type": "stream",
     "text": [
      "Beorht wæron burgræced, burnsele monige, heah horngestreon, heresweg micel, meodoheall monig M dreama full, oþþæt þæt onwende wyrd seo swiþe.\n"
     ]
    }
   ],
   "source": [
    "sent = sentences[5].get_text().strip()\n",
    "#print(sent)\n",
    "print(special_char_convert(sent))"
   ]
  },
  {
   "cell_type": "code",
   "execution_count": 53,
   "metadata": {},
   "outputs": [
    {
     "data": {
      "text/plain": [
       "[<s id=\"T26320000100\" n=\"1\"> <foreign>ignitis</foreign> of.</s>,\n",
       " <s id=\"T26320000200\" n=\"2\"> <foreign>arridet</foreign> ongrynt o&amp;d;&amp;d;e ongrata&amp;d;.</s>,\n",
       " <s id=\"T26320000300\" n=\"3\"> <foreign>uertigine</foreign> swing.</s>]"
      ]
     },
     "execution_count": 53,
     "metadata": {},
     "output_type": "execute_result"
    }
   ],
   "source": [
    "file3 = path+'T26320.sgml'\n",
    "raw3 = open(file3).read()\n",
    "soup3 = BeautifulSoup(raw3,'html.parser')\n",
    "soup3.findAll('s')"
   ]
  },
  {
   "cell_type": "code",
   "execution_count": 54,
   "metadata": {},
   "outputs": [
    {
     "data": {
      "text/plain": [
       "<s id=\"T26320000200\" n=\"2\"> <foreign>arridet</foreign> ongrynt o&amp;d;&amp;d;e ongrata&amp;d;.</s>"
      ]
     },
     "execution_count": 54,
     "metadata": {},
     "output_type": "execute_result"
    }
   ],
   "source": [
    "s = soup3.findAll('s')[1]\n",
    "s"
   ]
  },
  {
   "cell_type": "code",
   "execution_count": 55,
   "metadata": {},
   "outputs": [
    {
     "data": {
      "text/plain": [
       "[<foreign>arridet</foreign>]"
      ]
     },
     "execution_count": 55,
     "metadata": {},
     "output_type": "execute_result"
    }
   ],
   "source": [
    "foreign = s.findAll('foreign')\n",
    "foreign"
   ]
  },
  {
   "cell_type": "code",
   "execution_count": 56,
   "metadata": {},
   "outputs": [
    {
     "name": "stdout",
     "output_type": "stream",
     "text": [
      "ongrynt o&d;&d;e ongrata&d;.\n"
     ]
    }
   ],
   "source": [
    "for f in foreign:\n",
    "    f.extract()\n",
    "print(s.get_text().strip())"
   ]
  },
  {
   "cell_type": "code",
   "execution_count": 61,
   "metadata": {},
   "outputs": [
    {
     "data": {
      "text/plain": [
       "3037"
      ]
     },
     "execution_count": 61,
     "metadata": {},
     "output_type": "execute_result"
    }
   ],
   "source": [
    "# all poems and prose works- exclude incriptions and glosses\n",
    "#texts = text_list[text_list['text_type'].isin(['Poetry','Prose'])]['filename'].tolist()\n",
    "texts = text_list['filename'].tolist()\n",
    "text_types = text_list['text_type'].tolist()\n",
    "len(texts)"
   ]
  },
  {
   "cell_type": "code",
   "execution_count": 67,
   "metadata": {},
   "outputs": [],
   "source": [
    "token_dict = {}\n",
    "token_set = set()\n",
    "char_dict = {}\n",
    "char_set = set()\n",
    "text_dict = {\"title\":[],\"sentences\":[],\"words\":[],\"type\":[]}\n",
    "\n",
    "for i in range(len(texts)):\n",
    "    text_t = DOEC_text(path+texts[i]).read_file()\n",
    "    sent_count = 0\n",
    "    word_count = 0\n",
    "    for s in text_t.sentences:\n",
    "        sent_count += 1\n",
    "        for t in s.split(' '):        \n",
    "            for c in t:\n",
    "                if c in char_set:\n",
    "                    char_dict[c] += 1                \n",
    "                else:\n",
    "                    char_dict[c] = 1\n",
    "                    char_set.add(c)\n",
    "            t = re.sub('[^a-zæþð]','',t).strip()\n",
    "            if t != '':\n",
    "                word_count+=1\n",
    "                if t in token_set:\n",
    "                    token_dict[t] += 1\n",
    "                else:\n",
    "                    token_dict[t] = 1\n",
    "                    token_set.add(t)\n",
    "    text_dict['title'].append(text_t.title)\n",
    "    text_dict[\"sentences\"].append(sent_count)\n",
    "    text_dict[\"words\"].append(word_count)\n",
    "    text_dict[\"type\"].append(text_types[i])\n",
    "    "
   ]
  },
  {
   "cell_type": "code",
   "execution_count": 72,
   "metadata": {},
   "outputs": [
    {
     "data": {
      "text/html": [
       "<div>\n",
       "<style>\n",
       "    .dataframe thead tr:only-child th {\n",
       "        text-align: right;\n",
       "    }\n",
       "\n",
       "    .dataframe thead th {\n",
       "        text-align: left;\n",
       "    }\n",
       "\n",
       "    .dataframe tbody tr th {\n",
       "        vertical-align: top;\n",
       "    }\n",
       "</style>\n",
       "<table border=\"1\" class=\"dataframe\">\n",
       "  <thead>\n",
       "    <tr style=\"text-align: right;\">\n",
       "      <th></th>\n",
       "      <th>sentences</th>\n",
       "      <th>title</th>\n",
       "      <th>type</th>\n",
       "      <th>words</th>\n",
       "    </tr>\n",
       "  </thead>\n",
       "  <tbody>\n",
       "    <tr>\n",
       "      <th>0</th>\n",
       "      <td>2565</td>\n",
       "      <td>CP</td>\n",
       "      <td>Prose</td>\n",
       "      <td>65329</td>\n",
       "    </tr>\n",
       "    <tr>\n",
       "      <th>1</th>\n",
       "      <td>1940</td>\n",
       "      <td>Bo</td>\n",
       "      <td>Prose</td>\n",
       "      <td>45269</td>\n",
       "    </tr>\n",
       "    <tr>\n",
       "      <th>2</th>\n",
       "      <td>2088</td>\n",
       "      <td>ChronE (Plummer)</td>\n",
       "      <td>Prose</td>\n",
       "      <td>42693</td>\n",
       "    </tr>\n",
       "    <tr>\n",
       "      <th>3</th>\n",
       "      <td>2447</td>\n",
       "      <td>PsGlI (Lindelöf)</td>\n",
       "      <td>Interlinear Glosses</td>\n",
       "      <td>34656</td>\n",
       "    </tr>\n",
       "    <tr>\n",
       "      <th>4</th>\n",
       "      <td>2115</td>\n",
       "      <td>LibSc</td>\n",
       "      <td>Interlinear Glosses</td>\n",
       "      <td>33771</td>\n",
       "    </tr>\n",
       "  </tbody>\n",
       "</table>\n",
       "</div>"
      ],
      "text/plain": [
       "   sentences             title                 type  words\n",
       "0       2565                CP                Prose  65329\n",
       "1       1940                Bo                Prose  45269\n",
       "2       2088  ChronE (Plummer)                Prose  42693\n",
       "3       2447  PsGlI (Lindelöf)  Interlinear Glosses  34656\n",
       "4       2115             LibSc  Interlinear Glosses  33771"
      ]
     },
     "execution_count": 72,
     "metadata": {},
     "output_type": "execute_result"
    }
   ],
   "source": [
    "text_metadata = pd.DataFrame(text_dict)\n",
    "text_metadata = text_metadata.sort_values('words',ascending=False).reset_index(drop=True)\n",
    "text_metadata.head()"
   ]
  },
  {
   "cell_type": "code",
   "execution_count": 71,
   "metadata": {},
   "outputs": [
    {
     "data": {
      "text/html": [
       "<div>\n",
       "<style>\n",
       "    .dataframe thead tr:only-child th {\n",
       "        text-align: right;\n",
       "    }\n",
       "\n",
       "    .dataframe thead th {\n",
       "        text-align: left;\n",
       "    }\n",
       "\n",
       "    .dataframe tbody tr th {\n",
       "        vertical-align: top;\n",
       "    }\n",
       "</style>\n",
       "<table border=\"1\" class=\"dataframe\">\n",
       "  <thead>\n",
       "    <tr style=\"text-align: right;\">\n",
       "      <th></th>\n",
       "      <th>sentences</th>\n",
       "      <th>words</th>\n",
       "    </tr>\n",
       "    <tr>\n",
       "      <th>type</th>\n",
       "      <th></th>\n",
       "      <th></th>\n",
       "    </tr>\n",
       "  </thead>\n",
       "  <tbody>\n",
       "    <tr>\n",
       "      <th>Prose</th>\n",
       "      <td>97900</td>\n",
       "      <td>2036489</td>\n",
       "    </tr>\n",
       "    <tr>\n",
       "      <th>Interlinear Glosses</th>\n",
       "      <td>65239</td>\n",
       "      <td>658802</td>\n",
       "    </tr>\n",
       "    <tr>\n",
       "      <th>Poetry</th>\n",
       "      <td>9106</td>\n",
       "      <td>177479</td>\n",
       "    </tr>\n",
       "    <tr>\n",
       "      <th>Glossaries</th>\n",
       "      <td>29844</td>\n",
       "      <td>26387</td>\n",
       "    </tr>\n",
       "    <tr>\n",
       "      <th>Runic Inscriptions</th>\n",
       "      <td>76</td>\n",
       "      <td>341</td>\n",
       "    </tr>\n",
       "    <tr>\n",
       "      <th>Inscriptions in the Latin Alphabet</th>\n",
       "      <td>86</td>\n",
       "      <td>305</td>\n",
       "    </tr>\n",
       "  </tbody>\n",
       "</table>\n",
       "</div>"
      ],
      "text/plain": [
       "                                    sentences    words\n",
       "type                                                  \n",
       "Prose                                   97900  2036489\n",
       "Interlinear Glosses                     65239   658802\n",
       "Poetry                                   9106   177479\n",
       "Glossaries                              29844    26387\n",
       "Runic Inscriptions                         76      341\n",
       "Inscriptions in the Latin Alphabet         86      305"
      ]
     },
     "execution_count": 71,
     "metadata": {},
     "output_type": "execute_result"
    }
   ],
   "source": [
    "text_metadata.groupby('type')['sentences','words'].sum().sort_values('words',ascending=False)"
   ]
  },
  {
   "cell_type": "code",
   "execution_count": 350,
   "metadata": {},
   "outputs": [
    {
     "data": {
      "text/html": [
       "<div>\n",
       "<style>\n",
       "    .dataframe thead tr:only-child th {\n",
       "        text-align: right;\n",
       "    }\n",
       "\n",
       "    .dataframe thead th {\n",
       "        text-align: left;\n",
       "    }\n",
       "\n",
       "    .dataframe tbody tr th {\n",
       "        vertical-align: top;\n",
       "    }\n",
       "</style>\n",
       "<table border=\"1\" class=\"dataframe\">\n",
       "  <thead>\n",
       "    <tr style=\"text-align: right;\">\n",
       "      <th></th>\n",
       "      <th>token</th>\n",
       "      <th>freq</th>\n",
       "      <th>pct_of_corpus</th>\n",
       "    </tr>\n",
       "  </thead>\n",
       "  <tbody>\n",
       "    <tr>\n",
       "      <th>0</th>\n",
       "      <td>on</td>\n",
       "      <td>61906</td>\n",
       "      <td>0.027962</td>\n",
       "    </tr>\n",
       "    <tr>\n",
       "      <th>1</th>\n",
       "      <td>and</td>\n",
       "      <td>51832</td>\n",
       "      <td>0.023411</td>\n",
       "    </tr>\n",
       "    <tr>\n",
       "      <th>2</th>\n",
       "      <td>þæt</td>\n",
       "      <td>49287</td>\n",
       "      <td>0.022262</td>\n",
       "    </tr>\n",
       "    <tr>\n",
       "      <th>3</th>\n",
       "      <td>he</td>\n",
       "      <td>43021</td>\n",
       "      <td>0.019432</td>\n",
       "    </tr>\n",
       "    <tr>\n",
       "      <th>4</th>\n",
       "      <td>þa</td>\n",
       "      <td>41498</td>\n",
       "      <td>0.018744</td>\n",
       "    </tr>\n",
       "    <tr>\n",
       "      <th>5</th>\n",
       "      <td>to</td>\n",
       "      <td>41451</td>\n",
       "      <td>0.018722</td>\n",
       "    </tr>\n",
       "    <tr>\n",
       "      <th>6</th>\n",
       "      <td>þe</td>\n",
       "      <td>32039</td>\n",
       "      <td>0.014471</td>\n",
       "    </tr>\n",
       "    <tr>\n",
       "      <th>7</th>\n",
       "      <td>his</td>\n",
       "      <td>25809</td>\n",
       "      <td>0.011657</td>\n",
       "    </tr>\n",
       "    <tr>\n",
       "      <th>8</th>\n",
       "      <td>se</td>\n",
       "      <td>25538</td>\n",
       "      <td>0.011535</td>\n",
       "    </tr>\n",
       "    <tr>\n",
       "      <th>9</th>\n",
       "      <td>mid</td>\n",
       "      <td>23944</td>\n",
       "      <td>0.010815</td>\n",
       "    </tr>\n",
       "    <tr>\n",
       "      <th>10</th>\n",
       "      <td>swa</td>\n",
       "      <td>23615</td>\n",
       "      <td>0.010666</td>\n",
       "    </tr>\n",
       "    <tr>\n",
       "      <th>11</th>\n",
       "      <td>ne</td>\n",
       "      <td>22990</td>\n",
       "      <td>0.010384</td>\n",
       "    </tr>\n",
       "    <tr>\n",
       "      <th>12</th>\n",
       "      <td>him</td>\n",
       "      <td>19335</td>\n",
       "      <td>0.008733</td>\n",
       "    </tr>\n",
       "    <tr>\n",
       "      <th>13</th>\n",
       "      <td>þam</td>\n",
       "      <td>18854</td>\n",
       "      <td>0.008516</td>\n",
       "    </tr>\n",
       "    <tr>\n",
       "      <th>14</th>\n",
       "      <td>ic</td>\n",
       "      <td>16448</td>\n",
       "      <td>0.007429</td>\n",
       "    </tr>\n",
       "  </tbody>\n",
       "</table>\n",
       "</div>"
      ],
      "text/plain": [
       "   token   freq  pct_of_corpus\n",
       "0     on  61906       0.027962\n",
       "1    and  51832       0.023411\n",
       "2    þæt  49287       0.022262\n",
       "3     he  43021       0.019432\n",
       "4     þa  41498       0.018744\n",
       "5     to  41451       0.018722\n",
       "6     þe  32039       0.014471\n",
       "7    his  25809       0.011657\n",
       "8     se  25538       0.011535\n",
       "9    mid  23944       0.010815\n",
       "10   swa  23615       0.010666\n",
       "11    ne  22990       0.010384\n",
       "12   him  19335       0.008733\n",
       "13   þam  18854       0.008516\n",
       "14    ic  16448       0.007429"
      ]
     },
     "execution_count": 350,
     "metadata": {},
     "output_type": "execute_result"
    }
   ],
   "source": [
    "token_count = pd.DataFrame.from_dict(token_dict,orient='index').reset_index()\n",
    "token_count.columns = ['token','freq']\n",
    "token_count = token_count.sort_values('freq',ascending=False).reset_index(drop=True)\n",
    "token_count['pct_of_corpus'] = token_count['freq']/sum(token_count['freq'])\n",
    "token_count.head(15)"
   ]
  },
  {
   "cell_type": "code",
   "execution_count": 335,
   "metadata": {},
   "outputs": [
    {
     "data": {
      "text/plain": [
       "[<matplotlib.lines.Line2D at 0x11bee1518>]"
      ]
     },
     "execution_count": 335,
     "metadata": {},
     "output_type": "execute_result"
    },
    {
     "data": {
      "image/png": "[encoded data removed]",
      "text/plain": [
       "<matplotlib.figure.Figure at 0x11cdd2ef0>"
      ]
     },
     "metadata": {},
     "output_type": "display_data"
    }
   ],
   "source": [
    "plt.figure(figsize=(20,8))\n",
    "plt.plot(np.cumsum(token_count['freq']),'k-')"
   ]
  },
  {
   "cell_type": "code",
   "execution_count": 334,
   "metadata": {},
   "outputs": [
    {
     "data": {
      "text/plain": [
       "[<matplotlib.lines.Line2D at 0x11cdad780>]"
      ]
     },
     "execution_count": 334,
     "metadata": {},
     "output_type": "execute_result"
    },
    {
     "data": {
      "image/png": "[encoded data removed]",
      "text/plain": [
       "<matplotlib.figure.Figure at 0x11e0989e8>"
      ]
     },
     "metadata": {},
     "output_type": "display_data"
    }
   ],
   "source": [
    "plt.figure(figsize=(20,8))\n",
    "plt.plot(np.cumsum(sent_count['freq']),'k-')"
   ]
  },
  {
   "cell_type": "code",
   "execution_count": 325,
   "metadata": {},
   "outputs": [
    {
     "name": "stdout",
     "output_type": "stream",
     "text": [
      "number of texts: 2500\n",
      "total sentences: 107006\n",
      "total tokens: 2213968\n",
      "unique tokens: 131505\n",
      "pct of tokens seen only once: 0.558754419984031\n"
     ]
    }
   ],
   "source": [
    "print(\"number of texts:\",sent_count.shape[0])\n",
    "print(\"total sentences:\",sum(sent_count['freq']))\n",
    "print(\"total tokens:\",sum(token_count['freq']))\n",
    "print(\"unique tokens:\",token_count.shape[0])\n",
    "print(\"pct of tokens seen only once:\",token_count[token_count['freq']==1].shape[0]/token_count.shape[0])"
   ]
  },
  {
   "cell_type": "code",
   "execution_count": 318,
   "metadata": {},
   "outputs": [
    {
     "name": "stdout",
     "output_type": "stream",
     "text": [
      "   char     freq\n",
      "0     e  1427556\n",
      "1     n   912942\n",
      "2     a   811677\n",
      "3     o   622847\n",
      "4     s   570640\n",
      "5     i   527899\n",
      "6     r   510941\n",
      "7     d   458272\n",
      "8     t   419973\n",
      "9     l   390791\n",
      "10    h   368742\n",
      "11    g   356943\n",
      "12    m   352195\n",
      "13    þ   314143\n",
      "14    æ   301545\n",
      "15    w   290607\n",
      "16    c   283551\n",
      "17    u   269915\n",
      "18    f   252574\n",
      "19    ð   227981\n",
      "20    y   170114\n",
      "21    ,   153438\n",
      "22    b   140823\n",
      "23    .   121079\n",
      "24    &    75827\n",
      "25    p    51099\n",
      "26    ;    17468\n",
      "27    :    10645\n",
      "28    x     9458\n",
      "29    k     3193\n",
      "30    ?     3180\n",
      "31    v     1724\n",
      "32    z      640\n",
      "33    q      357\n",
      "34    \"      186\n",
      "35    j      176\n",
      "36    -       62\n",
      "37    (       62\n",
      "38    )       62\n",
      "39    '       46\n",
      "40    !       15\n",
      "41    1        2\n",
      "42    2        2\n",
      "43    œ        1\n"
     ]
    }
   ],
   "source": [
    "char_count = pd.DataFrame.from_dict(char_dict,orient='index').reset_index()\n",
    "char_count.columns = ['char','freq']\n",
    "char_count = char_count.sort_values('freq',ascending=False).reset_index(drop=True)\n",
    "print(char_count)"
   ]
  },
  {
   "cell_type": "code",
   "execution_count": null,
   "metadata": {
    "collapsed": true
   },
   "outputs": [],
   "source": []
  }
 ],
 "metadata": {
  "kernelspec": {
   "display_name": "Python 3",
   "language": "python",
   "name": "python3"
  },
  "language_info": {
   "codemirror_mode": {
    "name": "ipython",
    "version": 3
   },
   "file_extension": ".py",
   "mimetype": "text/x-python",
   "name": "python",
   "nbconvert_exporter": "python",
   "pygments_lexer": "ipython3",
   "version": "3.6.1"
  }
 },
 "nbformat": 4,
 "nbformat_minor": 2
}
