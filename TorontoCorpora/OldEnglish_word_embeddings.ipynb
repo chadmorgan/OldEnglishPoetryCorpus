{
 "cells": [
  {
   "cell_type": "markdown",
   "metadata": {},
   "source": [
    "# Old English word embeddings\n",
    " \n",
    " <img style=\"float: right;\" src=\"./wyrm.gif\" width=\"250\">  \n",
    " \n",
    "Learning various word embeddings for Old English words using the [Dictionary of Old English Corpus](https://www.doe.utoronto.ca/pages/index.html). This is a complete corpus of the surviving Old English texts. Old English was a West Germanic language spoken in England from 500 to around 1100 AD, and the forerunner to Middle and Modern English. \n",
    "\n",
    "Because of its proclivity towards compound words, like many West Germanic langauges, Old English has many *Hapax legomena*: words seen only once in the entire corpus. Because of this, I hypothesize that embeddings that capture sub-lexical patterns should perform better than embeddings that represent the whole word as a unique token.\n",
    "\n"
   ]
  },
  {
   "cell_type": "code",
   "execution_count": 26,
   "metadata": {
    "collapsed": true
   },
   "outputs": [],
   "source": [
    "import re\n",
    "import os\n",
    "from bs4 import BeautifulSoup\n",
    "from bs4 import NavigableString,Tag\n",
    "import html5lib\n",
    "from DOECparser import DOEC_text"
   ]
  },
  {
   "cell_type": "code",
   "execution_count": 8,
   "metadata": {
    "collapsed": true
   },
   "outputs": [],
   "source": [
    "import pandas as pd\n",
    "import numpy as np\n",
    "import gensim"
   ]
  },
  {
   "cell_type": "markdown",
   "metadata": {},
   "source": [
    "### Get metadata on each text"
   ]
  },
  {
   "cell_type": "code",
   "execution_count": 10,
   "metadata": {},
   "outputs": [
    {
     "data": {
      "text/html": [
       "<div>\n",
       "<style>\n",
       "    .dataframe thead tr:only-child th {\n",
       "        text-align: right;\n",
       "    }\n",
       "\n",
       "    .dataframe thead th {\n",
       "        text-align: left;\n",
       "    }\n",
       "\n",
       "    .dataframe tbody tr th {\n",
       "        vertical-align: top;\n",
       "    }\n",
       "</style>\n",
       "<table border=\"1\" class=\"dataframe\">\n",
       "  <thead>\n",
       "    <tr style=\"text-align: right;\">\n",
       "      <th></th>\n",
       "      <th>cameron_number</th>\n",
       "      <th>filename</th>\n",
       "      <th>short_title</th>\n",
       "      <th>text_type</th>\n",
       "      <th>sentences</th>\n",
       "      <th>words</th>\n",
       "    </tr>\n",
       "  </thead>\n",
       "  <tbody>\n",
       "    <tr>\n",
       "      <th>0</th>\n",
       "      <td>A1.1</td>\n",
       "      <td>T00010.sgml</td>\n",
       "      <td>GenA,B</td>\n",
       "      <td>Poetry</td>\n",
       "      <td>917</td>\n",
       "      <td>17075</td>\n",
       "    </tr>\n",
       "    <tr>\n",
       "      <th>1</th>\n",
       "      <td>A1.2</td>\n",
       "      <td>T00020.sgml</td>\n",
       "      <td>Ex</td>\n",
       "      <td>Poetry</td>\n",
       "      <td>173</td>\n",
       "      <td>2974</td>\n",
       "    </tr>\n",
       "    <tr>\n",
       "      <th>2</th>\n",
       "      <td>A1.3</td>\n",
       "      <td>T00030.sgml</td>\n",
       "      <td>Dan</td>\n",
       "      <td>Poetry</td>\n",
       "      <td>219</td>\n",
       "      <td>4472</td>\n",
       "    </tr>\n",
       "    <tr>\n",
       "      <th>3</th>\n",
       "      <td>A1.4</td>\n",
       "      <td>T00040.sgml</td>\n",
       "      <td>Sat</td>\n",
       "      <td>Poetry</td>\n",
       "      <td>252</td>\n",
       "      <td>4381</td>\n",
       "    </tr>\n",
       "    <tr>\n",
       "      <th>4</th>\n",
       "      <td>A2.1</td>\n",
       "      <td>T00050.sgml</td>\n",
       "      <td>And</td>\n",
       "      <td>Poetry</td>\n",
       "      <td>571</td>\n",
       "      <td>9288</td>\n",
       "    </tr>\n",
       "  </tbody>\n",
       "</table>\n",
       "</div>"
      ],
      "text/plain": [
       "  cameron_number     filename short_title text_type  sentences  words\n",
       "0           A1.1  T00010.sgml      GenA,B    Poetry        917  17075\n",
       "1           A1.2  T00020.sgml          Ex    Poetry        173   2974\n",
       "2           A1.3  T00030.sgml         Dan    Poetry        219   4472\n",
       "3           A1.4  T00040.sgml         Sat    Poetry        252   4381\n",
       "4           A2.1  T00050.sgml         And    Poetry        571   9288"
      ]
     },
     "execution_count": 10,
     "metadata": {},
     "output_type": "execute_result"
    }
   ],
   "source": [
    "path = '../../DOEC_complete/2488/sgml-corpus/'\n",
    "text_metadata = pd.read_csv(path+'DOEC_text_metadata.csv')\n",
    "text_metadata.head()"
   ]
  },
  {
   "cell_type": "markdown",
   "metadata": {
    "collapsed": true
   },
   "source": [
    "### Read in every poetry and prose text\n",
    "\n",
    "We will exclude glosses and inscriptions"
   ]
  },
  {
   "cell_type": "code",
   "execution_count": 36,
   "metadata": {},
   "outputs": [],
   "source": [
    "texts = text_metadata[text_metadata['text_type'].isin(['Poetry','Prose'])]['filename'].tolist()\n",
    "#texts = ['T00010.sgml']"
   ]
  },
  {
   "cell_type": "code",
   "execution_count": 37,
   "metadata": {
    "collapsed": true
   },
   "outputs": [],
   "source": [
    "corpus_lines = []\n",
    "for i in range(len(texts)):\n",
    "    text_t = DOEC_text(path+texts[i]).read_file()\n",
    "    text_t.sentence_splitter()\n",
    "    for sent in text_t.split_sentences:\n",
    "        if len(sent[0])>1:\n",
    "            corpus_lines.append(sent[0])"
   ]
  },
  {
   "cell_type": "code",
   "execution_count": 38,
   "metadata": {},
   "outputs": [
    {
     "data": {
      "text/plain": [
       "103360"
      ]
     },
     "execution_count": 38,
     "metadata": {},
     "output_type": "execute_result"
    }
   ],
   "source": [
    "len(corpus_lines)"
   ]
  },
  {
   "cell_type": "markdown",
   "metadata": {},
   "source": [
    "# Learn embeddings"
   ]
  },
  {
   "cell_type": "markdown",
   "metadata": {},
   "source": [
    "### Word2Vec:  skipgram, 7 negative samples, window = 7"
   ]
  },
  {
   "cell_type": "code",
   "execution_count": 103,
   "metadata": {},
   "outputs": [],
   "source": [
    "w2v_skipgram = gensim.models.Word2Vec(size=300, window=7, min_count=1, workers=8, sg=1,\n",
    "                                     negative=7)"
   ]
  },
  {
   "cell_type": "code",
   "execution_count": 104,
   "metadata": {},
   "outputs": [
    {
     "data": {
      "text/plain": [
       "130411"
      ]
     },
     "execution_count": 104,
     "metadata": {},
     "output_type": "execute_result"
    }
   ],
   "source": [
    "w2v_skipgram.build_vocab(corpus_lines)\n",
    "len(w2v_skipgram.wv.vocab)"
   ]
  },
  {
   "cell_type": "code",
   "execution_count": 105,
   "metadata": {},
   "outputs": [
    {
     "name": "stdout",
     "output_type": "stream",
     "text": [
      "CPU times: user 14min 51s, sys: 3 s, total: 14min 54s\n",
      "Wall time: 3min 54s\n"
     ]
    },
    {
     "data": {
      "text/plain": [
       "27072673"
      ]
     },
     "execution_count": 105,
     "metadata": {},
     "output_type": "execute_result"
    }
   ],
   "source": [
    "%%time\n",
    "w2v_skipgram.train(corpus_lines\n",
    "                   ,total_examples=w2v_skipgram.corpus_count\n",
    "                   ,epochs=15\n",
    "                   ,compute_loss=True)"
   ]
  },
  {
   "cell_type": "markdown",
   "metadata": {},
   "source": [
    "### Word2Vec:  skipgram, hierarchical sampling, window = 7"
   ]
  },
  {
   "cell_type": "code",
   "execution_count": 106,
   "metadata": {
    "collapsed": true
   },
   "outputs": [],
   "source": [
    "w2v_skipgram_hs = gensim.models.Word2Vec(size=300, window=7, min_count=1, workers=8, hs=1)"
   ]
  },
  {
   "cell_type": "code",
   "execution_count": 107,
   "metadata": {},
   "outputs": [
    {
     "data": {
      "text/plain": [
       "130411"
      ]
     },
     "execution_count": 107,
     "metadata": {},
     "output_type": "execute_result"
    }
   ],
   "source": [
    "w2v_skipgram_hs.build_vocab(corpus_lines)\n",
    "len(w2v_skipgram_hs.wv.vocab)"
   ]
  },
  {
   "cell_type": "code",
   "execution_count": 108,
   "metadata": {},
   "outputs": [
    {
     "name": "stdout",
     "output_type": "stream",
     "text": [
      "CPU times: user 5min 56s, sys: 1.91 s, total: 5min 58s\n",
      "Wall time: 1min 39s\n"
     ]
    },
    {
     "data": {
      "text/plain": [
       "27072764"
      ]
     },
     "execution_count": 108,
     "metadata": {},
     "output_type": "execute_result"
    }
   ],
   "source": [
    "%%time\n",
    "w2v_skipgram_hs.train(corpus_lines\n",
    "                   ,total_examples=w2v_skipgram.corpus_count\n",
    "                   ,epochs=15\n",
    "                   ,compute_loss=True)"
   ]
  },
  {
   "cell_type": "markdown",
   "metadata": {},
   "source": [
    "### FastText"
   ]
  },
  {
   "cell_type": "code",
   "execution_count": 112,
   "metadata": {
    "collapsed": true
   },
   "outputs": [],
   "source": [
    "fasttext = gensim.models.FastText(size=300, window=7, min_count=1, workers=8, sg=1, \n",
    "                                 negative=7,\n",
    "                                 word_ngrams=1,min_n=2,max_n=6)"
   ]
  },
  {
   "cell_type": "code",
   "execution_count": 113,
   "metadata": {},
   "outputs": [
    {
     "data": {
      "text/plain": [
       "130411"
      ]
     },
     "execution_count": 113,
     "metadata": {},
     "output_type": "execute_result"
    }
   ],
   "source": [
    "fasttext.build_vocab(corpus_lines)\n",
    "len(fasttext.wv.vocab)"
   ]
  },
  {
   "cell_type": "code",
   "execution_count": 114,
   "metadata": {},
   "outputs": [
    {
     "name": "stdout",
     "output_type": "stream",
     "text": [
      "CPU times: user 13min 26s, sys: 3.49 s, total: 13min 29s\n",
      "Wall time: 3min 50s\n"
     ]
    }
   ],
   "source": [
    "%%time\n",
    "fasttext.train(corpus_lines\n",
    "               ,total_examples=fasttext.corpus_count\n",
    "               ,epochs=15)"
   ]
  },
  {
   "cell_type": "markdown",
   "metadata": {},
   "source": [
    "# Qualitative checks of embeddings\n",
    "\n",
    "## Nouns"
   ]
  },
  {
   "cell_type": "markdown",
   "metadata": {},
   "source": [
    "### Cyning = king\n",
    "Fasttext mostly gives alternate spellings and compounds containing this word. \n",
    "\n",
    "- guðcyning,guðkyning = good-king\n",
    "- ðeodcyning = nation-king\n",
    "- folccyning = people-king\n",
    "\n",
    "Word2Vec on the other hand gives a mix of alternate spellings, the synonym æþeling (\"prince / noble\"), inflections of Mercia (a powerful Anglo-Saxon kingdom), and a list of names of important Anglo-Saxon kings: Osweo, Alfred, Egbert."
   ]
  },
  {
   "cell_type": "code",
   "execution_count": 115,
   "metadata": {},
   "outputs": [
    {
     "data": {
      "text/plain": [
       "[('cyningwic', 0.9308552742004395),\n",
       " ('guðcyning', 0.9296610355377197),\n",
       " ('cyningæ', 0.9289181232452393),\n",
       " ('cyningc', 0.9288219213485718),\n",
       " ('cining', 0.9265061616897583),\n",
       " ('folccyning', 0.9183368682861328),\n",
       " ('eastcyning', 0.9179111123085022),\n",
       " ('guðkyning', 0.9177619218826294),\n",
       " ('cynning', 0.9173005819320679),\n",
       " ('kyning', 0.9166631698608398)]"
      ]
     },
     "execution_count": 115,
     "metadata": {},
     "output_type": "execute_result"
    }
   ],
   "source": [
    "fasttext.wv.most_similar(positive=['cyning'])"
   ]
  },
  {
   "cell_type": "code",
   "execution_count": 109,
   "metadata": {},
   "outputs": [
    {
     "data": {
      "text/plain": [
       "[('cining', 0.566181480884552),\n",
       " ('cing', 0.5258333683013916),\n",
       " ('cynincg', 0.489766925573349),\n",
       " ('herma', 0.47887736558914185),\n",
       " ('cyninge', 0.4763665199279785),\n",
       " ('madon', 0.4750809073448181),\n",
       " ('someron', 0.47457608580589294),\n",
       " ('partha', 0.47169744968414307),\n",
       " ('thenach', 0.46782156825065613),\n",
       " ('cyng', 0.46777451038360596)]"
      ]
     },
     "execution_count": 109,
     "metadata": {},
     "output_type": "execute_result"
    }
   ],
   "source": [
    "w2v_skipgram.wv.most_similar(positive=['cyning'])"
   ]
  },
  {
   "cell_type": "code",
   "execution_count": 111,
   "metadata": {},
   "outputs": [
    {
     "data": {
      "text/plain": [
       "[('cing', 0.6217490434646606),\n",
       " ('cining', 0.5889766216278076),\n",
       " ('cynincg', 0.5676072835922241),\n",
       " ('cyningc', 0.5443241596221924),\n",
       " ('kyning', 0.5227587819099426),\n",
       " ('cyng', 0.5082994699478149),\n",
       " ('cyninge', 0.4633118808269501),\n",
       " ('casere', 0.4627220332622528),\n",
       " ('kasere', 0.4574437737464905),\n",
       " ('ealdormon', 0.44780227541923523)]"
      ]
     },
     "execution_count": 111,
     "metadata": {},
     "output_type": "execute_result"
    }
   ],
   "source": [
    "w2v_skipgram_hs.wv.most_similar(positive=['cyning'])"
   ]
  },
  {
   "cell_type": "markdown",
   "metadata": {},
   "source": [
    "### Feorh = soul, life\n",
    "\n",
    "Note: this word is used frequently in *Beowulf*\n",
    "\n",
    "Again, FastText gives alternate spellings and compounds as most similar.\n",
    "\n",
    "Word2Vec gives the plural form \"feores\" and a list of words that don't seem to be very close synonymns (arguable hæleþa is the closest). Possibly some of these may have been used in place of feorh in a metaphorical way (as Germanic poems are fond of doing).\n",
    "\n",
    "- Scyldinga = descendent from Scyld Scefing, i.e. a Dane\n",
    "- banan = slayer's\n",
    "- carcern = dungeon\n",
    "- hæleþa = heros, warriors, men\n",
    "- eðle = homeland\n",
    "- sinc = treasure\n",
    "- hrinan = touch"
   ]
  },
  {
   "cell_type": "code",
   "execution_count": 116,
   "metadata": {},
   "outputs": [
    {
     "data": {
      "text/plain": [
       "[('feorhræd', 0.9149259924888611),\n",
       " ('feorhgebeorh', 0.9044870138168335),\n",
       " ('feorhdolg', 0.9022006988525391),\n",
       " ('feorhseoc', 0.9001412391662598),\n",
       " ('feorhlif', 0.898395299911499),\n",
       " ('feorhadl', 0.8902829885482788),\n",
       " ('feorhbealu', 0.8769589066505432),\n",
       " ('feorg', 0.8765217065811157),\n",
       " ('feoroh', 0.8763668537139893),\n",
       " ('feorhbealo', 0.8749235272407532)]"
      ]
     },
     "execution_count": 116,
     "metadata": {},
     "output_type": "execute_result"
    }
   ],
   "source": [
    "fasttext.wv.most_similar(positive=['feorh'])"
   ]
  },
  {
   "cell_type": "code",
   "execution_count": 117,
   "metadata": {},
   "outputs": [
    {
     "data": {
      "text/plain": [
       "[('feorg', 0.5855077505111694),\n",
       " ('onwist', 0.5599532127380371),\n",
       " ('ealgian', 0.5524983406066895),\n",
       " ('magoræswan', 0.5391068458557129),\n",
       " ('frætwa', 0.5371189713478088),\n",
       " ('geyrne', 0.5327767133712769),\n",
       " ('feores', 0.5320269465446472),\n",
       " ('wedra', 0.5288721919059753),\n",
       " ('radost', 0.5286190509796143),\n",
       " ('uðgenge', 0.5285945534706116)]"
      ]
     },
     "execution_count": 117,
     "metadata": {},
     "output_type": "execute_result"
    }
   ],
   "source": [
    "w2v_skipgram.wv.most_similar(positive=['feorh'])"
   ]
  },
  {
   "cell_type": "code",
   "execution_count": 118,
   "metadata": {},
   "outputs": [
    {
     "data": {
      "text/plain": [
       "[('feores', 0.4086899161338806),\n",
       " ('lic', 0.3772948682308197),\n",
       " ('aldre', 0.3772868514060974),\n",
       " ('feore', 0.3678957223892212),\n",
       " ('carcern', 0.36658716201782227),\n",
       " ('steopmoder', 0.34895774722099304),\n",
       " ('aldor', 0.34359925985336304),\n",
       " ('ongynnisse', 0.34219813346862793),\n",
       " ('sið', 0.3409523367881775),\n",
       " ('eþel', 0.34078097343444824)]"
      ]
     },
     "execution_count": 118,
     "metadata": {},
     "output_type": "execute_result"
    }
   ],
   "source": [
    "w2v_skipgram_hs.wv.most_similar(positive=['feorh'])"
   ]
  },
  {
   "cell_type": "markdown",
   "metadata": {},
   "source": [
    "### Wyrm = serpent, dragon"
   ]
  },
  {
   "cell_type": "code",
   "execution_count": 119,
   "metadata": {},
   "outputs": [
    {
     "data": {
      "text/plain": [
       "[('wyrmfah', 0.8998173475265503),\n",
       " ('wyrp', 0.8878295421600342),\n",
       " ('wyrms', 0.887391984462738),\n",
       " ('slawyrm', 0.8822410702705383),\n",
       " ('wyrmsi', 0.8638601303100586),\n",
       " ('wyrmod', 0.8498482704162598),\n",
       " ('wyrma', 0.8465002775192261),\n",
       " ('wyrmcyn', 0.8428762555122375),\n",
       " ('wyrmð', 0.8350868225097656),\n",
       " ('wyrgðu', 0.8079687356948853)]"
      ]
     },
     "execution_count": 119,
     "metadata": {},
     "output_type": "execute_result"
    }
   ],
   "source": [
    "fasttext.wv.most_similar(positive=['wyrm'])"
   ]
  },
  {
   "cell_type": "code",
   "execution_count": 120,
   "metadata": {},
   "outputs": [
    {
     "data": {
      "text/plain": [
       "[('swelge', 0.6503645777702332),\n",
       " ('tuncersan', 0.6176624298095703),\n",
       " ('weaxsealf', 0.6163438558578491),\n",
       " ('rysele', 0.6114765405654907),\n",
       " ('bite', 0.6096867322921753),\n",
       " ('gedrince', 0.606326699256897),\n",
       " ('aþwænan', 0.6043746471405029),\n",
       " ('gæten', 0.6021493673324585),\n",
       " ('micgan', 0.5992810130119324),\n",
       " ('worms', 0.5991789698600769)]"
      ]
     },
     "execution_count": 120,
     "metadata": {},
     "output_type": "execute_result"
    }
   ],
   "source": [
    "w2v_skipgram.wv.most_similar(positive=['wyrm'])"
   ]
  },
  {
   "cell_type": "code",
   "execution_count": 121,
   "metadata": {},
   "outputs": [
    {
     "data": {
      "text/plain": [
       "[('fot', 0.4604165852069855),\n",
       " ('lig', 0.4559553563594818),\n",
       " ('searwum', 0.3889991343021393),\n",
       " ('seað', 0.37408506870269775),\n",
       " ('swile', 0.36562398076057434),\n",
       " ('horn', 0.35987937450408936),\n",
       " ('ra', 0.35331493616104126),\n",
       " ('þrexwold', 0.35093754529953003),\n",
       " ('leg', 0.3472810983657837),\n",
       " ('hunta', 0.34098267555236816)]"
      ]
     },
     "execution_count": 121,
     "metadata": {},
     "output_type": "execute_result"
    }
   ],
   "source": [
    "w2v_skipgram_hs.wv.most_similar(positive=['wyrm'])"
   ]
  },
  {
   "cell_type": "markdown",
   "metadata": {},
   "source": [
    "## Verbs\n",
    "\n",
    "### Beo = be"
   ]
  },
  {
   "cell_type": "code",
   "execution_count": 122,
   "metadata": {},
   "outputs": [
    {
     "data": {
      "text/plain": [
       "[('beoit', 0.8672382831573486),\n",
       " ('beonn', 0.7934653759002686),\n",
       " ('beod', 0.7904794216156006),\n",
       " ('beom', 0.7872384786605835),\n",
       " ('beoc', 0.7866171598434448),\n",
       " ('beotige', 0.7862136363983154),\n",
       " ('beonat', 0.7854796648025513),\n",
       " ('beot', 0.7851861715316772),\n",
       " ('beteo', 0.7799439430236816),\n",
       " ('beote', 0.7732082009315491)]"
      ]
     },
     "execution_count": 122,
     "metadata": {},
     "output_type": "execute_result"
    }
   ],
   "source": [
    "fasttext.wv.most_similar(positive=['beo'])"
   ]
  },
  {
   "cell_type": "code",
   "execution_count": 76,
   "metadata": {},
   "outputs": [
    {
     "data": {
      "text/plain": [
       "[('byð', 0.7594594955444336),\n",
       " ('sig', 0.7413039803504944),\n",
       " ('wurðe', 0.7262946367263794),\n",
       " ('sy', 0.7200414538383484),\n",
       " ('si', 0.7192427515983582),\n",
       " ('byd', 0.6763575077056885),\n",
       " ('gewurðe', 0.6673541069030762),\n",
       " ('underfo', 0.6545195579528809),\n",
       " ('stande', 0.6478850245475769),\n",
       " ('byst', 0.6473221778869629)]"
      ]
     },
     "execution_count": 76,
     "metadata": {},
     "output_type": "execute_result"
    }
   ],
   "source": [
    "w2v_skipgram.wv.most_similar(positive=['beo'])"
   ]
  },
  {
   "cell_type": "code",
   "execution_count": 123,
   "metadata": {},
   "outputs": [
    {
     "data": {
      "text/plain": [
       "[('sy', 0.6826016902923584),\n",
       " ('si', 0.6311945915222168),\n",
       " ('byð', 0.599108874797821),\n",
       " ('bið', 0.5752897262573242),\n",
       " ('sig', 0.5575801134109497),\n",
       " ('bist', 0.4888310432434082),\n",
       " ('cume', 0.48649322986602783),\n",
       " ('byst', 0.4778839647769928),\n",
       " ('wurðe', 0.4456484317779541),\n",
       " ('byþ', 0.43626153469085693)]"
      ]
     },
     "execution_count": 123,
     "metadata": {},
     "output_type": "execute_result"
    }
   ],
   "source": [
    "w2v_skipgram_hs.wv.most_similar(positive=['beo'])"
   ]
  },
  {
   "cell_type": "markdown",
   "metadata": {},
   "source": [
    "### Willan = to wish"
   ]
  },
  {
   "cell_type": "code",
   "execution_count": 83,
   "metadata": {},
   "outputs": [
    {
     "data": {
      "text/plain": [
       "[('wil', 0.9359115362167358),\n",
       " ('willat', 0.9171969890594482),\n",
       " ('willæ', 0.9115278720855713),\n",
       " ('iwill', 0.9002031683921814),\n",
       " ('willm', 0.895616352558136),\n",
       " ('willimot', 0.8786477446556091),\n",
       " ('willun', 0.8776760101318359),\n",
       " ('willabyg', 0.8757930994033813),\n",
       " ('willæn', 0.8712247610092163),\n",
       " ('willemot', 0.8691423535346985)]"
      ]
     },
     "execution_count": 83,
     "metadata": {},
     "output_type": "execute_result"
    }
   ],
   "source": [
    "fasttext.wv.most_similar(positive=['will'])"
   ]
  },
  {
   "cell_type": "code",
   "execution_count": 84,
   "metadata": {},
   "outputs": [
    {
     "data": {
      "text/plain": [
       "[('sal', 0.9215754270553589),\n",
       " ('euere', 0.9197388887405396),\n",
       " ('hauede', 0.9145123958587646),\n",
       " ('ther', 0.912217378616333),\n",
       " ('may', 0.9099560976028442),\n",
       " ('mikel', 0.9089739322662354),\n",
       " ('ilke', 0.9077520966529846),\n",
       " ('euer', 0.9058969616889954),\n",
       " ('goð', 0.9033337235450745),\n",
       " ('my', 0.903140664100647)]"
      ]
     },
     "execution_count": 84,
     "metadata": {},
     "output_type": "execute_result"
    }
   ],
   "source": [
    "w2v_skipgram.wv.most_similar(positive=['will'])"
   ]
  },
  {
   "cell_type": "markdown",
   "metadata": {},
   "source": [
    "### Seo = see"
   ]
  },
  {
   "cell_type": "code",
   "execution_count": 85,
   "metadata": {},
   "outputs": [
    {
     "data": {
      "text/plain": [
       "[('seok', 0.8226551413536072),\n",
       " ('seox', 0.7983690500259399),\n",
       " ('iseo', 0.7713162899017334),\n",
       " ('seoðe', 0.7677260041236877),\n",
       " ('seod', 0.7589434385299683),\n",
       " ('seogen', 0.7533072233200073),\n",
       " ('seonoðe', 0.7514855861663818),\n",
       " ('seofæn', 0.7501230239868164),\n",
       " ('seoþe', 0.749377965927124),\n",
       " ('þeos', 0.7478351593017578)]"
      ]
     },
     "execution_count": 85,
     "metadata": {},
     "output_type": "execute_result"
    }
   ],
   "source": [
    "fasttext.wv.most_similar(positive=['seo'])"
   ]
  },
  {
   "cell_type": "code",
   "execution_count": 86,
   "metadata": {},
   "outputs": [
    {
     "data": {
      "text/plain": [
       "[('þeos', 0.6924037337303162),\n",
       " ('sio', 0.6012263298034668),\n",
       " ('fæmne', 0.56919926404953),\n",
       " ('sunne', 0.5559064149856567),\n",
       " ('stow', 0.5449384450912476),\n",
       " ('ðeo', 0.5420321226119995),\n",
       " ('ðeos', 0.5267632603645325),\n",
       " ('þeo', 0.5217249393463135),\n",
       " ('forme', 0.52135169506073),\n",
       " ('cwen', 0.5133857727050781)]"
      ]
     },
     "execution_count": 86,
     "metadata": {},
     "output_type": "execute_result"
    }
   ],
   "source": [
    "w2v_skipgram.wv.most_similar(positive=['seo'])"
   ]
  },
  {
   "cell_type": "markdown",
   "metadata": {},
   "source": [
    "### Scan = shone"
   ]
  },
  {
   "cell_type": "code",
   "execution_count": 87,
   "metadata": {},
   "outputs": [
    {
     "data": {
      "text/plain": [
       "[('scacan', 0.9706835746765137),\n",
       " ('scancan', 0.9619744420051575),\n",
       " ('scadan', 0.9559793472290039),\n",
       " ('scuan', 0.9491746425628662),\n",
       " ('scafan', 0.9462645053863525),\n",
       " ('scagan', 0.9453237056732178),\n",
       " ('scuwan', 0.9410423040390015),\n",
       " ('sceancan', 0.9408941268920898),\n",
       " ('ycan', 0.9403120279312134),\n",
       " ('scuccan', 0.9401297569274902)]"
      ]
     },
     "execution_count": 87,
     "metadata": {},
     "output_type": "execute_result"
    }
   ],
   "source": [
    "fasttext.wv.most_similar(positive=['scan'])"
   ]
  },
  {
   "cell_type": "code",
   "execution_count": 88,
   "metadata": {},
   "outputs": [
    {
     "data": {
      "text/plain": [
       "[('dagunge', 0.926880955696106),\n",
       " ('sweartre', 0.9178236126899719),\n",
       " ('uhtan', 0.916837751865387),\n",
       " ('scima', 0.9160252809524536),\n",
       " ('upeode', 0.9137285947799683),\n",
       " ('neahte', 0.909358024597168),\n",
       " ('ðunor', 0.9064586162567139),\n",
       " ('regn', 0.9054130911827087),\n",
       " ('nontid', 0.9046434760093689),\n",
       " ('tohlad', 0.9038349390029907)]"
      ]
     },
     "execution_count": 88,
     "metadata": {},
     "output_type": "execute_result"
    }
   ],
   "source": [
    "w2v_skipgram.wv.most_similar(positive=['scan'])"
   ]
  },
  {
   "cell_type": "markdown",
   "metadata": {},
   "source": [
    "## Abjectives\n",
    "\n",
    "### Eald = old"
   ]
  },
  {
   "cell_type": "code",
   "execution_count": 124,
   "metadata": {},
   "outputs": [
    {
     "data": {
      "text/plain": [
       "[('ealdfind', 0.9155492782592773),\n",
       " ('ealdur', 0.9001302123069763),\n",
       " ('ealdwig', 0.8833523988723755),\n",
       " ('ealdæ', 0.8796008825302124),\n",
       " ('geald', 0.8776580095291138),\n",
       " ('ealdferð', 0.8776400089263916),\n",
       " ('ealdwif', 0.8748879432678223),\n",
       " ('ealdmetod', 0.873623788356781),\n",
       " ('ealdred', 0.8729549646377563),\n",
       " ('eadweald', 0.8710095286369324)]"
      ]
     },
     "execution_count": 124,
     "metadata": {},
     "output_type": "execute_result"
    }
   ],
   "source": [
    "fasttext.wv.most_similar(positive=['eald'])"
   ]
  },
  {
   "cell_type": "code",
   "execution_count": 125,
   "metadata": {},
   "outputs": [
    {
     "data": {
      "text/plain": [
       "[('endylfon', 0.5665035247802734),\n",
       " ('nihta', 0.5654948949813843),\n",
       " ('ateorod', 0.5626211166381836),\n",
       " ('eþelweard', 0.5415925979614258),\n",
       " ('sunð', 0.5403499007225037),\n",
       " ('fyrngeare', 0.536300539970398),\n",
       " ('mona', 0.5272260308265686),\n",
       " ('tel', 0.5196020603179932),\n",
       " ('wyntre', 0.5174105167388916),\n",
       " ('iunii', 0.5168569684028625)]"
      ]
     },
     "execution_count": 125,
     "metadata": {},
     "output_type": "execute_result"
    }
   ],
   "source": [
    "w2v_skipgram.wv.most_similar(positive=['eald'])"
   ]
  },
  {
   "cell_type": "code",
   "execution_count": 126,
   "metadata": {},
   "outputs": [
    {
     "data": {
      "text/plain": [
       "[('twentig', 0.3950759768486023),\n",
       " ('clænsigeanne', 0.3756531774997711),\n",
       " ('sumor', 0.3562009334564209),\n",
       " ('þrittig', 0.3560253977775574),\n",
       " ('aprilis', 0.3555823564529419),\n",
       " ('dead', 0.35175517201423645),\n",
       " ('frod', 0.3489319980144501),\n",
       " ('ealdne', 0.3457050919532776),\n",
       " ('februariusmonð', 0.34340110421180725),\n",
       " ('mai', 0.33607977628707886)]"
      ]
     },
     "execution_count": 126,
     "metadata": {},
     "output_type": "execute_result"
    }
   ],
   "source": [
    "w2v_skipgram_hs.wv.most_similar(positive=['eald'])"
   ]
  },
  {
   "cell_type": "markdown",
   "metadata": {},
   "source": [
    "### Micel = great"
   ]
  },
  {
   "cell_type": "code",
   "execution_count": 92,
   "metadata": {},
   "outputs": [
    {
     "data": {
      "text/plain": [
       "[('micell', 0.9547616243362427),\n",
       " ('midmicel', 0.9180570840835571),\n",
       " ('mycel', 0.905677318572998),\n",
       " ('emmicel', 0.9032089114189148),\n",
       " ('efnmicel', 0.8915281295776367),\n",
       " ('micelu', 0.8772553205490112),\n",
       " ('micellic', 0.8711910247802734),\n",
       " ('mycell', 0.8686025738716125),\n",
       " ('micelys', 0.857871413230896),\n",
       " ('emmycel', 0.8497353792190552)]"
      ]
     },
     "execution_count": 92,
     "metadata": {},
     "output_type": "execute_result"
    }
   ],
   "source": [
    "fasttext.wv.most_similar(positive=['micel'])"
   ]
  },
  {
   "cell_type": "code",
   "execution_count": 93,
   "metadata": {},
   "outputs": [
    {
     "data": {
      "text/plain": [
       "[('mycel', 0.8458054065704346),\n",
       " ('wæl', 0.6736177802085876),\n",
       " ('geslogon', 0.6557415127754211),\n",
       " ('unlytel', 0.6553495526313782),\n",
       " ('geslægen', 0.652004599571228),\n",
       " ('egeslic', 0.6513754725456238),\n",
       " ('gefeoht', 0.6414756774902344),\n",
       " ('gehwæþere', 0.6368350982666016),\n",
       " ('geslagen', 0.6359255909919739),\n",
       " ('wundorlic', 0.635911762714386)]"
      ]
     },
     "execution_count": 93,
     "metadata": {},
     "output_type": "execute_result"
    }
   ],
   "source": [
    "w2v_skipgram.wv.most_similar(positive=['micel'])"
   ]
  },
  {
   "cell_type": "markdown",
   "metadata": {},
   "source": [
    "### Yfel = bad"
   ]
  },
  {
   "cell_type": "code",
   "execution_count": 94,
   "metadata": {},
   "outputs": [
    {
     "data": {
      "text/plain": [
       "[('yfell', 0.9452179670333862),\n",
       " ('yfelo', 0.8896181583404541),\n",
       " ('yfelu', 0.8511879444122314),\n",
       " ('yfelæ', 0.8501334190368652),\n",
       " ('yfelsoð', 0.8486564755439758),\n",
       " ('yfol', 0.8382625579833984),\n",
       " ('yfelam', 0.8342252969741821),\n",
       " ('yffel', 0.8311987519264221),\n",
       " ('ðyfel', 0.8217541575431824),\n",
       " ('yfyl', 0.8201266527175903)]"
      ]
     },
     "execution_count": 94,
     "metadata": {},
     "output_type": "execute_result"
    }
   ],
   "source": [
    "fasttext.wv.most_similar(positive=['yfel'])"
   ]
  },
  {
   "cell_type": "code",
   "execution_count": 95,
   "metadata": {},
   "outputs": [
    {
     "data": {
      "text/plain": [
       "[('good', 0.7591409683227539),\n",
       " ('nauht', 0.7514868378639221),\n",
       " ('facen', 0.736697256565094),\n",
       " ('forðæmþe', 0.7362229824066162),\n",
       " ('facn', 0.7343299388885498),\n",
       " ('wiðerweard', 0.7302685976028442),\n",
       " ('wenen', 0.7287782430648804),\n",
       " ('goode', 0.7230398654937744),\n",
       " ('nanwuht', 0.7202662825584412),\n",
       " ('wyrcanne', 0.7200943231582642)]"
      ]
     },
     "execution_count": 95,
     "metadata": {},
     "output_type": "execute_result"
    }
   ],
   "source": [
    "w2v_skipgram.wv.most_similar(positive=['yfel'])"
   ]
  },
  {
   "cell_type": "markdown",
   "metadata": {},
   "source": [
    "## Numerals\n",
    "\n",
    "### Siex = six"
   ]
  },
  {
   "cell_type": "code",
   "execution_count": 97,
   "metadata": {},
   "outputs": [
    {
     "data": {
      "text/plain": [
       "[('siox', 0.9139299392700195),\n",
       " ('sielm', 0.8922587633132935),\n",
       " ('sifax', 0.8647642135620117),\n",
       " ('sieo', 0.8634213209152222),\n",
       " ('siexta', 0.8548995852470398),\n",
       " ('siþa', 0.8391749262809753),\n",
       " ('sient', 0.8310285806655884),\n",
       " ('six', 0.8277508020401001),\n",
       " ('siolf', 0.8229187726974487),\n",
       " ('sido', 0.822192370891571)]"
      ]
     },
     "execution_count": 97,
     "metadata": {},
     "output_type": "execute_result"
    }
   ],
   "source": [
    "fasttext.wv.most_similar(positive=['siex'])"
   ]
  },
  {
   "cell_type": "code",
   "execution_count": 98,
   "metadata": {},
   "outputs": [
    {
     "data": {
      "text/plain": [
       "[('syfan', 0.9511535167694092),\n",
       " ('eahtatyne', 0.9501603245735168),\n",
       " ('ðrittig', 0.9464792609214783),\n",
       " ('hundseofonti', 0.9444952607154846),\n",
       " ('seofontig', 0.9443520307540894),\n",
       " ('sixhund', 0.9425896406173706),\n",
       " ('hundeahtatigum', 0.9422545433044434),\n",
       " ('monþas', 0.9411824345588684),\n",
       " ('hundseofantig', 0.9360958337783813),\n",
       " ('chanan', 0.9348127841949463)]"
      ]
     },
     "execution_count": 98,
     "metadata": {},
     "output_type": "execute_result"
    }
   ],
   "source": [
    "w2v_skipgram.wv.most_similar(positive=['siex'])"
   ]
  },
  {
   "cell_type": "markdown",
   "metadata": {},
   "source": [
    "### Forma = first"
   ]
  },
  {
   "cell_type": "code",
   "execution_count": 100,
   "metadata": {},
   "outputs": [
    {
     "data": {
      "text/plain": [
       "[('formelta', 0.9107708930969238),\n",
       " ('formis', 0.8550630807876587),\n",
       " ('feorma', 0.8548452258110046),\n",
       " ('formosus', 0.8275351524353027),\n",
       " ('ferma', 0.8262588977813721),\n",
       " ('feorða', 0.8253859877586365),\n",
       " ('sexta', 0.8243184089660645),\n",
       " ('syxta', 0.8204258680343628),\n",
       " ('fifta', 0.8150545358657837),\n",
       " ('fisica', 0.8138123750686646)]"
      ]
     },
     "execution_count": 100,
     "metadata": {},
     "output_type": "execute_result"
    }
   ],
   "source": [
    "fasttext.wv.most_similar(positive=['forma'])"
   ]
  },
  {
   "cell_type": "code",
   "execution_count": 101,
   "metadata": {},
   "outputs": [
    {
     "data": {
      "text/plain": [
       "[('æresta', 0.9077373743057251),\n",
       " ('feorða', 0.886397659778595),\n",
       " ('æftera', 0.8814852833747864),\n",
       " ('ðridda', 0.88039231300354),\n",
       " ('twelfta', 0.8571304678916931),\n",
       " ('þridda', 0.855779230594635),\n",
       " ('syxta', 0.8556851744651794),\n",
       " ('ærra', 0.8526087403297424),\n",
       " ('teoða', 0.8523637056350708),\n",
       " ('fifta', 0.8485428094863892)]"
      ]
     },
     "execution_count": 101,
     "metadata": {},
     "output_type": "execute_result"
    }
   ],
   "source": [
    "w2v_skipgram.wv.most_similar(positive=['forma'])"
   ]
  },
  {
   "cell_type": "code",
   "execution_count": null,
   "metadata": {
    "collapsed": true
   },
   "outputs": [],
   "source": []
  }
 ],
 "metadata": {
  "kernelspec": {
   "display_name": "Python 3",
   "language": "python",
   "name": "python3"
  },
  "language_info": {
   "codemirror_mode": {
    "name": "ipython",
    "version": 3
   },
   "file_extension": ".py",
   "mimetype": "text/x-python",
   "name": "python",
   "nbconvert_exporter": "python",
   "pygments_lexer": "ipython3",
   "version": "3.6.1"
  }
 },
 "nbformat": 4,
 "nbformat_minor": 2
}
